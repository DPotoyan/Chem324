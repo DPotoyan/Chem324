{
 "cells": [
  {
   "cell_type": "code",
   "execution_count": 1,
   "metadata": {},
   "outputs": [],
   "source": [
    "# First load the libs\n",
    "import numpy as np\n",
    "import matplotlib.pyplot as plt\n",
    "from mpl_toolkits import mplot3d\n",
    "%matplotlib inline\n",
    "\n",
    "# a and load interactive widgets\n",
    "import ipywidgets as widgets\n",
    "from IPython.display import display\n",
    "\n",
    "#If your screen has retina display this will increase resolution of plots\n",
    "%config InlineBackend.figure_format = 'retina'"
   ]
  },
  {
   "cell_type": "code",
   "execution_count": 2,
   "metadata": {
    "inputHidden": false,
    "outputHidden": false
   },
   "outputs": [],
   "source": [
    "k = 1\t\t#base wavenumber\n",
    "dk = 0.01\t#the variation\n",
    "\n",
    "#create each of the waves\n",
    "psi = []\n",
    "for i in range(-50,50):\n",
    "\tran = (k+i*dk)*np.array(range(-100,100))\n",
    "\tpsi.append(np.sin(ran))\n",
    "\n",
    "#add all waves to get wavefunction\n",
    "psi = np.array(sum(psi))\n",
    "#normalize it\n",
    "psi = psi/np.sqrt(sum(psi.conjugate()*psi))\n",
    "\n",
    "#We have the normalized wave function\n",
    "\n",
    "#get expectation value of x\n",
    "exp_x = []\n",
    "for i in range(-100,100):\n",
    "\texp_x.append(psi.conjugate()[i+100]*i*psi[i+100])\n",
    "exp_x = sum(exp_x)\n",
    "\n",
    "#get expectation value of x^2\n",
    "exp_xs = []\n",
    "for i in range(-100,100):\n",
    "\texp_xs.append(psi.conjugate()[i+100]*i*i*psi[i+100])\n",
    "exp_xs = sum(exp_xs)\n",
    "\n",
    "#get deviation in x \n",
    "del_x = np.sqrt(exp_xs-exp_x**2)"
   ]
  },
  {
   "cell_type": "code",
   "execution_count": 3,
   "metadata": {
    "inputHidden": false,
    "outputHidden": false
   },
   "outputs": [],
   "source": [
    "def wave_add(x,n):\n",
    "    \n",
    "    wave=0\n",
    "    L=1\n",
    "    \n",
    "    for n in range(1,n):\n",
    "        \n",
    "        wave = wave + np.sin(n*np.pi*x/L) \n",
    "        \n",
    "    return wave"
   ]
  },
  {
   "cell_type": "code",
   "execution_count": 4,
   "metadata": {
    "inputHidden": false,
    "outputHidden": false
   },
   "outputs": [
    {
     "ename": "NameError",
     "evalue": "name 'Y2' is not defined",
     "output_type": "error",
     "traceback": [
      "\u001b[0;31m---------------------------------------------------------------------------\u001b[0m",
      "\u001b[0;31mNameError\u001b[0m                                 Traceback (most recent call last)",
      "\u001b[0;32m<ipython-input-4-699eec472b18>\u001b[0m in \u001b[0;36m<module>\u001b[0;34m\u001b[0m\n\u001b[1;32m      2\u001b[0m \u001b[0;34m\u001b[0m\u001b[0m\n\u001b[1;32m      3\u001b[0m \u001b[0;34m\u001b[0m\u001b[0m\n\u001b[0;32m----> 4\u001b[0;31m \u001b[0mplt\u001b[0m\u001b[0;34m.\u001b[0m\u001b[0mplot\u001b[0m\u001b[0;34m(\u001b[0m\u001b[0mX\u001b[0m\u001b[0;34m,\u001b[0m\u001b[0mY2\u001b[0m\u001b[0;34m+\u001b[0m\u001b[0mY\u001b[0m\u001b[0;34m)\u001b[0m\u001b[0;34m\u001b[0m\u001b[0;34m\u001b[0m\u001b[0m\n\u001b[0m",
      "\u001b[0;31mNameError\u001b[0m: name 'Y2' is not defined"
     ]
    }
   ],
   "source": [
    "X=np.linspace(0,1,100)\n",
    "\n",
    "\n",
    "plt.plot(X,Y2+Y)"
   ]
  },
  {
   "cell_type": "code",
   "execution_count": 5,
   "metadata": {
    "slideshow": {
     "slide_type": "slide"
    }
   },
   "outputs": [
    {
     "ename": "SyntaxError",
     "evalue": "invalid syntax (<ipython-input-5-68fed4a763e4>, line 9)",
     "output_type": "error",
     "traceback": [
      "\u001b[0;36m  File \u001b[0;32m\"<ipython-input-5-68fed4a763e4>\"\u001b[0;36m, line \u001b[0;32m9\u001b[0m\n\u001b[0;31m    psi2=**2\u001b[0m\n\u001b[0m          ^\u001b[0m\n\u001b[0;31mSyntaxError\u001b[0m\u001b[0;31m:\u001b[0m invalid syntax\n"
     ]
    }
   ],
   "source": [
    "# Plot wavefunction square for PIB\n",
    "\n",
    "def psi(n, L):\n",
    "    \n",
    "    x = np.linspace(0,L,100)\n",
    "    \n",
    "    psi = np.sqrt(2/L)*np.sin(n*np.pi*x/L)\n",
    "    \n",
    "    psi2=**2\n",
    "    \n",
    "    plt.plot(x,y2)"
   ]
  },
  {
   "cell_type": "code",
   "execution_count": 48,
   "metadata": {
    "slideshow": {
     "slide_type": "slide"
    }
   },
   "outputs": [
    {
     "data": {
      "application/vnd.jupyter.widget-view+json": {
       "model_id": "be929aeab51b4555ab1d35ffec2dff52",
       "version_major": 2,
       "version_minor": 0
      },
      "text/plain": [
       "interactive(children=(IntSlider(value=10, description='n', max=20, min=1), FloatSlider(value=1.25, description…"
      ]
     },
     "metadata": {},
     "output_type": "display_data"
    }
   ],
   "source": [
    "@widgets.interact(L=(0.5,2),n=(1,20))\n",
    "def psi(n, L):\n",
    "    \n",
    "    x = np.linspace(0,L,1000)\n",
    "    y = np.sqrt(2/L)*np.sin(n*np.pi*x/L)\n",
    "    y2=y**2\n",
    "    plt.plot(x, y2, color=\"blue\", lw=3)\n",
    "    \n",
    "    plt.xlim([-0.1,L+0.1])\n",
    "    plt.ylim([0,4])\n",
    "    \n",
    "    # Put two red lines to indicate boundaries\n",
    "    plt.axvline(0,0,10*L,color='red',lw=3)\n",
    "    plt.axvline(L,0,10*L,color='red',lw=3)\n",
    "    \n",
    "    # Label axis\n",
    "    plt.xlabel('x',fontsize=20)\n",
    "    plt.ylabel('$\\psi_n^2(x)$',fontsize=20)\n",
    "    \n",
    "    #Put tiltle\n",
    "    plt.title('n='+str(n))"
   ]
  }
 ],
 "metadata": {
  "kernel_info": {
   "name": "python3"
  },
  "kernelspec": {
   "display_name": "Python 3",
   "language": "python",
   "name": "python3"
  },
  "language_info": {
   "codemirror_mode": {
    "name": "ipython",
    "version": 3
   },
   "file_extension": ".py",
   "mimetype": "text/x-python",
   "name": "python",
   "nbconvert_exporter": "python",
   "pygments_lexer": "ipython3",
   "version": "3.6.7"
  },
  "nteract": {
   "version": "0.15.0"
  },
  "widgets": {
   "state": {
    "4a29fc959ce641ada994e2831dc7dc26": {
     "views": [
      {
       "cell_index": 2
      }
     ]
    }
   },
   "version": "1.2.0"
  }
 },
 "nbformat": 4,
 "nbformat_minor": 2
}
