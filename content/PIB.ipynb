{
  "cells": [
    {
      "cell_type": "code",
      "source": [
        "# First load the libs\n",
        "import numpy as np\n",
        "import matplotlib.pyplot as plt\n",
        "from mpl_toolkits import mplot3d\n",
        "%matplotlib inline\n",
        "\n",
        "# a and load interactive widgets\n",
        "import ipywidgets as widgets\n",
        "from IPython.display import display\n",
        "\n",
        "#If your screen has retina display this will increase resolution of plots\n",
        "%config InlineBackend.figure_format = 'retina'"
      ],
      "outputs": [],
      "execution_count": 2,
      "metadata": {}
    },
    {
      "cell_type": "code",
      "source": [
        "k = 1\t\t#base wavenumber\n",
        "dk = 0.01\t#the variation\n",
        "\n",
        "#create each of the waves\n",
        "psi = []\n",
        "for i in range(-50,50):\n",
        "\tran = (k+i*dk)*np.array(range(-100,100))\n",
        "\tpsi.append(np.sin(ran))\n",
        "\n",
        "#add all waves to get wavefunction\n",
        "psi = np.array(sum(psi))\n",
        "#normalize it\n",
        "psi = psi/np.sqrt(sum(psi.conjugate()*psi))\n",
        "\n",
        "#We have the normalized wave function\n",
        "\n",
        "#get expectation value of x\n",
        "exp_x = []\n",
        "for i in range(-100,100):\n",
        "\texp_x.append(psi.conjugate()[i+100]*i*psi[i+100])\n",
        "exp_x = sum(exp_x)\n",
        "\n",
        "#get expectation value of x^2\n",
        "exp_xs = []\n",
        "for i in range(-100,100):\n",
        "\texp_xs.append(psi.conjugate()[i+100]*i*i*psi[i+100])\n",
        "exp_xs = sum(exp_xs)\n",
        "\n",
        "#get deviation in x \n",
        "del_x = np.sqrt(exp_xs-exp_x**2)"
      ],
      "outputs": [],
      "execution_count": 3,
      "metadata": {
        "collapsed": false,
        "outputHidden": false,
        "inputHidden": false
      }
    },
    {
      "cell_type": "code",
      "source": [
        "def wave_add(x,n):\n",
        "    \n",
        "    wave=0\n",
        "    L=1\n",
        "    \n",
        "    for n in range(1,n):\n",
        "        \n",
        "        wave = wave + np.sin(n*np.pi*x/L) \n",
        "        \n",
        "    return wave"
      ],
      "outputs": [],
      "execution_count": 3,
      "metadata": {
        "collapsed": false,
        "outputHidden": false,
        "inputHidden": false
      }
    },
    {
      "cell_type": "code",
      "source": [
        "X=np.linspace(0,1,100)\n",
        "\n",
        "\n",
        "plt.plot(X,Y2+Y)"
      ],
      "outputs": [
        {
          "output_type": "execute_result",
          "execution_count": 10,
          "data": {
            "text/plain": [
              "[<matplotlib.lines.Line2D at 0x12469be10>]"
            ]
          },
          "metadata": {}
        },
        {
          "output_type": "display_data",
          "data": {
            "text/plain": [
              "<Figure size 432x288 with 1 Axes>"
            ],
            "image/png": "[encoded data removed]"
          },
          "metadata": {
            "image/png": {
              "width": 386,
              "height": 248
            },
            "needs_background": "light"
          }
        }
      ],
      "execution_count": 10,
      "metadata": {
        "collapsed": false,
        "outputHidden": false,
        "inputHidden": false
      }
    },
    {
      "cell_type": "code",
      "source": [
        "# Plot wavefunction square for PIB\n",
        "\n",
        "def psi(n, L):\n",
        "    \n",
        "    x = np.linspace(0,L,100)\n",
        "    \n",
        "    psi = np.sqrt(2/L)*np.sin(n*np.pi*x/L)\n",
        "    \n",
        "    psi2=**2\n",
        "    \n",
        "    plt.plot(x,y2)"
      ],
      "outputs": [],
      "execution_count": 26,
      "metadata": {
        "slideshow": {
          "slide_type": "slide"
        }
      }
    },
    {
      "cell_type": "code",
      "source": [
        "@widgets.interact(L=(0.5,2),n=(1,20))\n",
        "def psi(n, L):\n",
        "    \n",
        "    x = np.linspace(0,L,1000)\n",
        "    y = np.sqrt(2/L)*np.sin(n*np.pi*x/L)\n",
        "    y2=y**2\n",
        "    plt.plot(x, y2, color=\"blue\", lw=3)\n",
        "    \n",
        "    plt.xlim([-0.1,L+0.1])\n",
        "    plt.ylim([0,4])\n",
        "    \n",
        "    # Put two red lines to indicate boundaries\n",
        "    plt.axvline(0,0,10*L,color='red',lw=3)\n",
        "    plt.axvline(L,0,10*L,color='red',lw=3)\n",
        "    \n",
        "    # Label axis\n",
        "    plt.xlabel('x',fontsize=20)\n",
        "    plt.ylabel('$\\psi_n^2(x)$',fontsize=20)\n",
        "    \n",
        "    #Put tiltle\n",
        "    plt.title('n='+str(n))"
      ],
      "outputs": [
        {
          "output_type": "display_data",
          "data": {
            "application/vnd.jupyter.widget-view+json": {
              "model_id": "be929aeab51b4555ab1d35ffec2dff52",
              "version_major": 2,
              "version_minor": 0
            },
            "text/plain": [
              "interactive(children=(IntSlider(value=10, description='n', max=20, min=1), FloatSlider(value=1.25, description…"
            ]
          },
          "metadata": {}
        }
      ],
      "execution_count": 48,
      "metadata": {
        "slideshow": {
          "slide_type": "slide"
        }
      }
    }
  ],
  "metadata": {
    "kernelspec": {
      "name": "python3",
      "language": "python",
      "display_name": "Python 3"
    },
    "language_info": {
      "name": "python",
      "version": "3.6.7",
      "mimetype": "text/x-python",
      "codemirror_mode": {
        "name": "ipython",
        "version": 3
      },
      "pygments_lexer": "ipython3",
      "nbconvert_exporter": "python",
      "file_extension": ".py"
    },
    "widgets": {
      "state": {
        "4a29fc959ce641ada994e2831dc7dc26": {
          "views": [
            {
              "cell_index": 2
            }
          ]
        }
      },
      "version": "1.2.0"
    },
    "kernel_info": {
      "name": "python3"
    },
    "nteract": {
      "version": "0.15.0"
    }
  },
  "nbformat": 4,
  "nbformat_minor": 2
}