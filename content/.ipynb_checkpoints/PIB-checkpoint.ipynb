{
 "cells": [
  {
   "cell_type": "code",
   "execution_count": 5,
   "metadata": {},
   "outputs": [],
   "source": [
    "# First load the libs\n",
    "import numpy as np\n",
    "import matplotlib.pyplot as plt\n",
    "from mpl_toolkits import mplot3d\n",
    "%matplotlib inline\n",
    "\n",
    "# a and load interactive widgets\n",
    "import ipywidgets as widgets\n",
    "from IPython.display import display"
   ]
  },
  {
   "cell_type": "code",
   "execution_count": 6,
   "metadata": {},
   "outputs": [],
   "source": [
    "# Wavefunction\n",
    "def psi(n, x, L):\n",
    "    return np.sqrt(2/L)*np.sin(n*np.pi*x/L)"
   ]
  },
  {
   "cell_type": "code",
   "execution_count": 7,
   "metadata": {},
   "outputs": [
    {
     "data": {
      "application/vnd.jupyter.widget-view+json": {
       "model_id": "583eb898ac9d4a0cb2fae2bde0aa1a0d",
       "version_major": 2,
       "version_minor": 0
      },
      "text/plain": [
       "interactive(children=(FloatSlider(value=5.05, description='L', max=10.0, min=0.1), Output()), _dom_classes=('w…"
      ]
     },
     "metadata": {},
     "output_type": "display_data"
    }
   ],
   "source": [
    "\n",
    "@widgets.interact(L=(1,10))\n",
    "\n",
    "def plt_psi(L):\n",
    "    \n",
    "    x = np.linspace(0,L,200)\n",
    "    \n",
    "    nmax = 10\n",
    "\n",
    "    color_max=int(np.sqrt(Emax)*Lmax)+1\n",
    "    \n",
    "    \n",
    "    ###\n",
    "    fig, axes = plt.subplots(figsize=(10, 10))\n",
    "\n",
    "    #colorZ = [cm.jet(x) for x in np.linspace(0.0, 1.0,color_max)]\n",
    "\n",
    "    for n in range(1,nmax+1):\n",
    "        \n",
    "        plt.plot(x, psi(n,x,L)+(n/L)**2, c=colorZ[n], lw=3)\n",
    "        \n",
    "        plt.axhline((n/L)**2, 0, L, c='k')\n",
    "        "
   ]
  },
  {
   "cell_type": "code",
   "execution_count": 4,
   "metadata": {},
   "outputs": [
    {
     "data": {
      "application/vnd.jupyter.widget-view+json": {
       "model_id": "6a837819f88b4d62935895b254093e37",
       "version_major": 2,
       "version_minor": 0
      },
      "text/plain": [
       "interactive(children=(FloatSlider(value=1.0, description='L', max=6.0, min=1.0, step=0.2), Output()), _dom_cla…"
      ]
     },
     "metadata": {},
     "output_type": "display_data"
    },
    {
     "data": {
      "text/plain": [
       "<function __main__.plt_psi(L)>"
      ]
     },
     "execution_count": 4,
     "metadata": {},
     "output_type": "execute_result"
    }
   ],
   "source": [
    "# Varying the box size with a slider\n",
    "interact(plt_psi, L=FloatSlider(min=1,max=Lmax,step=0.2,value=1))"
   ]
  }
 ],
 "metadata": {
  "kernelspec": {
   "display_name": "Python 3",
   "language": "python",
   "name": "python3"
  },
  "language_info": {
   "codemirror_mode": {
    "name": "ipython",
    "version": 3
   },
   "file_extension": ".py",
   "mimetype": "text/x-python",
   "name": "python",
   "nbconvert_exporter": "python",
   "pygments_lexer": "ipython3",
   "version": "3.6.7"
  },
  "widgets": {
   "state": {
    "4a29fc959ce641ada994e2831dc7dc26": {
     "views": [
      {
       "cell_index": 2
      }
     ]
    }
   },
   "version": "1.2.0"
  }
 },
 "nbformat": 4,
 "nbformat_minor": 2
}
