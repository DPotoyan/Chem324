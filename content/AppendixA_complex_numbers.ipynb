{
 "cells": [
  {
   "cell_type": "markdown",
   "metadata": {},
   "source": [
    "# Complex numbers"
   ]
  },
  {
   "cell_type": "markdown",
   "metadata": {},
   "source": [
    "**Reccomended:** Watch the  following YouTube video \n",
    "[\"complex numbers are real, part-1\"](https://www.youtube.com/watch?v=T647CGsuOVU)"
   ]
  },
  {
   "cell_type": "markdown",
   "metadata": {},
   "source": [
    "### Complex Numbers\n",
    "\n",
    "A complex number has a **real part** $ x $ and a purely **imaginary part** $ y $.\n",
    "\n",
    "The Euclidean, polar, and trigonometric forms of a complex number $ z $ are:\n",
    "\n",
    "$$\n",
    "z = x + iy = re^{i\\theta} = r(\\cos{\\theta} + i \\sin{\\theta})\n",
    "$$\n",
    "\n",
    "The second equality above is known as **Euler’s formula**\n",
    "\n",
    "- [Euler](https://en.wikipedia.org/wiki/Leonhard_Euler) contributed many other formulas too!  \n",
    "\n",
    "\n",
    "The complex conjugate $ \\bar z $ of $ z $ is defined as\n",
    "\n",
    "$$\n",
    "\\bar z = r e^{-i \\theta} = r (\\cos{\\theta} - i \\sin{\\theta} )\n",
    "$$\n",
    "\n",
    "The value $x$ is the **real** part of $z$ and $y$ is the\n",
    "**imaginary** part of $z$.\n",
    "\n",
    "The symbol $ | z | $ = $ \\bar z z = r $ represents the **modulus** of $ z $.\n",
    "\n",
    "The value $ r $ is the Euclidean distance of vector $ (x,y) $ from the\n",
    "origin:\n",
    "\n",
    "$$\n",
    "r = |z| = \\sqrt{x^2 + y^2}\n",
    "$$\n",
    "\n",
    "The value $ \\theta $ is the angle of $ (x,y) $ with respect to the real axis.\n",
    "\n",
    "Evidently, the tangent of $ \\theta $ is $ \\left(\\frac{y}{x}\\right) $.\n",
    "\n",
    "Therefore,\n",
    "\n",
    "$$\n",
    "\\theta = \\tan^{-1} \\Big( \\frac{y}{x} \\Big)\n",
    "$$\n",
    "\n",
    "Three elementary trigonometric functions are\n",
    "\n",
    "$$\n",
    "\\cos{\\theta} = \\frac{x}{r} = \\frac{e^{i\\theta} + e^{-i\\theta}}{2} , \\quad\n",
    "\\sin{\\theta} = \\frac{y}{r} = \\frac{e^{i\\theta} - e^{-i\\theta}}{2i} , \\quad\n",
    "\\tan{\\theta} = \\frac{x}{y}\n",
    "$$\n",
    "\n",
    "We’ll need the following imports"
   ]
  },
  {
   "cell_type": "code",
   "execution_count": 2,
   "metadata": {},
   "outputs": [],
   "source": [
    "import numpy as np\n",
    "import matplotlib.pyplot as plt\n",
    "%matplotlib inline"
   ]
  },
  {
   "cell_type": "markdown",
   "metadata": {},
   "source": [
    "### An Example\n",
    "\n",
    "Consider the complex number $ z = 1 + \\sqrt{3} i $."
   ]
  },
  {
   "cell_type": "code",
   "execution_count": 30,
   "metadata": {},
   "outputs": [
    {
     "data": {
      "image/png": "[encoded data removed]",
      "text/plain": [
       "<Figure size 432x288 with 1 Axes>"
      ]
     },
     "metadata": {
      "needs_background": "light"
     },
     "output_type": "display_data"
    }
   ],
   "source": [
    "z=1+np.sqrt(3)*1j\n",
    "\n",
    "zeros=np.zeros(5)  # plot zero line\n",
    "\n",
    "plt.plot(zeros)\n",
    "\n",
    "plt.plot(z.real,z.imag, 'o',ms=10) # plot z\n",
    "\n",
    "zc=z.conjugate()\n",
    "\n",
    "plt.plot(zc.real,zc.imag, 'o',ms=10) # plot z conjugate\n",
    "\n",
    "z_abs=z*zc\n",
    "\n",
    "plt.plot(z_abs.real,z_abs.imag, 'o',ms=10) # plot z absolute\n",
    "\n",
    "plt.grid('on')"
   ]
  },
  {
   "cell_type": "markdown",
   "metadata": {},
   "source": [
    "Now let us make a polar plot\n",
    "\n",
    "For $ z = 1 + \\sqrt{3} i $, $ x = 1 $, $ y = \\sqrt{3} $.\n",
    "\n",
    "It follows that $ r = 2 $ and\n",
    "$ \\theta = \\tan^{-1}(\\sqrt{3}) = \\frac{\\pi}{3} = 60^o $.\n",
    "\n",
    "Let’s use Python to plot the trigonometric form of the complex number\n",
    "$ z = 1 + \\sqrt{3} i $."
   ]
  },
  {
   "cell_type": "code",
   "execution_count": 84,
   "metadata": {},
   "outputs": [
    {
     "data": {
      "text/plain": [
       "array([0.87126423, 0.46997678, 0.89503178, 0.5567709 , 0.7589629 ,\n",
       "       0.52179466, 0.08594299, 0.16110283, 1.01399965, 0.73264238])"
      ]
     },
     "execution_count": 84,
     "metadata": {},
     "output_type": "execute_result"
    }
   ],
   "source": []
  },
  {
   "cell_type": "code",
   "execution_count": 102,
   "metadata": {},
   "outputs": [
    {
     "ename": "TypeError",
     "evalue": "__init__() got an unexpected keyword argument 'projection'",
     "output_type": "error",
     "traceback": [
      "\u001b[0;31m---------------------------------------------------------------------------\u001b[0m",
      "\u001b[0;31mTypeError\u001b[0m                                 Traceback (most recent call last)",
      "\u001b[0;32m<ipython-input-102-253b3e6a3f55>\u001b[0m in \u001b[0;36m<module>\u001b[0;34m\u001b[0m\n\u001b[1;32m      5\u001b[0m \u001b[0;34m\u001b[0m\u001b[0m\n\u001b[1;32m      6\u001b[0m \u001b[0;31m# Plot\u001b[0m\u001b[0;34m\u001b[0m\u001b[0;34m\u001b[0m\u001b[0;34m\u001b[0m\u001b[0m\n\u001b[0;32m----> 7\u001b[0;31m \u001b[0mfig\u001b[0m\u001b[0;34m,\u001b[0m \u001b[0max\u001b[0m \u001b[0;34m=\u001b[0m \u001b[0mplt\u001b[0m\u001b[0;34m.\u001b[0m\u001b[0msubplots\u001b[0m\u001b[0;34m(\u001b[0m\u001b[0mprojection\u001b[0m\u001b[0;34m=\u001b[0m\u001b[0;34m'polar'\u001b[0m\u001b[0;34m)\u001b[0m\u001b[0;34m\u001b[0m\u001b[0;34m\u001b[0m\u001b[0m\n\u001b[0m\u001b[1;32m      8\u001b[0m \u001b[0;34m\u001b[0m\u001b[0m\n\u001b[1;32m      9\u001b[0m \u001b[0;34m\u001b[0m\u001b[0m\n",
      "\u001b[0;32m/anaconda/lib/python3.6/site-packages/matplotlib/pyplot.py\u001b[0m in \u001b[0;36msubplots\u001b[0;34m(nrows, ncols, sharex, sharey, squeeze, subplot_kw, gridspec_kw, **fig_kw)\u001b[0m\n\u001b[1;32m   1207\u001b[0m \u001b[0;34m\u001b[0m\u001b[0m\n\u001b[1;32m   1208\u001b[0m     \"\"\"\n\u001b[0;32m-> 1209\u001b[0;31m     \u001b[0mfig\u001b[0m \u001b[0;34m=\u001b[0m \u001b[0mfigure\u001b[0m\u001b[0;34m(\u001b[0m\u001b[0;34m**\u001b[0m\u001b[0mfig_kw\u001b[0m\u001b[0;34m)\u001b[0m\u001b[0;34m\u001b[0m\u001b[0;34m\u001b[0m\u001b[0m\n\u001b[0m\u001b[1;32m   1210\u001b[0m     axs = fig.subplots(nrows=nrows, ncols=ncols, sharex=sharex, sharey=sharey,\n\u001b[1;32m   1211\u001b[0m                        \u001b[0msqueeze\u001b[0m\u001b[0;34m=\u001b[0m\u001b[0msqueeze\u001b[0m\u001b[0;34m,\u001b[0m \u001b[0msubplot_kw\u001b[0m\u001b[0;34m=\u001b[0m\u001b[0msubplot_kw\u001b[0m\u001b[0;34m,\u001b[0m\u001b[0;34m\u001b[0m\u001b[0;34m\u001b[0m\u001b[0m\n",
      "\u001b[0;32m/anaconda/lib/python3.6/site-packages/matplotlib/pyplot.py\u001b[0m in \u001b[0;36mfigure\u001b[0;34m(num, figsize, dpi, facecolor, edgecolor, frameon, FigureClass, clear, **kwargs)\u001b[0m\n\u001b[1;32m    543\u001b[0m                                         \u001b[0mframeon\u001b[0m\u001b[0;34m=\u001b[0m\u001b[0mframeon\u001b[0m\u001b[0;34m,\u001b[0m\u001b[0;34m\u001b[0m\u001b[0;34m\u001b[0m\u001b[0m\n\u001b[1;32m    544\u001b[0m                                         \u001b[0mFigureClass\u001b[0m\u001b[0;34m=\u001b[0m\u001b[0mFigureClass\u001b[0m\u001b[0;34m,\u001b[0m\u001b[0;34m\u001b[0m\u001b[0;34m\u001b[0m\u001b[0m\n\u001b[0;32m--> 545\u001b[0;31m                                         **kwargs)\n\u001b[0m\u001b[1;32m    546\u001b[0m \u001b[0;34m\u001b[0m\u001b[0m\n\u001b[1;32m    547\u001b[0m         \u001b[0;32mif\u001b[0m \u001b[0mfigLabel\u001b[0m\u001b[0;34m:\u001b[0m\u001b[0;34m\u001b[0m\u001b[0;34m\u001b[0m\u001b[0m\n",
      "\u001b[0;32m/anaconda/lib/python3.6/site-packages/matplotlib/backend_bases.py\u001b[0m in \u001b[0;36mnew_figure_manager\u001b[0;34m(cls, num, *args, **kwargs)\u001b[0m\n\u001b[1;32m   3249\u001b[0m         \u001b[0;32mfrom\u001b[0m \u001b[0mmatplotlib\u001b[0m\u001b[0;34m.\u001b[0m\u001b[0mfigure\u001b[0m \u001b[0;32mimport\u001b[0m \u001b[0mFigure\u001b[0m\u001b[0;34m\u001b[0m\u001b[0;34m\u001b[0m\u001b[0m\n\u001b[1;32m   3250\u001b[0m         \u001b[0mfig_cls\u001b[0m \u001b[0;34m=\u001b[0m \u001b[0mkwargs\u001b[0m\u001b[0;34m.\u001b[0m\u001b[0mpop\u001b[0m\u001b[0;34m(\u001b[0m\u001b[0;34m'FigureClass'\u001b[0m\u001b[0;34m,\u001b[0m \u001b[0mFigure\u001b[0m\u001b[0;34m)\u001b[0m\u001b[0;34m\u001b[0m\u001b[0;34m\u001b[0m\u001b[0m\n\u001b[0;32m-> 3251\u001b[0;31m         \u001b[0mfig\u001b[0m \u001b[0;34m=\u001b[0m \u001b[0mfig_cls\u001b[0m\u001b[0;34m(\u001b[0m\u001b[0;34m*\u001b[0m\u001b[0margs\u001b[0m\u001b[0;34m,\u001b[0m \u001b[0;34m**\u001b[0m\u001b[0mkwargs\u001b[0m\u001b[0;34m)\u001b[0m\u001b[0;34m\u001b[0m\u001b[0;34m\u001b[0m\u001b[0m\n\u001b[0m\u001b[1;32m   3252\u001b[0m         \u001b[0;32mreturn\u001b[0m \u001b[0mcls\u001b[0m\u001b[0;34m.\u001b[0m\u001b[0mnew_figure_manager_given_figure\u001b[0m\u001b[0;34m(\u001b[0m\u001b[0mnum\u001b[0m\u001b[0;34m,\u001b[0m \u001b[0mfig\u001b[0m\u001b[0;34m)\u001b[0m\u001b[0;34m\u001b[0m\u001b[0;34m\u001b[0m\u001b[0m\n\u001b[1;32m   3253\u001b[0m \u001b[0;34m\u001b[0m\u001b[0m\n",
      "\u001b[0;31mTypeError\u001b[0m: __init__() got an unexpected keyword argument 'projection'"
     ]
    }
   ],
   "source": [
    "# Set parameters\n",
    "r = 2                        # multiply by *np.ones(10)\n",
    "θ = np.pi/3 # multiplying by *np.random.rand(10)\n",
    "\n",
    "\n",
    "# Plot\n",
    "  fig = plt.figure(figsize=(8, 8))\n",
    "ax = plt.subplot(projection='polar')\n",
    "\n",
    "ax.plot(θ,r, 'o', ms=10)             "
   ]
  },
  {
   "cell_type": "markdown",
   "metadata": {},
   "source": [
    "With a few more options we can annote the plot and connect with cartesian representation."
   ]
  },
  {
   "cell_type": "code",
   "execution_count": 80,
   "metadata": {},
   "outputs": [
    {
     "data": {
      "image/png": "[encoded data removed]",
      "text/plain": [
       "<Figure size 576x576 with 1 Axes>"
      ]
     },
     "metadata": {
      "needs_background": "light"
     },
     "output_type": "display_data"
    }
   ],
   "source": [
    "# Set parameters\n",
    "r = 2\n",
    "θ = np.pi/3\n",
    "x = r * np.cos(θ)\n",
    "\n",
    "# Plot\n",
    "fig = plt.figure(figsize=(8, 8))\n",
    "ax = plt.subplot(111, projection='polar')\n",
    "\n",
    "ax.plot((0, θ),(0, r), '--o', color='red',ms=10)             # plot r\n",
    "\n",
    "\n",
    "### Plot lines and annotate\n",
    "x_range = np.linspace(0, x, 1000)\n",
    "θ_range = np.linspace(0, θ, 1000)\n",
    "\n",
    "ax.plot(np.zeros(x_range.shape), x_range, color='green')       # plot x\n",
    "ax.plot(θ_range, x / np.cos(θ_range), color='blue')           # plot y\n",
    "ax.plot(θ_range, np.ones(θ_range.shape) * 0.1, color='r')  # plot θ\n",
    "\n",
    "ax.set_title(\"Trigonometry of complex numbers\", va='bottom', fontsize='x-large')\n",
    "\n",
    "ax.set_rmax(2)\n",
    "ax.set_rticks((0.5, 1, 1.5, 2))  # less radial ticks\n",
    "ax.set_rlabel_position(-88.5)    # get radial labels away from plotted line\n",
    "\n",
    "ax.text(θ, r+0.01 , r'$z = x + iy = 1 + \\sqrt{3}\\, i$')   # label z\n",
    "ax.text(θ+0.2, 1 , '$r = 2$')                             # label r\n",
    "ax.text(0-0.2, 0.5, '$x = 1$')                            # label x\n",
    "ax.text(0.5, 1.2, r'$y = \\sqrt{3}$')                      # label y\n",
    "ax.text(0.25, 0.15, r'$\\theta = 60^o$')                   # label θ\n",
    "ax.grid('--')"
   ]
  },
  {
   "cell_type": "markdown",
   "metadata": {},
   "source": [
    "## De Moivre’s Theorem\n",
    "\n",
    "de Moivre’s theorem states that:\n",
    "\n",
    "$$\n",
    "(r(\\cos{\\theta} + i \\sin{\\theta}))^n =\n",
    "r^n e^{in\\theta} =\n",
    "r^n(\\cos{n\\theta} + i \\sin{n\\theta})\n",
    "$$\n",
    "\n",
    "To prove de Moivre’s theorem, note that\n",
    "\n",
    "$$\n",
    "(r(\\cos{\\theta} + i \\sin{\\theta}))^n = \\big( re^{i\\theta} \\big)^n\n",
    "$$\n",
    "\n",
    "and compute."
   ]
  },
  {
   "cell_type": "markdown",
   "metadata": {},
   "source": [
    "### Example-1: Pythagoras theorem\n",
    "\n",
    "We can use de Moivre’s theorem to show that\n",
    "$ r = \\sqrt{x^2 + y^2} $.\n",
    "\n",
    "We have\n",
    "\n",
    "$$\n",
    "\\begin{aligned}\n",
    "1 &= e^{i\\theta} e^{-i\\theta} \\\\\n",
    "&= (\\cos{\\theta} + i \\sin{\\theta})(\\cos{(\\text{-}\\theta)} + i \\sin{(\\text{-}\\theta)}) \\\\\n",
    "&= (\\cos{\\theta} + i \\sin{\\theta})(\\cos{\\theta} - i \\sin{\\theta}) \\\\\n",
    "&= \\cos^2{\\theta} + \\sin^2{\\theta} \\\\\n",
    "&= \\frac{x^2}{r^2} + \\frac{y^2}{r^2}\n",
    "\\end{aligned}\n",
    "$$\n",
    "\n",
    "and thus\n",
    "\n",
    "$$\n",
    "x^2 + y^2 = r^2\n",
    "$$\n",
    "\n",
    "We recognize this as a theorem of **Pythagoras**."
   ]
  },
  {
   "cell_type": "markdown",
   "metadata": {},
   "source": [
    "### Example-2: Trigonometric Identities\n",
    "\n",
    "We can obtain a complete suite of trigonometric identities by\n",
    "appropriately manipulating polar forms of complex numbers.\n",
    "\n",
    "We’ll get many of them by deducing implications of the equality\n",
    "\n",
    "$$\n",
    "e^{i(\\omega + \\theta)} = e^{i\\omega} e^{i\\theta}\n",
    "$$\n",
    "\n",
    "For example, we’ll calculate identities for\n",
    "\n",
    "$ \\cos{(\\omega + \\theta)} $ and $ \\sin{(\\omega + \\theta)} $.\n",
    "\n",
    "Using the sine and cosine formulas presented at the beginning of this\n",
    "lecture, we have:\n",
    "\n",
    "$$\n",
    "\\begin{aligned}\n",
    "\\cos{(\\omega + \\theta)} = \\frac{e^{i(\\omega + \\theta)} + e^{-i(\\omega + \\theta)}}{2} \\\\\n",
    "\\sin{(\\omega + \\theta)} = \\frac{e^{i(\\omega + \\theta)} - e^{-i(\\omega + \\theta)}}{2i}\n",
    "\\end{aligned}\n",
    "$$\n",
    "\n",
    "We can also obtain the trigonometric identities as follows:\n",
    "\n",
    "$$\n",
    "\\begin{aligned}\n",
    "\\cos{(\\omega + \\theta)} + i \\sin{(\\omega + \\theta)}\n",
    "&= e^{i(\\omega + \\theta)} \\\\\n",
    "&= e^{i\\omega} e^{i\\theta} \\\\\n",
    "&= (\\cos{\\omega} + i \\sin{\\omega})(\\cos{\\theta} + i \\sin{\\theta}) \\\\\n",
    "&= (\\cos{\\omega}\\cos{\\theta} - \\sin{\\omega}\\sin{\\theta}) +\n",
    "i (\\cos{\\omega}\\sin{\\theta} + \\sin{\\omega}\\cos{\\theta})\n",
    "\\end{aligned}\n",
    "$$\n",
    "\n",
    "Since both real and imaginary parts of the above formula should be\n",
    "equal, we get:\n",
    "\n",
    "$$\n",
    "\\begin{aligned}\n",
    "\\cos{(\\omega + \\theta)} = \\cos{\\omega}\\cos{\\theta} - \\sin{\\omega}\\sin{\\theta} \\\\\n",
    "\\sin{(\\omega + \\theta)} = \\cos{\\omega}\\sin{\\theta} + \\sin{\\omega}\\cos{\\theta}\n",
    "\\end{aligned}\n",
    "$$\n",
    "\n",
    "The equations above are also known as the **angle sum identities**. We\n",
    "can verify the equations using the `simplify` function in the\n",
    "`sympy` package:"
   ]
  },
  {
   "cell_type": "markdown",
   "metadata": {},
   "source": [
    "### Example-3: Trigonometric Integrals\n",
    "\n",
    "We can also compute the trigonometric integrals using polar forms of\n",
    "complex numbers.\n",
    "\n",
    "For example, we want to solve the following integral:\n",
    "\n",
    "$$\n",
    "\\int_{-\\pi}^{\\pi} \\cos(\\omega) \\sin(\\omega) \\, d\\omega\n",
    "$$\n",
    "\n",
    "Using Euler’s formula, we have:\n",
    "\n",
    "$$\n",
    "\\begin{aligned}\n",
    "\\int \\cos(\\omega) \\sin(\\omega) \\, d\\omega\n",
    "&=\n",
    "\\int\n",
    "\\frac{(e^{i\\omega} + e^{-i\\omega})}{2}\n",
    "\\frac{(e^{i\\omega} - e^{-i\\omega})}{2i}\n",
    "\\, d\\omega  \\\\\n",
    "&=\n",
    "\\frac{1}{4i}\n",
    "\\int\n",
    "e^{2i\\omega} - e^{-2i\\omega}\n",
    "\\, d\\omega  \\\\\n",
    "&=\n",
    "\\frac{1}{4i}\n",
    "\\bigg( \\frac{-i}{2} e^{2i\\omega} - \\frac{i}{2} e^{-2i\\omega} + C_1 \\bigg) \\\\\n",
    "&=\n",
    "-\\frac{1}{8}\n",
    "\\bigg[ \\bigg(e^{i\\omega}\\bigg)^2 + \\bigg(e^{-i\\omega}\\bigg)^2 - 2 \\bigg] + C_2 \\\\\n",
    "&=\n",
    "-\\frac{1}{8}  (e^{i\\omega} - e^{-i\\omega})^2  + C_2 \\\\\n",
    "&=\n",
    "\\frac{1}{2} \\bigg( \\frac{e^{i\\omega} - e^{-i\\omega}}{2i} \\bigg)^2 + C_2 \\\\\n",
    "&= \\frac{1}{2} \\sin^2(\\omega) + C_2\n",
    "\\end{aligned}\n",
    "$$\n",
    "\n",
    "and thus:\n",
    "\n",
    "$$\n",
    "\\int_{-\\pi}^{\\pi} \\cos(\\omega) \\sin(\\omega) \\, d\\omega =\n",
    "\\frac{1}{2}\\sin^2(\\pi) - \\frac{1}{2}\\sin^2(-\\pi) = 0\n",
    "$$\n",
    "\n",
    "We can verify the analytical as well as numerical results using\n",
    "`integrate` in the `sympy` package:"
   ]
  }
 ],
 "metadata": {
  "kernelspec": {
   "display_name": "Python 3",
   "language": "python",
   "name": "python3"
  },
  "language_info": {
   "codemirror_mode": {
    "name": "ipython",
    "version": 3
   },
   "file_extension": ".py",
   "mimetype": "text/x-python",
   "name": "python",
   "nbconvert_exporter": "python",
   "pygments_lexer": "ipython3",
   "version": "3.6.7"
  }
 },
 "nbformat": 4,
 "nbformat_minor": 4
}
