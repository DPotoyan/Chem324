{
 "cells": [
  {
   "cell_type": "markdown",
   "metadata": {
    "slideshow": {
     "slide_type": "slide"
    }
   },
   "source": [
    "# Probability with Python"
   ]
  },
  {
   "cell_type": "code",
   "execution_count": 18,
   "metadata": {
    "inputHidden": false,
    "outputHidden": false,
    "slideshow": {
     "slide_type": "fragment"
    }
   },
   "outputs": [],
   "source": [
    "# Load the libs for numiercs and plotting\n",
    "import numpy as np\n",
    "import matplotlib.pyplot as plt\n",
    "%matplotlib inline\n",
    "\n",
    "#Load interactive widgets\n",
    "import ipywidgets as widgets\n",
    "from IPython.display import display\n",
    "\n",
    "#If your screen has retina display this will increase resolution of plots\n",
    "%config InlineBackend.figure_format = 'retina'"
   ]
  },
  {
   "cell_type": "markdown",
   "metadata": {
    "slideshow": {
     "slide_type": "slide"
    }
   },
   "source": [
    "### Gaussian (Normal) distribution"
   ]
  },
  {
   "cell_type": "markdown",
   "metadata": {
    "slideshow": {
     "slide_type": "fragment"
    }
   },
   "source": [
    "Lets make gaussian distribution function with mu and sigma as parameters"
   ]
  },
  {
   "cell_type": "markdown",
   "metadata": {
    "slideshow": {
     "slide_type": "fragment"
    }
   },
   "source": [
    "$$p(x)= \\frac{1}{2\\pi \\sigma^2} e^{-(x-\\mu)^2/2\\sigma^2}$$"
   ]
  },
  {
   "cell_type": "code",
   "execution_count": 24,
   "metadata": {
    "inputHidden": false,
    "outputHidden": false,
    "slideshow": {
     "slide_type": "slide"
    }
   },
   "outputs": [],
   "source": [
    "def p_gauss(x, mu, sigma):   # x is the variable over which p is distributed while sigma and mu are parameters affecting the distribution\n",
    "    \n",
    "    coeff = 1/(2* np.pi * sigma**2)\n",
    "    \n",
    "    return coeff * np.exp( -(x-mu)**2 / (2 * sigma**2) )"
   ]
  },
  {
   "cell_type": "markdown",
   "metadata": {},
   "source": [
    "Now you can try different values of x, mu sigma. Probability is higher when x is closer to mu. "
   ]
  },
  {
   "cell_type": "code",
   "execution_count": 61,
   "metadata": {
    "inputHidden": false,
    "outputHidden": false
   },
   "outputs": [
    {
     "data": {
      "text/plain": [
       "5.3390535453281935e-05"
      ]
     },
     "execution_count": 61,
     "metadata": {},
     "output_type": "execute_result"
    }
   ],
   "source": [
    "p_gauss(4, mu=0, sigma=1)"
   ]
  },
  {
   "cell_type": "markdown",
   "metadata": {},
   "source": [
    "Better yet we can make a plot for different values of mu and sigma. Here we show that sigma indeed corresponds to the variance of the distirbution"
   ]
  },
  {
   "cell_type": "code",
   "execution_count": 62,
   "metadata": {
    "slideshow": {
     "slide_type": "fragment"
    }
   },
   "outputs": [],
   "source": [
    "def plot_gauss(mu, sigma):\n",
    "    \n",
    "    x = np.linspace(-100,100,10000)  # The range is arbitrary. The point is to have value of mu inside the range.\n",
    "    \n",
    "    y = p_gauss(x,mu,sigma)      # Notice how we are using a function defined before instead of recreating again. \n",
    "    \n",
    "    plt.plot(x, y, lw=5)\n",
    "    \n",
    "    plt.xlim([mu-3*sigma, mu+3*sigma]) # Showing values 3 standard deviation away from mean is enough to cover the function!"
   ]
  },
  {
   "cell_type": "code",
   "execution_count": 63,
   "metadata": {
    "slideshow": {
     "slide_type": "slide"
    }
   },
   "outputs": [
    {
     "data": {
      "image/png": "[encoded data removed]",
      "text/plain": [
       "<Figure size 432x288 with 1 Axes>"
      ]
     },
     "metadata": {
      "image/png": {
       "height": 248,
       "width": 375
      },
      "needs_background": "light"
     },
     "output_type": "display_data"
    }
   ],
   "source": [
    "# try plotting different values of mu and sigma\n",
    "plot_gauss(0, 0.5)\n",
    "plot_gauss(0, 1)\n",
    "plot_gauss(0, 2)"
   ]
  },
  {
   "cell_type": "markdown",
   "metadata": {},
   "source": [
    "Even better way to explore gaussian distirbution is via interactive widgets! "
   ]
  },
  {
   "cell_type": "code",
   "execution_count": 99,
   "metadata": {
    "inputHidden": false,
    "outputHidden": false,
    "slideshow": {
     "slide_type": "slide"
    }
   },
   "outputs": [
    {
     "data": {
      "application/vnd.jupyter.widget-view+json": {
       "model_id": "970e4fd22d034dc5b24aa52e200f756b",
       "version_major": 2,
       "version_minor": 0
      },
      "text/plain": [
       "interactive(children=(IntSlider(value=0, description='mu', max=10, min=-10), IntSlider(value=13, description='…"
      ]
     },
     "metadata": {},
     "output_type": "display_data"
    }
   ],
   "source": [
    "@widgets.interact(mu=(-10,10), sigma=(1,25))\n",
    "\n",
    "def plot_gauss(mu, sigma):\n",
    "    \n",
    "    x = np.linspace(-100,100,10000)  \n",
    "    \n",
    "    y = p_gauss(x,mu,sigma)      \n",
    "    \n",
    "    plt.plot(x, y, lw=5)"
   ]
  },
  {
   "cell_type": "markdown",
   "metadata": {
    "slideshow": {
     "slide_type": "slide"
    }
   },
   "source": [
    "### Uniform distribution"
   ]
  },
  {
   "cell_type": "markdown",
   "metadata": {
    "slideshow": {
     "slide_type": "fragment"
    }
   },
   "source": [
    "$$p(x) = \\frac{1}{a-b}$$   for $$x\\to[a,b]$$"
   ]
  },
  {
   "cell_type": "code",
   "execution_count": 71,
   "metadata": {
    "inputHidden": false,
    "outputHidden": false,
    "slideshow": {
     "slide_type": "fragment"
    }
   },
   "outputs": [],
   "source": [
    "def p_unif(x, a, b):  # Make sure b is greater than a! \n",
    "    \n",
    "    return x / (x*(b-a))  "
   ]
  },
  {
   "cell_type": "markdown",
   "metadata": {
    "slideshow": {
     "slide_type": "slide"
    }
   },
   "source": [
    "Test that probability is uniformly distirbuted for all values of x"
   ]
  },
  {
   "cell_type": "code",
   "execution_count": 72,
   "metadata": {
    "inputHidden": false,
    "outputHidden": false,
    "slideshow": {
     "slide_type": "fragment"
    }
   },
   "outputs": [
    {
     "data": {
      "text/plain": [
       "(0.1, 0.1, 0.1)"
      ]
     },
     "execution_count": 72,
     "metadata": {},
     "output_type": "execute_result"
    }
   ],
   "source": [
    "p_unif(1, 0, 10), p_unif(2, 0, 10),  p_unif(9, 0, 10)"
   ]
  },
  {
   "cell_type": "markdown",
   "metadata": {},
   "source": [
    "Lets make a plot of uniform distribution"
   ]
  },
  {
   "cell_type": "code",
   "execution_count": 73,
   "metadata": {
    "slideshow": {
     "slide_type": "slide"
    }
   },
   "outputs": [],
   "source": [
    "def plot_unif(a, b):\n",
    "    \n",
    "    x = np.linspace(a,b,1000)  # The range needs to be inside a and b\n",
    "    \n",
    "    y = p_unif(x, a, b)       # Notice how we are using a function defined before instead of recreating again. \n",
    "    \n",
    "    plt.plot(x, y, lw=5)\n",
    "    \n",
    "    plt.xlim([a, b])"
   ]
  },
  {
   "cell_type": "code",
   "execution_count": 78,
   "metadata": {
    "slideshow": {
     "slide_type": "fragment"
    }
   },
   "outputs": [
    {
     "data": {
      "image/png": "[encoded data removed]",
      "text/plain": [
       "<Figure size 432x288 with 1 Axes>"
      ]
     },
     "metadata": {
      "image/png": {
       "height": 248,
       "width": 383
      },
      "needs_background": "light"
     },
     "output_type": "display_data"
    }
   ],
   "source": [
    "plot_unif(1,2)\n",
    "plot_unif(1,2.5)\n",
    "plot_unif(1,3)"
   ]
  },
  {
   "cell_type": "code",
   "execution_count": 96,
   "metadata": {
    "slideshow": {
     "slide_type": "slide"
    }
   },
   "outputs": [
    {
     "data": {
      "application/vnd.jupyter.widget-view+json": {
       "model_id": "825a90dcaafb44b8b27291be5c499045",
       "version_major": 2,
       "version_minor": 0
      },
      "text/plain": [
       "interactive(children=(IntSlider(value=11, description='b', max=20, min=2), Output()), _dom_classes=('widget-in…"
      ]
     },
     "metadata": {},
     "output_type": "display_data"
    }
   ],
   "source": [
    "@widgets.interact(b=(2,20))\n",
    "\n",
    "def plot_uniform(b):\n",
    "    \n",
    "    x = np.linspace(1,b,1000)  # We fixed a at 1 and only vary b\n",
    "    \n",
    "    y = p_unif(x, 1, b)       \n",
    "    \n",
    "    plt.plot(x, y, lw=5)\n",
    "    \n",
    "    plt.ylim([0,1])"
   ]
  }
 ],
 "metadata": {
  "kernel_info": {
   "name": "python3"
  },
  "kernelspec": {
   "display_name": "Python 3",
   "language": "python",
   "name": "python3"
  },
  "language_info": {
   "codemirror_mode": {
    "name": "ipython",
    "version": 3
   },
   "file_extension": ".py",
   "mimetype": "text/x-python",
   "name": "python",
   "nbconvert_exporter": "python",
   "pygments_lexer": "ipython3",
   "version": "3.6.7"
  },
  "nteract": {
   "version": "0.15.0"
  }
 },
 "nbformat": 4,
 "nbformat_minor": 1
}
