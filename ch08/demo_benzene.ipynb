{
 "cells": [
  {
   "cell_type": "markdown",
   "metadata": {},
   "source": [
    "# DEMO: HF calculations on small organic molecules by PySCF"
   ]
  },
  {
   "cell_type": "markdown",
   "metadata": {},
   "source": [
    "* We need to install a few things before we get started\n",
    "  * [PySCF](https://pyscf.org/) (for the quantum chemistry)\n",
    "  * [py3DMol](https://3dmol.csb.pitt.edu/) for visualizing the molecule\n",
    "  * [plotly](https://plotly.com/python/) and kaleido for plotting"
   ]
  },
  {
   "cell_type": "code",
   "execution_count": null,
   "metadata": {},
   "outputs": [],
   "source": [
    "%pip install -q pyscf py3DMol plotly kaleido"
   ]
  },
  {
   "cell_type": "code",
   "execution_count": null,
   "metadata": {},
   "outputs": [],
   "source": [
    "from pyscf import gto   # Used to define a molecule\n",
    "from pyscf import scf   # Used to perform HF calculations\n",
    "from pyscf import mp    # Used to perform Møller–Plesset PT calculations\n",
    "from pyscf import cc    # Used to perfrom Coupled Cluster calculations\n",
    "from pyscf import mcscf # Used to perform multireference calculations"
   ]
  },
  {
   "cell_type": "markdown",
   "metadata": {},
   "source": [
    "### Build and Visualize Molecules"
   ]
  },
  {
   "cell_type": "code",
   "execution_count": null,
   "metadata": {},
   "outputs": [],
   "source": [
    "mol_xyz = \"\"\"H      1.2194     -0.1652      2.1600\n",
    "  C      0.6825     -0.0924      1.2087\n",
    "  C     -0.7075     -0.0352      1.1973\n",
    "  H     -1.2644     -0.0630      2.1393\n",
    "  C     -1.3898      0.0572     -0.0114\n",
    "  H     -2.4836      0.1021     -0.0204\n",
    "  C     -0.6824      0.0925     -1.2088\n",
    "  H     -1.2194      0.1652     -2.1599\n",
    "  C      0.7075      0.0352     -1.1973\n",
    "  H      1.2641      0.0628     -2.1395\n",
    "  C      1.3899     -0.0572      0.0114\n",
    "  H      2.4836     -0.1022      0.0205\"\"\"\n",
    "\n",
    "mol = gto.M(atom=mol_xyz, basis=\"sto3g\", verbose=3)"
   ]
  },
  {
   "cell_type": "code",
   "execution_count": null,
   "metadata": {},
   "outputs": [],
   "source": [
    "import py3Dmol\n",
    "\n",
    "xyz_view = py3Dmol.view(width=400,height=400)\n",
    "xyz_view.addModel(mol.tostring(format=\"xyz\"),'xyz')\n",
    "xyz_view.setStyle({'stick':{}, \"sphere\":{\"radius\":0.4}})\n",
    "xyz_view.setBackgroundColor('0xeeeeee')\n",
    "xyz_view.show()\n",
    "\n",
    "#\n",
    "# Use your mouse to interact with the molecule!\n",
    "#"
   ]
  },
  {
   "cell_type": "markdown",
   "metadata": {},
   "source": [
    "### Run calculations"
   ]
  },
  {
   "cell_type": "code",
   "execution_count": null,
   "metadata": {},
   "outputs": [],
   "source": [
    "# Run HF and save the results\n",
    "mf = scf.RHF(mol).run()\n",
    "\n",
    "# In Jupyter notebooks you can hover over methods to see docstrings or you can print the docstrings out!\n",
    "#print(mf.__doc__)"
   ]
  },
  {
   "cell_type": "markdown",
   "metadata": {},
   "source": [
    "### Visualize Results"
   ]
  },
  {
   "cell_type": "code",
   "execution_count": null,
   "metadata": {},
   "outputs": [],
   "source": [
    "import plotly.express as px\n",
    "\n",
    "# Plot the MO Occupations\n",
    "fig = px.line(y=mf.mo_occ, markers=True, title=\"Molecular Orbital (MO) Occupations\")\n",
    "fig.update_layout(xaxis_title=\"Orbital Index (0-Based)\", yaxis_title=\"MO Occupation\")\n",
    "fig.show()"
   ]
  },
  {
   "cell_type": "code",
   "execution_count": null,
   "metadata": {},
   "outputs": [],
   "source": [
    "# Plot the MO Energies (i.e. eigenvalues of the Fock matrix)\n",
    "fig = px.line(y=mf.mo_energy, markers=True, title=\"Molecular Orbital (MO) Energies\")\n",
    "fig.update_layout(xaxis_title=\"Orbital Index (0-Based)\", yaxis_title=\"MO Energies\")\n",
    "fig.show()"
   ]
  },
  {
   "cell_type": "code",
   "execution_count": null,
   "metadata": {},
   "outputs": [],
   "source": [
    "from pyscf.tools import cubegen\n",
    "\n",
    "cubegen.orbital(mol, 'mo.cube', mf.mo_coeff[:,18]); # 42 electrons so 21 occupied orbitals\n",
    "\n",
    "cube_view = py3Dmol.view(width=400,height=400)\n",
    "cube_view.addVolumetricData(open(\"mo.cube\").read(), \"cube\", {'isoval': -0.03, 'color': \"red\", 'opacity': 0.85})\n",
    "cube_view.addVolumetricData(open(\"mo.cube\").read(), \"cube\", {'isoval': 0.03, 'color': \"blue\", 'opacity': 0.85})\n",
    "cube_view.addModel(mol.tostring(format=\"xyz\"),'xyz')\n",
    "cube_view.setStyle({'stick':{}, \"sphere\":{\"radius\":0.4}})\n",
    "cube_view.setBackgroundColor('0xeeeeee')\n",
    "cube_view.show()\n",
    "\n",
    "#\n",
    "# Use your mouse to interact with the molecule!\n",
    "#"
   ]
  },
  {
   "cell_type": "markdown",
   "metadata": {},
   "source": [
    "### Short Survey of more acurate methods"
   ]
  },
  {
   "cell_type": "code",
   "execution_count": null,
   "metadata": {},
   "outputs": [],
   "source": [
    "from pyscf import gto, scf, dft, mp, cc, fci\n",
    "import py3Dmol\n",
    "import plotly.express as px"
   ]
  },
  {
   "cell_type": "code",
   "execution_count": null,
   "metadata": {},
   "outputs": [],
   "source": [
    "# Experimental geometry of gas-phase water\n",
    "# Ref: https://cccbdb.nist.gov/expgeom2x.asp\n",
    "mol_xyz = \"\"\"O        0.0000   0.0000   0.1173\n",
    "             H        0.0000   0.7572\t -0.4692\n",
    "             H        0.0000  -0.7572\t -0.4692\"\"\"\n",
    "mol = gto.M(\n",
    "    atom=mol_xyz, \n",
    "    basis=\"6-31g\", \n",
    "    verbose=4,\n",
    "    charge=0,      # 0 by default\n",
    "    spin=0,        # 0 by default, defined as (n_up - n_down)\n",
    "    symmetry=True, # False by default\n",
    ")\n"
   ]
  },
  {
   "cell_type": "code",
   "execution_count": null,
   "metadata": {},
   "outputs": [],
   "source": [
    "xyz_view = py3Dmol.view(width=400,height=400)\n",
    "xyz_view.addModel(mol.tostring(format=\"xyz\"),'xyz')\n",
    "xyz_view.setStyle({'stick':{}, \"sphere\":{\"radius\":0.4}})\n",
    "xyz_view.setBackgroundColor('0xeeeeee')\n",
    "xyz_view.show()"
   ]
  },
  {
   "cell_type": "markdown",
   "metadata": {},
   "source": [
    "#### [Hartree-Fock](https://en.wikipedia.org/wiki/Hartree%E2%80%93Fock_method)\n",
    "\n",
    "\n",
    "* Hatree-Fock (HF) is the starting point of the most of quantum chemistry\n",
    "* We variationally optimize the orbitals for a single [Slater determinint](https://en.wikipedia.org/wiki/Slater_determinant)\n",
    "* Working in the basis of atom-centered basis function we solve the [Roothaan-Hall](https://en.wikipedia.org/wiki/Roothaan_equations) equations\n",
    "\n",
    "<!-- $\\textbf{FC} = \\textbf{SC} \\epsilon$\n",
    "\n",
    "* $\\textbf{F}$ is the [Fock matrix]()\n",
    "* $\\textbf{C}$ is the molecular orbital coefficient matrix\n",
    "* $\\textbf{S}$ is the atomic orbital overlap matrix\n",
    "* $\\epsilon$ is the vector of molecular orbital energies -->\n",
    "\n",
    "See the PySCF [user guide](https://pyscf.org/user/scf.html) and [examples](https://github.com/pyscf/pyscf/tree/master/examples/scf) for more info.\n",
    "\n"
   ]
  },
  {
   "cell_type": "markdown",
   "metadata": {},
   "source": [
    "mymf = scf.RHF(mol).run()"
   ]
  },
  {
   "cell_type": "markdown",
   "metadata": {},
   "source": [
    "#### [Density Functional Theory](https://en.wikipedia.org/wiki/Density_functional_theory)\n",
    "\n",
    "* In Density Functional Theory (DFT), the electron density of a reference noninteracting system is used to represent the density of the true interacting system.\n",
    "* The formulation resembles HF with a different effective Fock potential.\n",
    "* This effective potential depends on the density functional approximation which is chosen by the user.\n",
    "* PySCF gives users the access to a large number of functionals through the [libxc](https://tddft.org/programs/libxc/) and [xcfun](https://github.com/dftlibs/xcfun) libraries.\n",
    "\n",
    "See the PySCF [user guide](https://pyscf.org/user/dft.html) and [examples](https://github.com/pyscf/pyscf/tree/master/examples/dft) for more info."
   ]
  },
  {
   "cell_type": "markdown",
   "metadata": {},
   "source": [
    "#### [Møller–Plesset perturbation theory](https://en.wikipedia.org/wiki/M%C3%B8ller%E2%80%93Plesset_perturbation_theory)\n",
    "\n",
    "* Perturbative corrections to the Hartree-Fock approximation.\n",
    "\n",
    "See the PySCF [user guide](https://pyscf.org/user/mp.html) and [examples](https://github.com/pyscf/pyscf/tree/master/examples/mp) for more info."
   ]
  },
  {
   "cell_type": "markdown",
   "metadata": {},
   "source": [
    "#### [Coupled Cluster](https://en.wikipedia.org/wiki/Coupled_cluster)\n",
    "\n",
    "* Perturbative method that improves on the Hartree-Fock approximation.\n",
    "* Coupled Cluster Singles and Doubles (CCSD) includes single and double excitation on top of the HF wave function.\n",
    "* Accuracy can be improved by including triples perturbatively (CCSD(T)).\n",
    "* Non-variational, but size extensive description of ground states. For excited states, see [EOM-CCSD]().\n",
    "\n",
    "See the PySCF [user guide](https://pyscf.org/user/cc.html) and [examples](https://github.com/pyscf/pyscf/tree/master/examples/cc) for more info."
   ]
  },
  {
   "cell_type": "code",
   "execution_count": null,
   "metadata": {},
   "outputs": [],
   "source": [
    "mycc = cc.CCSD(mymf).run()"
   ]
  },
  {
   "cell_type": "code",
   "execution_count": null,
   "metadata": {},
   "outputs": [],
   "source": [
    "e_ccsd_t = mycc.ccsd_t()"
   ]
  },
  {
   "cell_type": "markdown",
   "metadata": {},
   "source": [
    "#### [Full Configuration Interaction](https://en.wikipedia.org/wiki/Full_configuration_interaction)\n",
    "\n",
    "* Full configuration interaction (FCI) is exact for a given choice of basis set.\n",
    "* Cost grows exponentially with the size of the system.\n",
    "* Also known as exact diagonalization.\n",
    "\n",
    "See the [PySCF examples](https://github.com/pyscf/pyscf/tree/master/examples/fci) for more details."
   ]
  },
  {
   "cell_type": "code",
   "execution_count": null,
   "metadata": {},
   "outputs": [],
   "source": [
    "myfci = fci.FCI(mymf)\n",
    "myfci.kernel();"
   ]
  },
  {
   "cell_type": "markdown",
   "metadata": {},
   "source": [
    "### Analysis\n",
    "\n",
    "Important data is saved to the PySCF method objects, making it easy to analyze and visualize!"
   ]
  },
  {
   "cell_type": "code",
   "execution_count": null,
   "metadata": {},
   "outputs": [],
   "source": [
    "# Collect data\n",
    "methods = [\"HF\", \"MP2\", \"CCSD\", \"CCSD(T)\", \"FCI\"]\n",
    "energies = [mymf.e_tot, mymp2.e_tot, mycc.e_tot, mycc.e_tot + e_ccsd_t, myfci.e_tot]\n",
    "\n",
    "# Plotting\n",
    "fig = px.line(x=methods, y=energies, title=\"Comparison of QC methods\", markers=True)\n",
    "fig.update_layout(xaxis_title=\"Method\", yaxis_title=\"Energy (Ha)\")\n",
    "fig.update_traces(marker_size=12)\n",
    "fig.show() # It's interactive!"
   ]
  }
 ],
 "metadata": {
  "language_info": {
   "name": "python"
  }
 },
 "nbformat": 4,
 "nbformat_minor": 2
}
