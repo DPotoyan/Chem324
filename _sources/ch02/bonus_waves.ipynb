{
  "cells": [
    {
      "cell_type": "markdown",
      "metadata": {},
      "source": [
        "## DEMO: Bonus challenge\n",
        "\n",
        "**Waves, normal modes and interference** \n",
        "\n",
        "**Prerequisites**\n",
        "- Go over the [demo notebook on waves](https://dpotoyan.github.io/Chem324/ch02/demo_waves.html). You can copy paste and modify examples there to solve most challenges\n",
        "\n",
        "- Go over the [python, numpy and matploltib](https://dpotoyan.github.io/Chem324/demos/intro2py.html) basics to be more comfortable with the code.  \n",
        "\n",
        "**How to complete the work**\n",
        "- Run the cell below to import all necessary libraries.\n",
        "- Add code below each problem. \n",
        "- Run the code in Google Collab then download the file either as *.ipynb or *py file.\n",
        "- Submit your file to Canvas.\n",
        "- Do not forget that Google Collab deletes files if you do not save them iin your Google Drive."
      ]
    },
    {
      "cell_type": "code",
      "execution_count": 4,
      "metadata": {},
      "outputs": [],
      "source": [
        "import numpy as np  \n",
        "import matplotlib.pyplot as plt\n",
        "from ipywidgets import interact\n",
        "import scipy  \n",
        "from scipy.constants import physical_constants, hbar, h, c, k, m_e, Rydberg, e, N_A\n",
        "\n",
        "%matplotlib inline\n",
        "%config InlineBackend.figure_format='retina'"
      ]
    },
    {
      "cell_type": "markdown",
      "metadata": {},
      "source": [
        "### Problem 1: Combining normal modes \n",
        "\n",
        "- Recreate figures 2.4, 2.6 and 2.7 in the book using the example of normal modes.\n",
        "\n",
        "- Recreate fig 2.4 but for the case of combining the 2D standing waves! "
      ]
    },
    {
      "cell_type": "markdown",
      "metadata": {},
      "source": [
        "### Problem 2: Beats and music"
      ]
    },
    {
      "cell_type": "markdown",
      "metadata": {},
      "source": [
        "The study of music provides many examples of the superposition of waves and the constructive and destructive interference that occurs. Very few examples of music being performed consist of a single source playing a single frequency for an extended period of time. You will probably agree that a single frequency of sound for an extended period might be boring to the point of irritation, similar to the unwanted drone of an aircraft engine or a loud fan. Music is pleasant and interesting due to mixing the changing frequencies of various instruments and voices. An interesting phenomenon that occurs due to the constructive and destructive interference of two or more frequencies of sound is the phenomenon of beats. If two sounds differ in frequencies, the sound waves can be modeled as superposition of two waves $s_1+s_2$ (showing only the temporal parts)\n",
        "\n",
        "$$s_1+s_2 = A sin(2 \\pi  \\nu_1  t + \\phi_1)+A sin(2 \\pi  \\nu_2  t + \\phi_2)$$\n",
        "\n",
        "You can use the trig identities for sum of sines and cosines to appreacite what the difference in frequencies does to the music $\\phi_1-\\phi_2$. But for this exercise we are going to take computational route. Below are the steps to help you explore the effect of frequency shift in producing beats! \n",
        "\n",
        "- Create range of time points via **t = np.arange(0, 2, 0.01)**. \n",
        "- Set $A=1$, $\\nu_1=10$, $\\nu_2=11.5$, $\\phi_1=\\phi_2=0$.\n",
        "- Compute $s_1 = A cos(2 \\pi  \\nu_1  t + \\phi_1)$\n",
        "- Compute $s_2 = A cos(2 \\pi  \\nu_2  t + \\phi_2$)\n",
        "- Make a plots $s_1$ and $s_2$ and $plot s1+s2$ separately. Take a look at cookbook example and try making three subplots stacked vertically. \n",
        "- Create interactive widet to explore the effect of a phase shift!\n",
        "- Write a brief report about your observations"
      ]
    },
    {
      "cell_type": "markdown",
      "metadata": {},
      "source": [
        "### Problem 3 Interference of spherical waves"
      ]
    },
    {
      "cell_type": "markdown",
      "metadata": {},
      "source": [
        "One place you must have seen wave intereference is when you disturb two points of water in a quiet lake. See this video for instance: [Water Wave interference](https://www.youtube.com/watch?v=ovZkFMuxZNc). \n",
        "<br>\n",
        "Below we are going to create this effect computationally. The mathematics is simple you create two sin waves in 2D space \n",
        "- $w_1=sin(k r_1)$ and \n",
        "- $w_2=sin(k r_2)$ \n",
        "\n",
        "at different locations of 2D space. Then you combine these waves and observe intereference as a function of separation of wave centers $r_1$ and $r_2$ Below you will find the partial code along with description of what you need to do to complete the exercise. You should see some pretty intereference patterns. "
      ]
    },
    {
      "cell_type": "code",
      "execution_count": 31,
      "metadata": {
        "collapsed": false,
        "inputHidden": false,
        "outputHidden": false
      },
      "outputs": [],
      "source": [
        "wavelength = 5.0\n",
        "\n",
        "k = 2*np.pi/wavelength\n",
        "\n",
        "separation = 50.0      # Separation of centers in cm\n",
        "side = 100.0           # Side of the square in cm\n",
        "points = 500           # Number of grid points along each side\n",
        "spacing = side/points  # Spacing of points in cm\n",
        "\n",
        "\n",
        "# Calculate the positions of the centers of our spherical waves.\n",
        "\n",
        "x1 = side/2 + separation/2\n",
        "y1 = side/2\n",
        "\n",
        "x2 = side/2 - separation/2\n",
        "y2 = side/2\n",
        "\n",
        "\n",
        "#  Create a 1D np.linspace method create two 1D numpy arrays for xx and yy dividing each side by points given above.\n",
        "\n",
        "# Use np.meshgrid turn xx and yy into  500 by 500 2D arrays of x and y. Check out examples in PythonCookbook and PythonIntro sections\n",
        "\n",
        "#  Compute distance r1 = np.sqrt((x-x1)**2+(y-y1)**2)\n",
        "#  Compute distance r2 = np.sqrt((x-x2)**2+(y-y2)**2)\n",
        "\n",
        "#  Plug dsitances into linear combination of sine waves X\n",
        "#  sum_waves = np.sin(k*r1)+np.sin(k*r2)\n",
        "\n",
        "#  Make a 2D plot via plt.imshow(sum_waves)\n",
        "\n",
        "#  Make plots in different jupyter cells for exploring differen values of separation and wavelengths\n",
        "\n",
        "# (optional) make the above code into a function and create an interactive  widget for exploring the separation \n"
      ]
    }
  ],
  "metadata": {
    "kernel_info": {
      "name": "python3"
    },
    "kernelspec": {
      "display_name": "Python 3",
      "language": "python",
      "name": "python3"
    },
    "language_info": {
      "codemirror_mode": {
        "name": "ipython",
        "version": 3
      },
      "file_extension": ".py",
      "mimetype": "text/x-python",
      "name": "python",
      "nbconvert_exporter": "python",
      "pygments_lexer": "ipython3",
      "version": "3.6.7"
    },
    "nteract": {
      "version": "0.15.0"
    }
  },
  "nbformat": 4,
  "nbformat_minor": 2
}
