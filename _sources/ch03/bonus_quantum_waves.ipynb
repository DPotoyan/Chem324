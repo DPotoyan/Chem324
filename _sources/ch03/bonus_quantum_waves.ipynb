{
 "cells": [
  {
   "cell_type": "markdown",
   "metadata": {},
   "source": [
    "## DEMO: Bonus challenge\n",
    "\n",
    "**Quantum Waves** \n",
    "\n",
    "**Prerequisites**\n",
    "- Go over the [demo notebook on quantum waves](https://dpotoyan.github.io/Chem324/ch03/quantum_waves.html). You can copy paste and modify examples there to solve most challenges\n",
    "\n",
    "- Go over the [python, numpy and matploltib](https://dpotoyan.github.io/Chem324/demos/intro2py.html) basics to be more comfortable with the code.  \n",
    "\n",
    "**How to complete the work**\n",
    "- Run the cell below to import all necessary libraries.\n",
    "- Add code below each problem. \n",
    "- Run the code in Google Collab then download the file either as *.ipynb or *py file.\n",
    "- Submit your file to Canvas.\n",
    "- Do not forget that Google Collab deletes files if you do not save them iin your Google Drive."
   ]
  },
  {
   "cell_type": "code",
   "execution_count": null,
   "metadata": {},
   "outputs": [],
   "source": [
    "import numpy as np\n",
    "import matplotlib.pyplot as plt\n",
    "from ipywidgets.widgets import interact, interactive\n",
    "\n",
    "%matplotlib inline\n",
    "%config InlineBackend.figure_format = 'retina'"
   ]
  },
  {
   "cell_type": "markdown",
   "metadata": {},
   "source": [
    "### Problem 1"
   ]
  },
  {
   "cell_type": "markdown",
   "metadata": {},
   "source": []
  },
  {
   "cell_type": "markdown",
   "metadata": {},
   "source": [
    "### Problem 2"
   ]
  },
  {
   "cell_type": "markdown",
   "metadata": {},
   "source": []
  },
  {
   "cell_type": "markdown",
   "metadata": {},
   "source": [
    "### Problem 3"
   ]
  },
  {
   "cell_type": "markdown",
   "metadata": {},
   "source": []
  }
 ],
 "metadata": {
  "language_info": {
   "name": "python"
  }
 },
 "nbformat": 4,
 "nbformat_minor": 2
}
