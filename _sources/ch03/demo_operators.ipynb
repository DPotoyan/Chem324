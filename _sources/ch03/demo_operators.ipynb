{
 "cells": [
  {
   "cell_type": "markdown",
   "metadata": {},
   "source": [
    "## DEMO: Postulates"
   ]
  },
  {
   "cell_type": "code",
   "execution_count": 7,
   "metadata": {},
   "outputs": [],
   "source": [
    "import numpy as np\n",
    "import matplotlib.pyplot as plt\n",
    "from ipywidgets import widgets\n",
    "from ipywidgets.widgets import interact, interactive\n",
    "\n",
    "%matplotlib inline\n",
    "%config InlineBackend.figure_format = 'retina'"
   ]
  },
  {
   "cell_type": "markdown",
   "metadata": {},
   "source": [
    "### Vectors"
   ]
  },
  {
   "cell_type": "code",
   "execution_count": 2,
   "metadata": {},
   "outputs": [],
   "source": [
    "x = np.array([1, 2])\n",
    "\n",
    "y = np.array([-2, 1])\n",
    "\n",
    "z = np.array([1+2j, 3-1j])"
   ]
  },
  {
   "cell_type": "markdown",
   "metadata": {},
   "source": [
    "**Operations with vectors**\n",
    "\n",
    "- Try mulitiplying by number\n",
    "\n",
    "- try dot product using ```x @ y``` or ```np.dot(x, y)```"
   ]
  },
  {
   "cell_type": "code",
   "execution_count": 3,
   "metadata": {},
   "outputs": [
    {
     "data": {
      "application/vnd.jupyter.widget-view+json": {
       "model_id": "39110dcd05c146da84f09e1e72557dc1",
       "version_major": 2,
       "version_minor": 0
      },
      "text/plain": [
       "interactive(children=(IntSlider(value=0, description='x', max=10, min=-10), IntSlider(value=0, description='y'…"
      ]
     },
     "metadata": {},
     "output_type": "display_data"
    },
    {
     "data": {
      "text/plain": [
       "<function __main__.plot_vector(x, y)>"
      ]
     },
     "execution_count": 3,
     "metadata": {},
     "output_type": "execute_result"
    }
   ],
   "source": [
    "def plot_vector(x, y):\n",
    "\n",
    "    fig, ax = plt.subplots(figsize=(6, 6))\n",
    "    \n",
    "    ax.quiver(0, 0, x, y, angles='xy', scale_units='xy', scale=1, color='r')\n",
    "    \n",
    "    ax.set_xlim([-10, 10])\n",
    "    ax.set_ylim([-10, 10])\n",
    "    ax.axvline(x=0, color='grey', lw=1)\n",
    "    ax.axhline(y=0, color='grey', lw=1)\n",
    "    ax.grid(True, which='both')\n",
    "    \n",
    "    plt.show()\n",
    "\n",
    "interact(plot_vector, x=(-10, 10, 1), y=(-10, 10, 1))\n"
   ]
  },
  {
   "cell_type": "markdown",
   "metadata": {},
   "source": [
    "### Matrices"
   ]
  },
  {
   "cell_type": "code",
   "execution_count": 4,
   "metadata": {},
   "outputs": [],
   "source": [
    "A = np.array([ [1, 2],\n",
    "               [3, 4]])"
   ]
  },
  {
   "cell_type": "markdown",
   "metadata": {},
   "source": [
    "**Operations with Matrices**\n",
    "\n",
    "- Try mulitiplying by number\n",
    "\n",
    "- try dot product with vectors using ```A @ x``` or ```np.dot(A, x)```"
   ]
  },
  {
   "cell_type": "code",
   "execution_count": 8,
   "metadata": {},
   "outputs": [
    {
     "data": {
      "application/vnd.jupyter.widget-view+json": {
       "model_id": "175112b533e3462e956b0409b0cc3002",
       "version_major": 2,
       "version_minor": 0
      },
      "text/plain": [
       "interactive(children=(IntSlider(value=1, description='a', max=5, min=-5), IntSlider(value=0, description='b', …"
      ]
     },
     "metadata": {},
     "output_type": "display_data"
    },
    {
     "data": {
      "text/plain": [
       "<function __main__.matrix_transform(a=1, b=0, c=0, d=1)>"
      ]
     },
     "execution_count": 8,
     "metadata": {},
     "output_type": "execute_result"
    }
   ],
   "source": [
    "def matrix_transform(a=1, b=0, c=0, d=1):\n",
    "    matrix = np.array([[a, b], [c, d]])\n",
    "    vector = np.array([[5], [5]])\n",
    "    transformed_vector = np.dot(matrix, vector)\n",
    "    \n",
    "    fig, ax = plt.subplots(figsize=(6, 6))\n",
    "    \n",
    "    # Original vector (blue)\n",
    "    ax.quiver(0, 0, vector[0, 0], vector[1, 0], angles='xy', scale_units='xy', scale=1, color='b', label=\"Original Vector\")\n",
    "    \n",
    "    # Transformed vector (red)\n",
    "    ax.quiver(0, 0, transformed_vector[0, 0], transformed_vector[1, 0], angles='xy', scale_units='xy', scale=1, color='r', label=\"Transformed Vector\")\n",
    "    \n",
    "    ax.set_xlim([-10, 10])\n",
    "    ax.set_ylim([-10, 10])\n",
    "    ax.axvline(x=0, color='grey', lw=1)\n",
    "    ax.axhline(y=0, color='grey', lw=1)\n",
    "    ax.grid(True, which='both')\n",
    "    ax.legend()\n",
    "    \n",
    "    plt.show()\n",
    "\n",
    "widgets.interact(matrix_transform, \n",
    "                 a=widgets.IntSlider(min=-5, max=5, value=1, description=\"a\"),\n",
    "                 b=widgets.IntSlider(min=-5, max=5, value=0, description=\"b\"),\n",
    "                 c=widgets.IntSlider(min=-5, max=5, value=0, description=\"c\"),\n",
    "                 d=widgets.IntSlider(min=-5, max=5, value=1, description=\"d\"))\n"
   ]
  },
  {
   "cell_type": "markdown",
   "metadata": {},
   "source": [
    "### Solve linear euqation by matrix inversion"
   ]
  },
  {
   "cell_type": "code",
   "execution_count": 9,
   "metadata": {},
   "outputs": [
    {
     "name": "stdout",
     "output_type": "stream",
     "text": [
      "Solution using matrix inversion:\n",
      "x = [2.42857143 0.71428571]\n"
     ]
    }
   ],
   "source": [
    "# Define the coefficients matrix A and the right-hand side vector b\n",
    "A = np.array([[2, 3],\n",
    "              [1, -2]])\n",
    "\n",
    "b = np.array([7, 1])\n",
    "\n",
    "# Calculate the inverse of matrix A\n",
    "A_inv = np.linalg.inv(A)\n",
    "\n",
    "# Solve for the unknown vector x using matrix inversion: x = A_inv * b\n",
    "x = np.dot(A_inv, b)\n",
    "\n",
    "print(\"Solution using matrix inversion:\")\n",
    "print(\"x =\", x)"
   ]
  },
  {
   "cell_type": "markdown",
   "metadata": {},
   "source": [
    "### Compute eigenvalues and eigenvectors"
   ]
  },
  {
   "cell_type": "code",
   "execution_count": 21,
   "metadata": {},
   "outputs": [
    {
     "name": "stdout",
     "output_type": "stream",
     "text": [
      "eigvals:\n",
      "[-0.5+0.8660254j -0.5-0.8660254j]\n",
      "eigvecs:\n",
      "[[0.8660254+0.j   0.8660254-0.j  ]\n",
      " [0.4330127-0.25j 0.4330127+0.25j]]\n"
     ]
    }
   ],
   "source": [
    "# Define the coefficients matrix A and the right-hand side vector b\n",
    "# vary coeficients\n",
    "A = np.array([[1, -3],\n",
    "              [1, -2]])\n",
    "\n",
    "# Calculate the eigenvalues and eigenvectors of A\n",
    "eigenvalues, eigenvectors = np.linalg.eig(A)\n",
    "print('eigvals:')\n",
    "print(eigenvalues)\n",
    "print('eigvecs:')\n",
    "print(eigenvectors)"
   ]
  },
  {
   "cell_type": "code",
   "execution_count": null,
   "metadata": {},
   "outputs": [],
   "source": []
  }
 ],
 "metadata": {
  "kernelspec": {
   "display_name": "Python 3 (ipykernel)",
   "language": "python",
   "name": "python3"
  },
  "language_info": {
   "codemirror_mode": {
    "name": "ipython",
    "version": 3
   },
   "file_extension": ".py",
   "mimetype": "text/x-python",
   "name": "python",
   "nbconvert_exporter": "python",
   "pygments_lexer": "ipython3",
   "version": "3.10.8"
  },
  "orig_nbformat": 4
 },
 "nbformat": 4,
 "nbformat_minor": 2
}
