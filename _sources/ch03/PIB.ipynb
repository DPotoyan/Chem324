{
 "cells": [
  {
   "cell_type": "markdown",
   "metadata": {},
   "source": [
    "## DEMO: 1D particle in a box"
   ]
  },
  {
   "cell_type": "code",
   "execution_count": 13,
   "metadata": {},
   "outputs": [],
   "source": [
    "# First load the libs\n",
    "import numpy as np\n",
    "import matplotlib.pyplot as plt\n",
    "\n",
    "from ipywidgets.widgets import interact, interactive\n",
    "\n",
    "%matplotlib inline\n",
    "%config InlineBackend.figure_format = 'retina'"
   ]
  },
  {
   "cell_type": "code",
   "execution_count": 42,
   "metadata": {},
   "outputs": [],
   "source": [
    "def plot_energy_levels(L=1, max_n=10):\n",
    "    fig, (ax, ax2) = plt.subplots(figsize=(8, 6), ncols=2)\n",
    "    \n",
    "    for n in range(1, max_n+1):\n",
    "        En = (n**2 * np.pi**2 * hbar**2) / (2 * m * L**2)\n",
    "        ax.hlines(En, 0.5, 1.5, colors='blue', linewidth=2)\n",
    "        ax.text(1.6, En, f\"n={n}, E={En:.2f}\", verticalalignment='center')\n",
    "        \n",
    "    ax.set_xlim(0, 3)\n",
    "    ax.set_ylim(0, energy(max_n+1))\n",
    "    ax.set_xlabel(\"Particle in a Box\")\n",
    "    ax.set_ylabel(\"Energy\")\n",
    "    ax.set_title(\"Energy Levels of a 1D Quantum Particle in a Box\")\n",
    "    ax.axes.get_xaxis().set_visible(False)\n",
    "    \n",
    "    x = np.linspace(0, L, 1000)\n",
    "    n = max_n\n",
    "    psi = np.sqrt(2/L)*np.sin(n*np.pi*x/L)\n",
    "   \n",
    "    ax2.fill(x, psi**2, color=\"green\", lw=3)\n",
    "    \n",
    "    ax2.set_xlim([-0.1,L+0.1])\n",
    "    ax2.set_ylim([0,4])\n",
    "    \n",
    "    # Put two red lines to indicate boundaries\n",
    "    ax2.axvline(0,0,10*L, color='red',lw=3)\n",
    "    ax2.axvline(L,0,10*L, color='red',lw=3)\n",
    "    \n",
    "    # Label axis\n",
    "    ax2.set_xlabel('x',fontsize=20)\n",
    "    ax2.set_ylabel('$\\psi_n^2(x)$',fontsize=20)\n",
    "    \n",
    "    #Put tiltle\n",
    "    ax2.set_title('n='+str(n))\n",
    "    \n",
    "    plt.tight_layout()\n",
    "    plt.show()"
   ]
  },
  {
   "cell_type": "code",
   "execution_count": 43,
   "metadata": {},
   "outputs": [
    {
     "data": {
      "application/vnd.jupyter.widget-view+json": {
       "model_id": "8b4395fd555c479bab833252fced9b2a",
       "version_major": 2,
       "version_minor": 0
      },
      "text/plain": [
       "interactive(children=(FloatSlider(value=1.0, description='L', max=2.0, min=0.5), IntSlider(value=10, descripti…"
      ]
     },
     "metadata": {},
     "output_type": "display_data"
    }
   ],
   "source": [
    "interactive(plot_energy_levels, L=(0.5,2), n=(1,20))"
   ]
  },
  {
   "cell_type": "code",
   "execution_count": null,
   "metadata": {},
   "outputs": [],
   "source": []
  }
 ],
 "metadata": {
  "kernel_info": {
   "name": "python3"
  },
  "kernelspec": {
   "display_name": "Python 3",
   "language": "python",
   "name": "python3"
  },
  "language_info": {
   "codemirror_mode": {
    "name": "ipython",
    "version": 3
   },
   "file_extension": ".py",
   "mimetype": "text/x-python",
   "name": "python",
   "nbconvert_exporter": "python",
   "pygments_lexer": "ipython3",
   "version": "3.9.16"
  },
  "nteract": {
   "version": "0.15.0"
  },
  "widgets": {
   "state": {
    "4a29fc959ce641ada994e2831dc7dc26": {
     "views": [
      {
       "cell_index": 2
      }
     ]
    }
   },
   "version": "1.2.0"
  }
 },
 "nbformat": 4,
 "nbformat_minor": 2
}
