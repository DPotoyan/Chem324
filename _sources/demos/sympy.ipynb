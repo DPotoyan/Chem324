{
  "cells": [
    {
      "cell_type": "markdown",
      "metadata": {
        "id": "JNkx9Fo7WhpZ"
      },
      "source": [
        "## Sympy"
      ]
    },
    {
      "cell_type": "markdown",
      "metadata": {
        "id": "LuZJxi_dWhpa"
      },
      "source": [
        "- SymPy is the main library in the SciPy ecosystem for performing symbolic mathematics, and it is suitable for a wide audience from high school students to scientific researchers. \n",
        "- SymPy like a free, open source Mathematica substitute that is built on Python and is arguably more accessible in terms of cost and ease of acquisition. All of the following SymPy code relies on the following import which makes all of the SymPy modules available.\n",
        "- Before SymPy will accept a variable as a symbol, the variable must first be defined as a SymPy symbol using the `symbols()` function. It takes one or more symbols at a time and attaches them to variables.\n",
        "- If you plan on using Sympy and not mixing functions from other libraries we can importing everything from sympy with the following command and not worry about attaching sympy.F to every function F"
      ]
    },
    {
      "cell_type": "code",
      "execution_count": 37,
      "metadata": {
        "id": "bWoo9wWIcJsm"
      },
      "outputs": [],
      "source": [
        "from sympy import *"
      ]
    },
    {
      "cell_type": "code",
      "execution_count": 39,
      "metadata": {
        "colab": {
          "base_uri": "https://localhost:8080/",
          "height": 39
        },
        "id": "gFXcpzeccXhj",
        "outputId": "207a6dbd-d9f7-4d88-c1be-ea25b1b0a687"
      },
      "outputs": [
        {
          "data": {
            "text/latex": [
              "$\\displaystyle x$"
            ],
            "text/plain": [
              "x"
            ]
          },
          "execution_count": 39,
          "metadata": {},
          "output_type": "execute_result"
        }
      ],
      "source": [
        "x, c, m = symbols('x c m')\n",
        "\n",
        "x"
      ]
    },
    {
      "cell_type": "markdown",
      "metadata": {
        "id": "i1L4CjCHWhpb"
      },
      "source": [
        "### Common SymPy Functions\n",
        "\n",
        "Similar to the `math` Python module, SymPy contains an assortment of standard mathematical operators such as square root and trigonometric functions. A table of common functions is below. Some of the functions start with a capital letter such as `Abs()`. This is important so that they do not collide with native Python functions if SymPy is imported into the global namespace.\n",
        "\n",
        "|      |       |        |        |        |\n",
        "| :--: | :---: | :---:  | :---:  | :----: |   \n",
        "|`Abs()`| `sin()` | `cos()` | `tan()`| `cot()` |\n",
        "|`sec()` | `csc()` | `asin()` | `acos()` | `atan()` |\n",
        "|`ceiling()` | `floor()` | `Min()` | `Max()` | `sqrt()` |\n",
        "\n",
        "It is important to note that any mathematical function operating on a symbol needs to be from the SymPy library. For example, using a `math.cos()` function from the `math` Python modeule will result in an error."
      ]
    },
    {
      "cell_type": "markdown",
      "metadata": {
        "id": "jsm6RbO4Whpb"
      },
      "source": [
        "### Common Algebraic Methods\n",
        "\n",
        "SymPy is quite capable at algebraic operations and is knowledgeable of common identities such as $sin(x)^2 + cos(x)^2 = 1$, but before we proceed with doing algebra in SymPy, we need to cover some basic algebraic methods. These are provided in Table 3 which includes polynomial expansion and factoring, expression simplification, and solving equations. The subsequent sections demonstrate each of these.\n",
        "\n",
        "| Method | Description |\n",
        "|:------:|:----------  |\n",
        "|`sympy.expand()` | Expand polynomials |\n",
        "|`sympy.factor()` | Factors polynomials |\n",
        "|`sympy.simplify()` | Simplifies the expression |\n",
        "|`sympy.solve()` | Equates the expression to zero and solves for the requested variable |\n",
        "|`sympy.subs()`  | Substitutes a variable for a value, expression, or another variable |\n",
        "|`sympy.series()`  | Expands functon in taylor series |"
      ]
    },
    {
      "cell_type": "markdown",
      "metadata": {
        "id": "-jt3G5g7aSfa"
      },
      "source": [
        "### Expand and factor"
      ]
    },
    {
      "cell_type": "markdown",
      "metadata": {
        "id": "xkBJqbjjaSfa"
      },
      "source": [
        "The first steps in an algebraic manipulation"
      ]
    },
    {
      "cell_type": "code",
      "execution_count": null,
      "metadata": {
        "id": "q34VEavPaSfa",
        "outputId": "a031b7c7-6a15-4e5d-98ae-2a8ae44c0096"
      },
      "outputs": [
        {
          "data": {
            "image/png": "[encoded data removed]",
            "text/latex": [
              "$$\\left(x + 1\\right) \\left(x + 2\\right) \\left(x + 3\\right)$$"
            ],
            "text/plain": [
              "(x + 1)⋅(x + 2)⋅(x + 3)"
            ]
          },
          "execution_count": 33,
          "metadata": {},
          "output_type": "execute_result"
        }
      ],
      "source": [
        "(x+1)*(x+2)*(x+3)"
      ]
    },
    {
      "cell_type": "code",
      "execution_count": null,
      "metadata": {
        "id": "Pvu2xBjNaSfa",
        "outputId": "e30b4e28-e13b-4d63-db45-fb9f022d778b"
      },
      "outputs": [
        {
          "data": {
            "image/png": "[encoded data removed]",
            "text/latex": [
              "$$x^{3} + 6 x^{2} + 11 x + 6$$"
            ],
            "text/plain": [
              " 3      2           \n",
              "x  + 6⋅x  + 11⋅x + 6"
            ]
          },
          "execution_count": 34,
          "metadata": {},
          "output_type": "execute_result"
        }
      ],
      "source": [
        "expand((x+1)*(x+2)*(x+3))"
      ]
    },
    {
      "cell_type": "markdown",
      "metadata": {
        "id": "aIcuuLjeaSfa"
      },
      "source": [
        "The `expand` function takes a number of keywords arguments which we can tell the functions what kind of expansions we want to have performed. For example, to expand trigonometric expressions, use the `trig=True` keyword argument:"
      ]
    },
    {
      "cell_type": "code",
      "execution_count": null,
      "metadata": {
        "id": "w3tuM-4OaSfa",
        "outputId": "ecefdec7-c1fc-44e1-ce50-82ba00c1caa7"
      },
      "outputs": [
        {
          "data": {
            "image/png": "[encoded data removed]",
            "text/latex": [
              "$$\\sin{\\left (a + b \\right )}$$"
            ],
            "text/plain": [
              "sin(a + b)"
            ]
          },
          "execution_count": 35,
          "metadata": {},
          "output_type": "execute_result"
        }
      ],
      "source": [
        "sin(a+b)"
      ]
    },
    {
      "cell_type": "code",
      "execution_count": null,
      "metadata": {
        "id": "Tg9vj88yaSfa",
        "outputId": "c6180775-2842-48b4-e76e-76785e2cc17f"
      },
      "outputs": [
        {
          "data": {
            "image/png": "[encoded data removed]",
            "text/latex": [
              "$$\\sin{\\left (a \\right )} \\cos{\\left (b \\right )} + \\sin{\\left (b \\right )} \\cos{\\left (a \\right )}$$"
            ],
            "text/plain": [
              "sin(a)⋅cos(b) + sin(b)⋅cos(a)"
            ]
          },
          "execution_count": 36,
          "metadata": {},
          "output_type": "execute_result"
        }
      ],
      "source": [
        "expand(sin(a+b), trig=True)"
      ]
    },
    {
      "cell_type": "markdown",
      "metadata": {
        "id": "juB2ln8waSfa"
      },
      "source": [
        "See `help(expand)` for a detailed explanation of the various types of expansions the `expand` functions can perform."
      ]
    },
    {
      "cell_type": "markdown",
      "metadata": {
        "id": "XFJ1c46baSfa"
      },
      "source": [
        "The opposite of product expansion is of course factoring. To factor an expression in SymPy use the `factor` function:"
      ]
    },
    {
      "cell_type": "code",
      "execution_count": null,
      "metadata": {
        "id": "hq_9bHjwaSfa",
        "outputId": "dfdcbedc-8e14-4d3f-8bec-f281ad38330b"
      },
      "outputs": [
        {
          "data": {
            "image/png": "[encoded data removed]",
            "text/latex": [
              "$$\\left(x + 1\\right) \\left(x + 2\\right) \\left(x + 3\\right)$$"
            ],
            "text/plain": [
              "(x + 1)⋅(x + 2)⋅(x + 3)"
            ]
          },
          "execution_count": 37,
          "metadata": {},
          "output_type": "execute_result"
        }
      ],
      "source": [
        "factor(x**3 + 6 * x**2 + 11*x + 6)"
      ]
    },
    {
      "cell_type": "markdown",
      "metadata": {
        "id": "B1XTifYyWhpc"
      },
      "source": [
        "### Simplification"
      ]
    },
    {
      "cell_type": "code",
      "execution_count": 40,
      "metadata": {
        "id": "xZvBYNV5Whpc"
      },
      "outputs": [],
      "source": [
        "expr = 3*x**2 - 4*x - 15 / (x - 3)"
      ]
    },
    {
      "cell_type": "code",
      "execution_count": 3,
      "metadata": {
        "colab": {
          "base_uri": "https://localhost:8080/",
          "height": 52
        },
        "id": "0McDAMJLW6qN",
        "outputId": "a8dcbb14-08ed-486e-bfbc-19faefeb3e50"
      },
      "outputs": [
        {
          "data": {
            "text/latex": [
              "$\\displaystyle 3 x^{2} - 4 x - \\frac{15}{x - 3}$"
            ],
            "text/plain": [
              "3*x**2 - 4*x - 15/(x - 3)"
            ]
          },
          "execution_count": 3,
          "metadata": {},
          "output_type": "execute_result"
        }
      ],
      "source": [
        "expr"
      ]
    },
    {
      "cell_type": "code",
      "execution_count": 41,
      "metadata": {
        "colab": {
          "base_uri": "https://localhost:8080/",
          "height": 54
        },
        "id": "6CsI5Nz2Whpc",
        "outputId": "ac91a790-8857-4b14-9846-10e78db4cde9"
      },
      "outputs": [
        {
          "data": {
            "text/latex": [
              "$\\displaystyle \\frac{x \\left(x - 3\\right) \\left(3 x - 4\\right) - 15}{x - 3}$"
            ],
            "text/plain": [
              "(x*(x - 3)*(3*x - 4) - 15)/(x - 3)"
            ]
          },
          "execution_count": 41,
          "metadata": {},
          "output_type": "execute_result"
        }
      ],
      "source": [
        "simplify(expr)"
      ]
    },
    {
      "cell_type": "markdown",
      "metadata": {
        "id": "kVgXqLEOWhpc"
      },
      "source": [
        "### Solving equations"
      ]
    },
    {
      "cell_type": "code",
      "execution_count": 42,
      "metadata": {
        "colab": {
          "base_uri": "https://localhost:8080/",
          "height": 39
        },
        "id": "6L2IRc2gW-s6",
        "outputId": "bad67b95-fe61-4a13-9ad6-0cb692107fd9"
      },
      "outputs": [
        {
          "data": {
            "text/latex": [
              "$\\displaystyle x^{2} + 1.4 x - 5.76$"
            ],
            "text/plain": [
              "x**2 + 1.4*x - 5.76"
            ]
          },
          "execution_count": 42,
          "metadata": {},
          "output_type": "execute_result"
        }
      ],
      "source": [
        "expr = x**2 + 1.4*x - 5.76\n",
        "expr"
      ]
    },
    {
      "cell_type": "code",
      "execution_count": 43,
      "metadata": {
        "colab": {
          "base_uri": "https://localhost:8080/"
        },
        "id": "blqV4gjnWhpc",
        "outputId": "d9499971-67b7-41c4-81f8-872190cedfea"
      },
      "outputs": [
        {
          "data": {
            "text/plain": [
              "[-3.20000000000000, 1.80000000000000]"
            ]
          },
          "execution_count": 43,
          "metadata": {},
          "output_type": "execute_result"
        }
      ],
      "source": [
        "solve(expr)"
      ]
    },
    {
      "cell_type": "markdown",
      "metadata": {
        "id": "Rcak5TnMaSfS"
      },
      "source": [
        "### Complex numbers"
      ]
    },
    {
      "cell_type": "markdown",
      "metadata": {
        "id": "AlQVqmFuaSfS"
      },
      "source": [
        "The imaginary unit is denoted `I` in SymPy."
      ]
    },
    {
      "cell_type": "code",
      "execution_count": null,
      "metadata": {
        "id": "brYX1n9raSfS",
        "outputId": "246024b1-2fe4-48c2-b9d8-05fd7bf4146c"
      },
      "outputs": [
        {
          "data": {
            "image/png": "[encoded data removed]",
            "text/latex": [
              "$$1 + i$$"
            ],
            "text/plain": [
              "1 + ⅈ"
            ]
          },
          "execution_count": 12,
          "metadata": {},
          "output_type": "execute_result"
        }
      ],
      "source": [
        "1+1*I"
      ]
    },
    {
      "cell_type": "code",
      "execution_count": null,
      "metadata": {
        "id": "ogZ3LbpkaSfS",
        "outputId": "d48cca86-636d-4a77-b522-775bfbba6d30"
      },
      "outputs": [
        {
          "data": {
            "image/png": "[encoded data removed]",
            "text/latex": [
              "$$-1$$"
            ],
            "text/plain": [
              "-1"
            ]
          },
          "execution_count": 13,
          "metadata": {},
          "output_type": "execute_result"
        }
      ],
      "source": [
        "I**2"
      ]
    },
    {
      "cell_type": "code",
      "execution_count": null,
      "metadata": {
        "id": "41aGHRkcaSfS",
        "outputId": "a78fc07c-a7b1-4a63-e543-9ddfe25a1f21"
      },
      "outputs": [
        {
          "data": {
            "image/png": "[encoded data removed]",
            "text/latex": [
              "$$\\left(i x + 1\\right)^{2}$$"
            ],
            "text/plain": [
              "         2\n",
              "(ⅈ⋅x + 1) "
            ]
          },
          "execution_count": 14,
          "metadata": {},
          "output_type": "execute_result"
        }
      ],
      "source": [
        "(x * I + 1)**2"
      ]
    },
    {
      "cell_type": "markdown",
      "metadata": {
        "id": "E84qcuP5agUP"
      },
      "source": [
        "### Series\n",
        "\n",
        "Series expansion is also one of the most useful features of a CAS. In SymPy we can perform a series expansion of an expression using the series function:"
      ]
    },
    {
      "cell_type": "code",
      "execution_count": 44,
      "metadata": {
        "id": "pWwNWQldbbjN"
      },
      "outputs": [],
      "source": [
        "x = Symbol('x', real=True)"
      ]
    },
    {
      "cell_type": "code",
      "execution_count": 45,
      "metadata": {
        "colab": {
          "base_uri": "https://localhost:8080/",
          "height": 54
        },
        "id": "VciJB-hHaPQK",
        "outputId": "9b9377d5-eea1-4926-822f-e073d00f8f3a"
      },
      "outputs": [
        {
          "data": {
            "text/latex": [
              "$\\displaystyle 1 + x + \\frac{x^{2}}{2} + \\frac{x^{3}}{6} + \\frac{x^{4}}{24} + \\frac{x^{5}}{120} + O\\left(x^{6}\\right)$"
            ],
            "text/plain": [
              "1 + x + x**2/2 + x**3/6 + x**4/24 + x**5/120 + O(x**6)"
            ]
          },
          "execution_count": 45,
          "metadata": {},
          "output_type": "execute_result"
        }
      ],
      "source": [
        "series(exp(x), x)"
      ]
    },
    {
      "cell_type": "markdown",
      "metadata": {
        "id": "VvqIKYxQar7p"
      },
      "source": [
        "- By default it expands the expression around  𝑥=0 , but we can expand around any value of  𝑥  by explicitly include a value in the function call:"
      ]
    },
    {
      "cell_type": "code",
      "execution_count": 46,
      "metadata": {
        "colab": {
          "base_uri": "https://localhost:8080/",
          "height": 56
        },
        "id": "tvFnRfYXas-X",
        "outputId": "d287e689-d779-4fa8-9c80-abedbef1b180"
      },
      "outputs": [
        {
          "data": {
            "text/latex": [
              "$\\displaystyle e + e \\left(x - 1\\right) + \\frac{e \\left(x - 1\\right)^{2}}{2} + \\frac{e \\left(x - 1\\right)^{3}}{6} + \\frac{e \\left(x - 1\\right)^{4}}{24} + \\frac{e \\left(x - 1\\right)^{5}}{120} + O\\left(\\left(x - 1\\right)^{6}; x\\rightarrow 1\\right)$"
            ],
            "text/plain": [
              "E + E*(x - 1) + E*(x - 1)**2/2 + E*(x - 1)**3/6 + E*(x - 1)**4/24 + E*(x - 1)**5/120 + O((x - 1)**6, (x, 1))"
            ]
          },
          "execution_count": 46,
          "metadata": {},
          "output_type": "execute_result"
        }
      ],
      "source": [
        "series(exp(x), x, 1)"
      ]
    },
    {
      "cell_type": "markdown",
      "metadata": {
        "id": "-MwWZQ1ga2Uj"
      },
      "source": [
        "And we can explicitly define to which order the series expansion should be carried out:"
      ]
    },
    {
      "cell_type": "code",
      "execution_count": 47,
      "metadata": {
        "colab": {
          "base_uri": "https://localhost:8080/",
          "height": 56
        },
        "id": "yHjrOuSka2z-",
        "outputId": "bbd7a65e-386b-435c-e4c4-7b0a1a5525dc"
      },
      "outputs": [
        {
          "data": {
            "text/latex": [
              "$\\displaystyle e + e \\left(x - 1\\right) + \\frac{e \\left(x - 1\\right)^{2}}{2} + \\frac{e \\left(x - 1\\right)^{3}}{6} + O\\left(\\left(x - 1\\right)^{4}; x\\rightarrow 1\\right)$"
            ],
            "text/plain": [
              "E + E*(x - 1) + E*(x - 1)**2/2 + E*(x - 1)**3/6 + O((x - 1)**4, (x, 1))"
            ]
          },
          "execution_count": 47,
          "metadata": {},
          "output_type": "execute_result"
        }
      ],
      "source": [
        "series(exp(x), x, 1, 4)"
      ]
    },
    {
      "cell_type": "markdown",
      "metadata": {
        "id": "EyENJ1A3aSfb"
      },
      "source": [
        "### Differentiation"
      ]
    },
    {
      "cell_type": "markdown",
      "metadata": {
        "id": "tymV3On8aSfb"
      },
      "source": [
        "Differentiation is usually simple. Use the `diff` function. The first argument is the expression to take the derivative of, and the second argument is the symbol by which to take the derivative:"
      ]
    },
    {
      "cell_type": "code",
      "execution_count": null,
      "metadata": {
        "id": "QavHVHv4aSfb",
        "outputId": "885c52fb-66aa-4a53-f09c-74d289f09e6a"
      },
      "outputs": [
        {
          "data": {
            "image/png": "[encoded data removed]",
            "text/latex": [
              "$$\\left(x + \\pi\\right)^{2}$$"
            ],
            "text/plain": [
              "       2\n",
              "(x + π) "
            ]
          },
          "execution_count": 48,
          "metadata": {},
          "output_type": "execute_result"
        }
      ],
      "source": [
        "y"
      ]
    },
    {
      "cell_type": "code",
      "execution_count": null,
      "metadata": {
        "id": "Ae-EtW9WaSfb",
        "outputId": "f70de5d9-c6c7-497b-8be0-a81dab20e56c"
      },
      "outputs": [
        {
          "data": {
            "image/png": "[encoded data removed]",
            "text/latex": [
              "$$4 \\left(x + \\pi\\right)^{3}$$"
            ],
            "text/plain": [
              "         3\n",
              "4⋅(x + π) "
            ]
          },
          "execution_count": 49,
          "metadata": {},
          "output_type": "execute_result"
        }
      ],
      "source": [
        "diff(y**2, x)"
      ]
    },
    {
      "cell_type": "markdown",
      "metadata": {
        "id": "EofBeH-eaSfb"
      },
      "source": [
        "For higher order derivatives we can do:"
      ]
    },
    {
      "cell_type": "code",
      "execution_count": null,
      "metadata": {
        "id": "3sxeVaG9aSfc",
        "outputId": "3bee4393-112f-4037-babd-9f15a7483c04"
      },
      "outputs": [
        {
          "data": {
            "image/png": "[encoded data removed]",
            "text/latex": [
              "$$12 \\left(x + \\pi\\right)^{2}$$"
            ],
            "text/plain": [
              "          2\n",
              "12⋅(x + π) "
            ]
          },
          "execution_count": 50,
          "metadata": {},
          "output_type": "execute_result"
        }
      ],
      "source": [
        "diff(y**2, x, x)"
      ]
    },
    {
      "cell_type": "code",
      "execution_count": null,
      "metadata": {
        "id": "1X1kfjrwaSfc",
        "outputId": "8ceda9d0-3ec7-4f67-f674-7578af5c6d6e"
      },
      "outputs": [
        {
          "data": {
            "image/png": "[encoded data removed]",
            "text/latex": [
              "$$12 \\left(x + \\pi\\right)^{2}$$"
            ],
            "text/plain": [
              "          2\n",
              "12⋅(x + π) "
            ]
          },
          "execution_count": 51,
          "metadata": {},
          "output_type": "execute_result"
        }
      ],
      "source": [
        "diff(y**2, x, 2) # same as above"
      ]
    },
    {
      "cell_type": "markdown",
      "metadata": {
        "id": "RMFxYBmmaSfc"
      },
      "source": [
        "To calculate the derivative of a multivariate expression, we can do:"
      ]
    },
    {
      "cell_type": "code",
      "execution_count": null,
      "metadata": {
        "id": "hlsKZb2zaSfc"
      },
      "outputs": [],
      "source": [
        "x, y, z = symbols(\"x,y,z\")"
      ]
    },
    {
      "cell_type": "code",
      "execution_count": null,
      "metadata": {
        "id": "6p3RilF2aSfc"
      },
      "outputs": [],
      "source": [
        "f = sin(x*y) + cos(y*z)"
      ]
    },
    {
      "cell_type": "markdown",
      "metadata": {
        "id": "kB_bjyWfaSfc"
      },
      "source": [
        "$\\frac{d^3f}{dxdy^2}$"
      ]
    },
    {
      "cell_type": "code",
      "execution_count": null,
      "metadata": {
        "id": "NeuPBIDGaSfc",
        "outputId": "90d7dc36-4a7b-4c3c-c3fc-247eb7da2aef"
      },
      "outputs": [
        {
          "data": {
            "image/png": "[encoded data removed]",
            "text/latex": [
              "$$- x \\left(x y \\cos{\\left (x y \\right )} + 2 \\sin{\\left (x y \\right )}\\right)$$"
            ],
            "text/plain": [
              "-x⋅(x⋅y⋅cos(x⋅y) + 2⋅sin(x⋅y))"
            ]
          },
          "execution_count": 54,
          "metadata": {},
          "output_type": "execute_result"
        }
      ],
      "source": [
        "diff(f, x, 1, y, 2)"
      ]
    },
    {
      "cell_type": "markdown",
      "metadata": {
        "id": "6ByABaJZaSfc"
      },
      "source": [
        "### Integration"
      ]
    },
    {
      "cell_type": "markdown",
      "metadata": {
        "id": "EJgolyZpaSfc"
      },
      "source": [
        "Integration is done in a similar fashion:"
      ]
    },
    {
      "cell_type": "code",
      "execution_count": null,
      "metadata": {
        "id": "8NavA1DgaSfc",
        "outputId": "70d06256-4b86-4948-a36d-82ea1e8b87ba"
      },
      "outputs": [
        {
          "data": {
            "image/png": "[encoded data removed]",
            "text/latex": [
              "$$\\sin{\\left (x y \\right )} + \\cos{\\left (y z \\right )}$$"
            ],
            "text/plain": [
              "sin(x⋅y) + cos(y⋅z)"
            ]
          },
          "execution_count": 55,
          "metadata": {},
          "output_type": "execute_result"
        }
      ],
      "source": [
        "f"
      ]
    },
    {
      "cell_type": "code",
      "execution_count": null,
      "metadata": {
        "id": "JC68TXq6aSfc",
        "outputId": "e0383460-6b90-482c-f303-423e126e4eca"
      },
      "outputs": [
        {
          "data": {
            "image/png": "[encoded data removed]",
            "text/latex": [
              "$$x \\cos{\\left (y z \\right )} + \\begin{cases} 0 & \\text{for}\\: y = 0 \\\\- \\frac{1}{y} \\cos{\\left (x y \\right )} & \\text{otherwise} \\end{cases}$$"
            ],
            "text/plain": [
              "             ⎛⎧    0       for y = 0⎞\n",
              "             ⎜⎪                     ⎟\n",
              "x⋅cos(y⋅z) + ⎜⎨-cos(x⋅y)            ⎟\n",
              "             ⎜⎪──────────  otherwise⎟\n",
              "             ⎝⎩    y                ⎠"
            ]
          },
          "execution_count": 56,
          "metadata": {},
          "output_type": "execute_result"
        }
      ],
      "source": [
        "integrate(f, x)"
      ]
    },
    {
      "cell_type": "markdown",
      "metadata": {
        "id": "ZkR96_GFaSfc"
      },
      "source": [
        "By providing limits for the integration variable we can evaluate definite integrals:"
      ]
    },
    {
      "cell_type": "code",
      "execution_count": null,
      "metadata": {
        "id": "ppX6-QlAaSfc",
        "outputId": "84586cfa-6c60-4850-c052-a560637fee12"
      },
      "outputs": [
        {
          "data": {
            "image/png": "[encoded data removed]",
            "text/latex": [
              "$$2 \\cos{\\left (y z \\right )}$$"
            ],
            "text/plain": [
              "2⋅cos(y⋅z)"
            ]
          },
          "execution_count": 57,
          "metadata": {},
          "output_type": "execute_result"
        }
      ],
      "source": [
        "integrate(f, (x, -1, 1))"
      ]
    },
    {
      "cell_type": "markdown",
      "metadata": {
        "id": "QTAKPBFVaSfc"
      },
      "source": [
        "and also improper integrals"
      ]
    },
    {
      "cell_type": "code",
      "execution_count": null,
      "metadata": {
        "id": "pdpEQ-73aSfc",
        "outputId": "9e3ca16c-2575-44b1-bf3e-89e0719d0620"
      },
      "outputs": [
        {
          "data": {
            "image/png": "[encoded data removed]",
            "text/latex": [
              "$$\\sqrt{\\pi}$$"
            ],
            "text/plain": [
              "  ___\n",
              "╲╱ π "
            ]
          },
          "execution_count": 58,
          "metadata": {},
          "output_type": "execute_result"
        }
      ],
      "source": [
        "integrate(exp(-x**2), (x, -oo, oo))"
      ]
    },
    {
      "cell_type": "markdown",
      "metadata": {
        "id": "4FXSkbYeaSfc"
      },
      "source": [
        "Remember, `oo` is the SymPy notation for inifinity."
      ]
    },
    {
      "cell_type": "markdown",
      "metadata": {
        "id": "ZD7xRoO_f7qt"
      },
      "source": [
        "**Definite Integral example**\n",
        "\n",
        "$$\n",
        "\\int_{0}^{\\ln(4)} \\frac{e^x \\cdot d x} {\\sqrt(e^{2x} + 9)}\n",
        "$$"
      ]
    },
    {
      "cell_type": "code",
      "execution_count": 57,
      "metadata": {
        "colab": {
          "base_uri": "https://localhost:8080/",
          "height": 58
        },
        "id": "6OzCt3RygBwI",
        "outputId": "d84713df-d1ae-4560-f75f-d25122e993c8"
      },
      "outputs": [
        {
          "data": {
            "text/latex": [
              "$\\displaystyle - \\operatorname{asinh}{\\left(\\frac{1}{3} \\right)} + \\operatorname{asinh}{\\left(\\frac{4}{3} \\right)}$"
            ],
            "text/plain": [
              "-asinh(1/3) + asinh(4/3)"
            ]
          },
          "execution_count": 57,
          "metadata": {},
          "output_type": "execute_result"
        }
      ],
      "source": [
        "integrate(exp(x) / sqrt(exp(2*x) + 9), (x, 0, log(4)))"
      ]
    },
    {
      "cell_type": "markdown",
      "metadata": {
        "id": "DVQcL0V2aSfc"
      },
      "source": [
        "### Sums and products"
      ]
    },
    {
      "cell_type": "markdown",
      "metadata": {
        "id": "f7Rh56OHaSfc"
      },
      "source": [
        "We can evaluate sums using the function `Sum`:"
      ]
    },
    {
      "cell_type": "code",
      "execution_count": null,
      "metadata": {
        "id": "OVlFs7pwaSfc"
      },
      "outputs": [],
      "source": [
        "n = Symbol(\"n\")"
      ]
    },
    {
      "cell_type": "code",
      "execution_count": null,
      "metadata": {
        "id": "uIB-WTHjaSfc",
        "outputId": "9f1b5daa-3b42-48bf-d5f6-c90cb9926da1"
      },
      "outputs": [
        {
          "data": {
            "image/png": "[encoded data removed]",
            "text/latex": [
              "$$\\sum_{n=1}^{10} \\frac{1}{n^{2}}$$"
            ],
            "text/plain": [
              "  10    \n",
              " ____   \n",
              " ╲      \n",
              "  ╲   1 \n",
              "   ╲  ──\n",
              "   ╱   2\n",
              "  ╱   n \n",
              " ╱      \n",
              " ‾‾‾‾   \n",
              "n = 1   "
            ]
          },
          "execution_count": 60,
          "metadata": {},
          "output_type": "execute_result"
        }
      ],
      "source": [
        "Sum(1/n**2, (n, 1, 10))"
      ]
    },
    {
      "cell_type": "code",
      "execution_count": null,
      "metadata": {
        "id": "cl2ZGkx-aSfc",
        "outputId": "365620d2-698e-4fda-97c2-7f341a9f6c09"
      },
      "outputs": [
        {
          "data": {
            "image/png": "[encoded data removed]",
            "text/latex": [
              "$$1.54976773116654$$"
            ],
            "text/plain": [
              "1.54976773116654"
            ]
          },
          "execution_count": 61,
          "metadata": {},
          "output_type": "execute_result"
        }
      ],
      "source": [
        "Sum(1/n**2, (n,1, 10)).evalf()"
      ]
    },
    {
      "cell_type": "code",
      "execution_count": null,
      "metadata": {
        "id": "uecIOMxraSfc",
        "outputId": "6f6ae3e1-8631-412b-9097-aab3ee413c97"
      },
      "outputs": [
        {
          "data": {
            "image/png": "[encoded data removed]",
            "text/latex": [
              "$$1.64493406684823$$"
            ],
            "text/plain": [
              "1.64493406684823"
            ]
          },
          "execution_count": 62,
          "metadata": {},
          "output_type": "execute_result"
        }
      ],
      "source": [
        "Sum(1/n**2, (n, 1, oo)).evalf()"
      ]
    },
    {
      "cell_type": "markdown",
      "metadata": {
        "id": "v6hzhCbSaSfc"
      },
      "source": [
        "Products work much the same way:"
      ]
    },
    {
      "cell_type": "code",
      "execution_count": null,
      "metadata": {
        "id": "-J08inJhaSfc",
        "outputId": "4c58951f-71d0-43a6-e775-37bd0559575a"
      },
      "outputs": [
        {
          "data": {
            "image/png": "[encoded data removed]",
            "text/latex": [
              "$$\\prod_{n=1}^{10} n$$"
            ],
            "text/plain": [
              "  10   \n",
              "┬───┬  \n",
              "│   │ n\n",
              "│   │  \n",
              "n = 1  "
            ]
          },
          "execution_count": 63,
          "metadata": {},
          "output_type": "execute_result"
        }
      ],
      "source": [
        "Product(n, (n, 1, 10)) # 10!"
      ]
    },
    {
      "cell_type": "markdown",
      "metadata": {
        "id": "8eRsYAsCWhpd"
      },
      "source": [
        "### Physics functions\n",
        "\n",
        "- [Sympy Physics functions](https://docs.sympy.org/latest/reference/public/physics/index.html)"
      ]
    },
    {
      "cell_type": "markdown",
      "metadata": {
        "id": "sJV6lcSKWhpd"
      },
      "source": [
        "SymPy contains several physics functions. In this section, we will be working with the radial density functions ($\\psi$) for hydrogen atomic orbitals. The squares of these functions ($\\psi ^2$) provide the probability of finding an electron with respect to distance from the nucleus. While these equations are available in various textbooks, SymPy provides a `physics` module with a `R_nl()` function for generating these equations based on the principle (*n*) quantum number, angular (*l*) quantum number, and the atomic number (*Z*). For example, to generate the function for the 2p orbital of hydrogen, *n* = 2, *l* = 1, and *Z* = 1."
      ]
    },
    {
      "cell_type": "code",
      "execution_count": 20,
      "metadata": {
        "id": "LKGdYeTxWhpd"
      },
      "outputs": [],
      "source": [
        "from sympy.physics.hydrogen import R_nl, Psi_nlm, E_nl\n",
        "\n",
        "r, phi, theta = sympy.symbols('r, phi, theta')"
      ]
    },
    {
      "cell_type": "code",
      "execution_count": 23,
      "metadata": {
        "colab": {
          "base_uri": "https://localhost:8080/",
          "height": 66
        },
        "id": "Cj75G48fYMTQ",
        "outputId": "93df5fde-96db-4ec0-aba5-0025f2259cac"
      },
      "outputs": [
        {
          "data": {
            "text/latex": [
              "$\\displaystyle \\frac{2 \\sqrt{30} r^{2} \\cdot \\left(\\frac{3 \\sqrt{5} \\cos^{2}{\\left(\\theta \\right)}}{4 \\sqrt{\\pi}} - \\frac{\\sqrt{5}}{4 \\sqrt{\\pi}}\\right) e^{- \\frac{r}{3}}}{1215}$"
            ],
            "text/plain": [
              "2*sqrt(30)*r**2*(3*sqrt(5)*cos(theta)**2/(4*sqrt(pi)) - sqrt(5)/(4*sqrt(pi)))*exp(-r/3)/1215"
            ]
          },
          "execution_count": 23,
          "metadata": {},
          "output_type": "execute_result"
        }
      ],
      "source": [
        "Psi_nlm(n=3,\n",
        "        l=2,\n",
        "        m=0,\n",
        "        r=r,\n",
        "        phi=phi,\n",
        "        theta=theta,\n",
        "        Z=1)"
      ]
    },
    {
      "cell_type": "code",
      "execution_count": 18,
      "metadata": {
        "colab": {
          "base_uri": "https://localhost:8080/",
          "height": 55
        },
        "id": "eNEOJFleWhpd",
        "outputId": "73659113-60da-424b-a97b-8c075bb9ef30"
      },
      "outputs": [
        {
          "data": {
            "text/latex": [
              "$\\displaystyle \\frac{\\sqrt{6} r e^{- \\frac{r}{2}}}{12}$"
            ],
            "text/plain": [
              "sqrt(6)*r*exp(-r/2)/12"
            ]
          },
          "execution_count": 18,
          "metadata": {},
          "output_type": "execute_result"
        }
      ],
      "source": [
        "R_nl(n=2,\n",
        "     l=1,\n",
        "     r=r,\n",
        "     Z=1)"
      ]
    },
    {
      "cell_type": "markdown",
      "metadata": {
        "id": "4FARvayoWhpd"
      },
      "source": [
        "This provides the wavefunction equation with respect to the radius, *r*. We can also convert it to a Python function using the `sympy.lambdify()` method."
      ]
    },
    {
      "cell_type": "code",
      "execution_count": null,
      "metadata": {
        "id": "Ylw5hj5qWhpd"
      },
      "outputs": [],
      "source": [
        "f = sympy.lambdify(r, R_21, modules='numpy')"
      ]
    },
    {
      "cell_type": "markdown",
      "metadata": {
        "id": "LShrmRthWhpd"
      },
      "source": [
        "This function is now callable by providing a value for *r*."
      ]
    },
    {
      "cell_type": "code",
      "execution_count": null,
      "metadata": {
        "id": "88gpdEqhWhpd"
      },
      "outputs": [],
      "source": [
        "f(0.5)"
      ]
    },
    {
      "cell_type": "code",
      "execution_count": null,
      "metadata": {
        "id": "l9MPmtHyWhpd"
      },
      "outputs": [],
      "source": [
        "integrate(R_21**2 * r**2, (r,0, mx)).evalf()"
      ]
    },
    {
      "cell_type": "markdown",
      "metadata": {
        "id": "EBQW0q4RWhpd"
      },
      "source": [
        "There is a 5.27% probability finding an electron between the nucleus and the radius of maximum probability. This is probably may be a bit surprising, but examination of the radial density plot reveals that the radius of maximum probabily is quite close to the nucleus with a significant amount of density beyond the maximum radius. Let's see the probability of finding an electron between 0 and 10 Bohrs from the nucleus."
      ]
    },
    {
      "cell_type": "code",
      "execution_count": null,
      "metadata": {
        "id": "WUzcd7gRWhpd"
      },
      "outputs": [],
      "source": [
        "sympy.integrate(R_21**2 * r**2, (r,0,10)).evalf()"
      ]
    },
    {
      "cell_type": "markdown",
      "metadata": {
        "id": "2lrhxZ-VWhpd"
      },
      "source": [
        "There is a 97.1% chance of finding the electron between 0 and 10 angstroms.\n",
        "\n",
        "The SciPy library also includes functions in the `integrate` module for integrating mathematical functions."
      ]
    },
    {
      "cell_type": "markdown",
      "metadata": {
        "id": "lkNm7EtVWhpd"
      },
      "source": [
        "### Example problem"
      ]
    },
    {
      "cell_type": "markdown",
      "metadata": {
        "id": "l7nWXXUlWhpd"
      },
      "source": [
        "As an example problem, the radius of maximum density can be found by taking the first derivative of the radial equation and solving for zero slope."
      ]
    },
    {
      "cell_type": "code",
      "execution_count": 49,
      "metadata": {
        "id": "iwuu4pumfatz"
      },
      "outputs": [],
      "source": [
        "from sympy.physics.hydrogen import R_nl\n",
        "\n",
        "r = sympy.symbols('r', real=True )"
      ]
    },
    {
      "cell_type": "code",
      "execution_count": 50,
      "metadata": {
        "colab": {
          "base_uri": "https://localhost:8080/",
          "height": 55
        },
        "id": "YyyFKL-2fm3y",
        "outputId": "0340e7bb-980f-4ebf-d14d-147c9f7d563c"
      },
      "outputs": [
        {
          "data": {
            "text/latex": [
              "$\\displaystyle \\frac{\\sqrt{6} r e^{- \\frac{r}{2}}}{12}$"
            ],
            "text/plain": [
              "sqrt(6)*r*exp(-r/2)/12"
            ]
          },
          "execution_count": 50,
          "metadata": {},
          "output_type": "execute_result"
        }
      ],
      "source": [
        "R_21 = R_nl(n=2, l=1, r=r, Z=1)\n",
        "\n",
        "R_21"
      ]
    },
    {
      "cell_type": "code",
      "execution_count": 51,
      "metadata": {
        "colab": {
          "base_uri": "https://localhost:8080/",
          "height": 55
        },
        "id": "JKzetB34Whpd",
        "outputId": "3ebfbf4e-de51-4c11-d974-9bac8a0850a5"
      },
      "outputs": [
        {
          "data": {
            "text/latex": [
              "$\\displaystyle - \\frac{\\sqrt{6} r e^{- \\frac{r}{2}}}{24} + \\frac{\\sqrt{6} e^{- \\frac{r}{2}}}{12}$"
            ],
            "text/plain": [
              "-sqrt(6)*r*exp(-r/2)/24 + sqrt(6)*exp(-r/2)/12"
            ]
          },
          "execution_count": 51,
          "metadata": {},
          "output_type": "execute_result"
        }
      ],
      "source": [
        "dR_21 = diff(R_21, r, 1)\n",
        "dR_21"
      ]
    },
    {
      "cell_type": "code",
      "execution_count": 53,
      "metadata": {
        "colab": {
          "base_uri": "https://localhost:8080/"
        },
        "id": "s_Pk0YzwWhpd",
        "outputId": "25149c79-3c99-4466-ca2e-90a3d1d60618"
      },
      "outputs": [
        {
          "data": {
            "text/plain": [
              "2.0"
            ]
          },
          "execution_count": 53,
          "metadata": {},
          "output_type": "execute_result"
        }
      ],
      "source": [
        "mx = float( solve(dR_21)[0] )\n",
        "mx"
      ]
    },
    {
      "cell_type": "markdown",
      "metadata": {
        "id": "XkWzI05jWhpd"
      },
      "source": [
        "The `solve()` function returns an array, so we need to index it to get the single value out. We can plot the radial density and the maximum density point to see if it worked."
      ]
    },
    {
      "cell_type": "code",
      "execution_count": 54,
      "metadata": {
        "id": "S1m_dEPrfXd-"
      },
      "outputs": [],
      "source": [
        "f = lambdify(r, R_21, modules='numpy')"
      ]
    },
    {
      "cell_type": "code",
      "execution_count": null,
      "metadata": {
        "id": "VqQTHLNZWhpd"
      },
      "outputs": [],
      "source": [
        "R = np.linspace(0,20,100)\n",
        "plt.plot(R, f(R))\n",
        "plt.plot(mx, f(mx), 'o')\n",
        "plt.xlabel('Radius, $a_0$')\n",
        "plt.ylabel('Probability Density');"
      ]
    },
    {
      "cell_type": "markdown",
      "metadata": {
        "id": "U3DEndCZWhpd"
      },
      "source": [
        "The radius is in Bohrs ($a_0$) which is equal to approximately 0.53 angstroms."
      ]
    },
    {
      "cell_type": "markdown",
      "metadata": {
        "id": "KXsEUaIUWhpe"
      },
      "source": [
        "### Exercises\n",
        "\n",
        "1. Factor the following polynomial using SymPy: $x^2 + x – 6$\n",
        "\n",
        "2.  Simplify the following mathematical expression using SymPy: $ z = 3x + x^2 + 2xy $\n",
        "\n",
        "3. Expand the following expression using SymPy: $(x – 2)(x + 5)(x)$\n",
        "\n",
        "4. The following is the equation for the work performed by a reversible, isothermal (i.e., constant T) expansion of a piston by a fixed quantity of gas.\n",
        "\n",
        "    $$ w = \\int_{v_i}^{v_f} -nRT \\frac{1}{V}dV $$\n",
        "\n",
        "    a) Using SymPy, integrate this expression symbolically for $V_i$ $\\rightarrow$ $V_f$. Try having SymPy simplify the answer to see if there is a simpler form.\n",
        "\n",
        "    b) Integrate the same express above for the expansion of 2.44 mol of He gas from 0.552 L to 1.32 L at 298 K. Feel free to use either SymPy or SciPy."
      ]
    }
  ],
  "metadata": {
    "colab": {
      "provenance": []
    },
    "kernelspec": {
      "display_name": "Python 3",
      "name": "python3"
    },
    "language_info": {
      "name": "python"
    },
    "orig_nbformat": 4
  },
  "nbformat": 4,
  "nbformat_minor": 0
}
