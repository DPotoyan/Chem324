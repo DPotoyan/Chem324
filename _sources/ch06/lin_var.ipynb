{
 "cells": [
  {
   "cell_type": "markdown",
   "metadata": {},
   "source": [
    "## Linear Variational Method"
   ]
  },
  {
   "cell_type": "markdown",
   "metadata": {},
   "source": [
    ":::{admonition} What you need to know\n",
    ":class: note\n",
    "\n",
    "- The variational method is a powerful method that can be used to determine upper bounds and approximations for ground state energies of numerous quantum mechanical problems.  \n",
    "- The variational method is used heavily in electronic structure theories such as Hartree Fock.\n",
    "- The linear varaation method is seeking solutions to Schrodinger equation by expressing trial wavefunctions as linear combinations of easy to compute functions like gaussians or exponential.\n",
    "- The linear variational method converts Schrodinger equation into linear algebra problem of finding eigenvalues (energies) and eigenvectors (coefficients in linear combination)\n",
    "\n",
    ":::"
   ]
  },
  {
   "cell_type": "markdown",
   "metadata": {},
   "source": [
    "### Linearizing the pproblem"
   ]
  },
  {
   "cell_type": "markdown",
   "metadata": {},
   "source": [
    "How does this help us in practice?  In a typical QM problem, we are attempting to solve for the wavefunction(s) and energy(ies) for a given Hamiltonian.  If the Hamiltonian is such that solving the problem exactly is too challenging (e.g. any two or more electron problem) we can expand the wavefunction in a basis and attempt to solve the problem that way.  We start with \n",
    "\n",
    "$$\\psi \\approx \\phi = \\sum_n^N c_nf_n$$\n",
    "\n",
    "Truncating this expansion at any finite $n$ leads to an approximate solution.  Also, what the variational principle tells us is that we can minimize the energy with respect to variational paramters ${c_n}$ and still have $E_\\phi \\geq E_0$.  "
   ]
  },
  {
   "cell_type": "markdown",
   "metadata": {},
   "source": [
    "### Smallest example\n",
    "\n",
    "- We will illustrate this idea and the general matrix construction with a simple example of two basis functions ($N=2$)\n",
    "\n",
    "$$\\phi = c_1f_1 + c_2f_2$$\n",
    "\n",
    "- There is currently no need to define these functions explicitly so we will leave them as generic functions $f_1$ and $f_2$.  We now solve for the energy\n",
    "\n",
    "$$E_\\phi = \\frac{\\langle\\phi|\\hat{H}|\\phi\\rangle}{\\langle\\phi|\\phi\\rangle}$$\n",
    "\n",
    "$$ = \\frac{\\langle c_1f_1 + c_2f_2|\\hat{H}|c_1f_1 + c_2f_2 \\rangle}{\\langle c_1f_1 + c_2f_2|c_1f_1 + c_2f_2 \\rangle}$$\n",
    "\n",
    "- Let's investigate the numerator and denomenator separately.  We start with the numerator\n",
    "\n",
    "$$\\langle c_1f_1 + c_2f_2|\\hat{H}|c_1f_1 + c_2f_2 \\rangle = \\langle c_1f_1|\\hat{H}|c_1f_1\\rangle + \\langle c_1f_1|\\hat{H}|c_2f_2\\rangle +\\langle c_2f_2|\\hat{H}|c_1f_1\\rangle + \\langle c_2f_2|\\hat{H}|c_2f_2\\rangle$$\n",
    "\n",
    "$$ = c_1^*c_1\\langle f_1|\\hat{H}|f_1\\rangle + c_1^*c_2\\langle f_1|\\hat{H}|f_2\\rangle +c_2^*c_1\\langle f_2|\\hat{H}|f_1\\rangle + c_2^*c_2\\langle f_2|\\hat{H}|f_2\\rangle$$\n",
    "\n",
    "- We note that $c_i$ are real and thus $c_1^*c_1=c_1^2$ and $c_1c_2=c_2c_1$ thus\n",
    "\n",
    "$$Numerator = c_1^2 \\langle f_1|\\hat{H}|f_1\\rangle + c_1c_2\\langle f_1|\\hat{H}|f_2\\rangle +c_2c_1\\langle f_2|\\hat{H}|f_1\\rangle + c_2^2\\langle f_2|\\hat{H}|f_2\\rangle$$\n",
    "\n",
    "- Finally we recognize that since $\\hat{H}$ is Hermitian, we have $\\langle f_2|\\hat{H}|f_1\\rangle = \\langle f_1|\\hat{H}|f_2\\rangle$ yielding \n",
    "\n",
    "$$Numerator = c_1^2 \\langle f_1|\\hat{H}|f_1\\rangle + 2c_1c_2\\langle f_1|\\hat{H}|f_2\\rangle + c_2^2\\langle f_2|\\hat{H}|f_2\\rangle$$\n",
    "\n",
    "- We will refer to the integrals above as *matrix elements* with, generically, $H_{ij} = \\langle f_i|\\hat{H}|f_j\\rangle$. We now consider the denominator of the energy equation above and we utilize similar algebra for the numerator to get\n",
    "\n",
    "$$\\langle c_1f_1 + c_2f_2|c_1f_1 + c_2f_2 \\rangle = c_1^2S_{11} + 2c_1c_2S_{12} + c_2^2S_{22}$$\n",
    "\n",
    "$$S_{ij} = \\langle f_i|f_j\\rangle$$\n",
    "\n",
    "where $S_{ij}$ is another matrix element but this time referred to as the basis function overlap.Now we have that the energy of the trial wavefunction is\n",
    "\n",
    "$$E_\\phi = \\frac{c_1^2 H_{11} + 2c_1c_2H_{12} + c_2^2H_{22}}{c_1^2S_{11} + 2c_1c_2S_{12} + c_2^2S_{22}}$$"
   ]
  },
  {
   "cell_type": "markdown",
   "metadata": {},
   "source": [
    "### Eigenvalue problem\n",
    "\n",
    "- Since $E_\\phi \\geq E_0$ for any function $\\phi$ we can minimize the energy, $E_\\phi$, with respect to variational paramters $c_1$ and $c_2$.  We start by minimizing with respect to $c_1$ which equates to differentiating the energy with respect to $c_1$ and setting that derivative to zero\n",
    "\n",
    "$$\\frac{\\partial E_\\phi}{\\partial c_1} = 0 = c_1(H_{11}-ES_{11}) + c_2(H_{12}-ES_{12})$$\n",
    "\n",
    "- Similarly, minimizing with respect to $c_2$ we get\n",
    "\n",
    "$$\\frac{\\partial E_\\phi}{\\partial c_2} = 0 = c_1(H_{12}-ES_{12}) + c_2(H_{22}-ES_{22})$$\n",
    "\n",
    "- We can rewrite the above two coupled linear equations as a matrix equation\n",
    "\n",
    "$$\\begin{bmatrix} H_{11}-ES_{11} & H_{12}-ES_{12} \\\\ H_{12}-ES_{12} & H_{22}-ES_{22} \\end{bmatrix}\\begin{bmatrix} c_1 \\\\ c_2 \\end{bmatrix} = 0$$\n",
    "\n",
    "- We can rewrite the left most matrix as a difference of two matrices and then add to both sides:\n",
    "\n",
    "$$\\left(\\begin{bmatrix} H_{11} & H_{12} \\\\ H_{12} & H_{22} \\end{bmatrix} - \\begin{bmatrix} ES_{11} & ES_{12} \\\\ ES_{12} & ES_{22} \\end{bmatrix} \\right) \\begin{bmatrix} c_1 \\\\ c_2 \\end{bmatrix} = 0$$\n",
    "\n",
    "$$\\Rightarrow \\begin{bmatrix} H_{11} & H_{12} \\\\ H_{12} & H_{22} \\end{bmatrix} \\begin{bmatrix} c_1 \\\\ c_2 \\end{bmatrix} = \\begin{bmatrix} ES_{11} & ES_{12} \\\\ ES_{12} & ES_{22} \\end{bmatrix} \\begin{bmatrix} c_1 \\\\ c_2 \\end{bmatrix} $$\n",
    "\n",
    "$$ \\begin{bmatrix} H_{11} & H_{12} \\\\ H_{12} & H_{22} \\end{bmatrix} \\begin{bmatrix} c_1 \\\\ c_2 \\end{bmatrix} = E\\begin{bmatrix} S_{11} & S_{12} \\\\ S_{12} & S_{22} \\end{bmatrix} \\begin{bmatrix} c_1 \\\\ c_2 \\end{bmatrix} $$\n",
    "\n",
    "- or, written in more general matrix notation, \n",
    "\n",
    "$$\\mathbf{H}\\mathbf{c} = E\\mathbf{S}\\mathbf{c}$$\n",
    "\n",
    "- If we now left multiply both sides of the above equation by $\\mathbf{S}^{-1}$ we see that we have an eigenvalue-eigenvector problem\n",
    "\n",
    "$$\\mathbf{S}^{-1}\\mathbf{H}\\mathbf{c} = E\\mathbf{I}\\mathbf{c}$$\n",
    "\n",
    "- Thus the minimum energies are the eigenvalues of $\\mathbf{S}^{-1}\\mathbf{H}$ and the variational parameters that minimize the energies are the eigenvectors of $\\mathbf{S}^{-1}\\mathbf{H}$."
   ]
  },
  {
   "cell_type": "markdown",
   "metadata": {},
   "source": [
    "## Example: Particle in a Box"
   ]
  },
  {
   "cell_type": "markdown",
   "metadata": {},
   "source": [
    "Let's consider a free particle in 1D bounded to $0\\leq x\\leq a$.  The Hamiltonian for such a system is simply the kinetic energy operator\n",
    "\n",
    "$$\\hat{H} = -\\frac{\\hbar^2}{2m}\\frac{d^2}{dx^2}$$\n",
    "\n",
    "While we can (/have) solved this problem analytically, it will be instructive to see how the variational solution works.  We start by approximating $\\psi(x)$ as an expansion in two basis functions\n",
    "\n",
    "$$\\psi(x) \\approx c_1x(a-x) + c_2x^2(a-x)^2$$\n",
    "\n",
    "where the basis functions are $f_1(x) = x(a-x)$ and $f_2(x) = x^2(a-x)^2$ and $c_1$ and $c_2$ are the variational parameters (/linear coefficients of basis functions).  In order to solve for the variational energies and wavefunctions given this expansion we must construct the Hamiltonian matrix, $\\mathbf{H}$, and the basis function overlap matrix, $\\mathbf{S}$.  We will then compute and diagonlize the $\\mathbf{S}^{-1}\\mathbf{H}$ matrix.  Recall,\n",
    "\n",
    "$$H_{ij} = \\langle f_i|\\hat{H}|f_j\\rangle$$\n",
    "\n",
    "and\n",
    "\n",
    "$$S_{ij} = \\langle f_i|f_j\\rangle $$"
   ]
  },
  {
   "cell_type": "markdown",
   "metadata": {},
   "source": [
    "In this problem, we have two basis functions\n",
    "\n",
    "$$f_1(x) = x(a-x)$$\n",
    "\n",
    "and \n",
    "\n",
    "$$f_2(x) = x^2(a-x)^2$$\n",
    "\n",
    "### Computing the matrix elements:\n",
    "\n",
    "$$H_{11} = \\langle x(a-x)|\\hat{H}|x(a-x)\\rangle$$\n",
    "\n",
    "$$= \\langle ax|\\hat{H}|ax\\rangle -\\langle ax|\\hat{H}|x^2\\rangle - \\langle x^2|\\hat{H}|ax\\rangle + \\langle x^2|\\hat{H}|x^2\\rangle$$\n",
    "\n",
    "$$ = -a\\langle x|\\hat{H}|x^2\\rangle + \\langle x^2|\\hat{H}|x^2\\rangle$$\n",
    "\n",
    "where the last equality holds because the second derivative of $x$ with respect to x is zero. Let's now investigate each of these integrals\n",
    "\n",
    "$$\\langle x|\\hat{H}|x^2\\rangle = \\int_0^ax \\frac{-\\hbar^2}{2m}\\frac{d^2}{dx^2} x^2dx \\\\ = \\frac{-\\hbar^2}{m}\\int_0^axdx = \\frac{-\\hbar^2a^2}{2m}$$\n",
    "\n",
    "Similarly we should get\n",
    "\n",
    "$$\\langle x^2|\\hat{H}|x^2\\rangle =\\frac{-\\hbar^2a^3}{3m}$$\n",
    "\n",
    "Thus\n",
    "\n",
    "$$H_{11} = -a\\frac{-\\hbar^2a^2}{2m} + \\frac{-\\hbar^2a^3}{3m} = \\frac{\\hbar^2a^3}{6m}$$"
   ]
  },
  {
   "cell_type": "markdown",
   "metadata": {},
   "source": [
    "$$H_{22} = \\langle x^2(a-x)^2|\\hat{H}|x^2(a-x)^2\\rangle$$\n",
    "\n",
    "$$ = \\langle a^2x^2|\\hat{H}|a^2x^2\\rangle -2\\langle a^2x^2|\\hat{H}|2ax^3\\rangle + \\langle a^2x^2|\\hat{H}|x^4\\rangle -2\\langle ax^3|\\hat{H}|a^2x^2\\rangle + 4\\langle ax^3|\\hat{H}|ax^3\\rangle -2\\langle ax^3|\\hat{H}|x^4\\rangle + \\langle x^4|\\hat{H}|a^2x^2\\rangle - 2\\langle x^4|\\hat{H}|ax^3\\rangle + \\langle x^4|\\hat{H}|x^4\\rangle$$\n",
    "\n",
    "$$ = \\frac{-\\hbar^2a^7}{3m} +\\frac{3\\hbar^2 a^7}{m} - \\frac{6\\hbar^2 a^7}{5m} +\\frac{\\hbar^2 a^7}{2m} - \\frac{12\\hbar^2 a^7}{5m} +\\frac{2\\hbar^2 a^7}{m} - \\frac{\\hbar^2 a^7}{5m} + \\frac{\\hbar^2 a^7}{m} - \\frac{6\\hbar^2 a^7}{7m}$$\n",
    "\n",
    "$$ = \\frac{\\hbar^2a^7}{105m} $$\n",
    "\n",
    "$$H_{12} = H_{21} = \\frac{\\hbar^2a^5}{30m}$$\n",
    "\n",
    "We can now complete the Hamiltonian matrix, $\\mathbf{H}$,\n",
    "\n",
    "$$\\mathbf{H} = \\frac{\\hbar^2a^3}{m} \\begin{bmatrix} \\frac{1}{6} & \\frac{a^2}{30}\\\\ \\frac{a^2}{30} & \\frac{a^4}{105} \\end{bmatrix}$$"
   ]
  },
  {
   "cell_type": "markdown",
   "metadata": {},
   "source": [
    "It can also be shown that $\\mathbf{S}$ is\n",
    "\n",
    "$$\\mathbf{S} = \\frac{a^5}{10} \\begin{bmatrix} \\frac{1}{3} & \\frac{a^2}{14}\\\\ \\frac{a^2}{14} & \\frac{a^4}{63} \\end{bmatrix}$$"
   ]
  },
  {
   "cell_type": "code",
   "execution_count": 17,
   "metadata": {
    "tags": [
     "hide-input"
    ]
   },
   "outputs": [
    {
     "name": "stdout",
     "output_type": "stream",
     "text": [
      "Eigenvalues: [ 4.93487481+0.j 51.06512519+0.j]\n",
      "First eigenvector: [-0.66168489 -0.74978204]\n"
     ]
    }
   ],
   "source": [
    "import numpy as np\n",
    "from scipy.linalg import eig, inv, eigh\n",
    "\n",
    "# Lets adopt simpler units\n",
    "a = 1.0\n",
    "hbar = 1.0\n",
    "m = 1.0\n",
    "\n",
    "S = np.array([[1.0/30.0, 1.0/140.0],[1.0/140.0,1.0/630.0]])\n",
    "H = np.array([[1.0/6.0,1.0/30.0],[1.0/30.0,1.0/105.0]])\n",
    "\n",
    "e, v = eig(inv(S) @ H) #e, v = eigh(H, S) #Same values eigh is for hermitian matrices\n",
    "\n",
    "print(\"Eigenvalues:\", e)\n",
    "print(\"First eigenvector:\", v[:,0])"
   ]
  },
  {
   "cell_type": "markdown",
   "metadata": {},
   "source": [
    "So we see that the smallest energy in this basis is \n",
    "\n",
    "$$E_\\phi = 4.9349 \\frac{\\hbar^2}{m}$$\n",
    "\n",
    "How does this compare to the analytic solution?  We need to recall that for particle in a box we have:\n",
    "\n",
    "$$E_n = \\frac{n^2\\pi^2\\hbar^2}{2ma^2} $$\n",
    "\n",
    "Plugging in for the ground state, $n=1$, and $a=1$ since that is what we used numerically above we get\n",
    "\n",
    "$$E_1 = \\frac{\\pi^2\\hbar^2}{2} \\approx 4.9348 \\frac{\\hbar^2}{m} $$\n",
    "\n",
    "So we can see that our variational solution worked out well for the energy.  Now how about the wavefunction?"
   ]
  },
  {
   "cell_type": "code",
   "execution_count": 4,
   "metadata": {
    "tags": [
     "hide-input"
    ]
   },
   "outputs": [
    {
     "data": {
      "text/plain": [
       "<matplotlib.legend.Legend at 0x7f9083657a90>"
      ]
     },
     "execution_count": 4,
     "metadata": {},
     "output_type": "execute_result"
    },
    {
     "data": {
      "image/png": "[encoded data removed]",
      "text/plain": [
       "<Figure size 640x480 with 1 Axes>"
      ]
     },
     "metadata": {},
     "output_type": "display_data"
    }
   ],
   "source": [
    "# plot wavefunction\n",
    "import matplotlib.pyplot as plt\n",
    "from scipy import integrate\n",
    "%matplotlib inline\n",
    "# x values\n",
    "x = np.arange(0,1,0.01)\n",
    "# exact wavefunction\n",
    "psi1Exact = np.sqrt(2)*np.sin(np.pi*x) \n",
    "plt.plot(x,psi1Exact,'k-',label=\"Exact\",lw=3)\n",
    "# variational basis function wavefunction\n",
    "psi1Var = v[0,0]*x*(1-x) + v[1,0]*x**2*(1-x)**2\n",
    "norm = np.sqrt(integrate.simps(np.power(psi1Var,2),x))\n",
    "plt.plot(x,-psi1Var/norm,'r--', label=\"Variational\")\n",
    "plt.legend()"
   ]
  }
 ],
 "metadata": {
  "celltoolbar": "Tags",
  "kernelspec": {
   "display_name": "Python 3 (ipykernel)",
   "language": "python",
   "name": "python3"
  },
  "language_info": {
   "codemirror_mode": {
    "name": "ipython",
    "version": 3
   },
   "file_extension": ".py",
   "mimetype": "text/x-python",
   "name": "python",
   "nbconvert_exporter": "python",
   "pygments_lexer": "ipython3",
   "version": "3.10.8"
  }
 },
 "nbformat": 4,
 "nbformat_minor": 2
}
