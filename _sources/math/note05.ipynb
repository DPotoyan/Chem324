{
 "cells": [
  {
   "cell_type": "markdown",
   "metadata": {},
   "source": [
    "# Linear Algebra 2: Enter The Matrix"
   ]
  },
  {
   "cell_type": "markdown",
   "metadata": {},
   "source": [
    "### Functions in QM seen as vectors"
   ]
  },
  {
   "cell_type": "markdown",
   "metadata": {},
   "source": [
    "- Take any function and evaluate at $N$ points e.g $x=(1,2,3, ...N)$. \n",
    "\n",
    "- We just turned out function into a vector with N components or N-dimensional vector\n",
    "\n",
    "- Example:  $f(x)=x^2$ can be represented as $(1, 4, 8)$ where we evaluated function at three points.\n"
   ]
  },
  {
   "cell_type": "markdown",
   "metadata": {},
   "source": [
    "### Dirac notation unifies vectors and functions \n",
    "\n",
    "|                 Dirac notation for vectors                   |                 Dirac notation for functions                 |\n",
    "| :----------------------------------------------------------: | :----------------------------------------------------------: |\n",
    "| **Ket** $\\mid a \\rangle =(a_1,a_2,..)\\\\ $ **Bra** $\\bra{a} = \\begin{pmatrix}a_1 \\\\ a_2 \\\\  ...\\\\ \\end{pmatrix}$  | **Ket** $\\mid \\psi\\rangle=\\psi(x)\\\\$ $\\\\$ **Bra** $\\langle \\psi \\mid=\\psi(x)^*$  |\n",
    "|  **Example** $\\\\ \\mid a \\rangle =(1, 2i)$ $\\\\\\bra{a} =\\begin{pmatrix} 1 \\\\ -2i \\\\ \\end{pmatrix}$ | **Example**  $\\\\ \\mid \\psi \\rangle=e^{ix^2}$  $\\\\ \\langle \\psi \\mid = e^{-ix^2}$ |"
   ]
  },
  {
   "cell_type": "markdown",
   "metadata": {},
   "source": [
    "### Operators in QM are seen as Matrices\n",
    "\n",
    "- In quantum mechanics, **functions** that describe quantum states can be treated as vectors in a vector space, and **operators** that act on these functions are represented as matrices. \n",
    "\n",
    "- For instance, a **differentiation operator** can be represented by a matrix when acting on discretized versions of the wavefunctions. Let’s illustrate this with the first and second derivative operators.\n",
    "\n",
    "#### Example: First Derivative as a Matrix\n",
    "\n",
    "Suppose we discretize a function $\\psi(x)$ over a set of points $\\{x_1, x_2, \\dots, x_n\\}$ with spacing $h$. We can approximate the first derivative using the finite difference formula:\n",
    "\n",
    "$$ \\frac{d\\psi}{dx} \\approx \\frac{\\psi(x_{i+1}) - \\psi(x_i)}{h} $$\n",
    "\n",
    "This operation can be represented by a matrix. For $n = 5$ grid points, the first derivative matrix $D_1$ looks like:\n",
    "\n",
    "$$\n",
    "D_1 = \\frac{1}{h}\n",
    "\\begin{pmatrix}\n",
    "-1 & 1 & 0 & 0 & 0 \\\\\n",
    "0 & -1 & 1 & 0 & 0 \\\\\n",
    "0 & 0 & -1 & 1 & 0 \\\\\n",
    "0 & 0 & 0 & -1 & 1 \\\\\n",
    "0 & 0 & 0 & 0 & 0\n",
    "\\end{pmatrix}\n",
    "$$\n",
    "\n",
    "For a function represented as a vector $\\psi = (\\psi(x_1), \\psi(x_2), \\dots, \\psi(x_5))$, applying this matrix gives the derivative at each point (except the boundary).\n",
    "\n",
    "\n",
    "#### Example: Second Derivative as a Matrix\n",
    "\n",
    "Similarly, the second derivative can be approximated by a central difference formula:\n",
    "\n",
    "$$ \\frac{d^2\\psi}{dx^2} \\approx \\frac{\\psi(x_{i+1}) - 2\\psi(x_i) + \\psi(x_{i-1})}{h^2} $$\n",
    "\n",
    "The corresponding second derivative matrix $D_2$ for $n = 5$ grid points is:\n",
    "\n",
    "$$\n",
    "D_2 = \\frac{1}{h^2}\n",
    "\\begin{pmatrix}\n",
    "-2 & 1 & 0 & 0 & 0 \\\\\n",
    "1 & -2 & 1 & 0 & 0 \\\\\n",
    "0 & 1 & -2 & 1 & 0 \\\\\n",
    "0 & 0 & 1 & -2 & 1 \\\\\n",
    "0 & 0 & 0 & 1 & -2\n",
    "\\end{pmatrix}\n",
    "$$\n",
    "\n",
    "Applying this matrix to the vector $\\psi$ gives the second derivative of the function at each point."
   ]
  },
  {
   "cell_type": "markdown",
   "metadata": {},
   "source": [
    "\n",
    "\n",
    "### Numeric Example: Applying the Derivative Matrix for $\\psi(x) = x^2$\n",
    "\n",
    "Let’s consider the function $\\psi(x) = x^2$ sampled at 5 points $x = [0, 1, 2, 3, 4]$, giving us:\n",
    "\n",
    "$$ \\psi = \\begin{pmatrix}\n",
    "    0 \\\\\n",
    "    1 \\\\\n",
    "    4 \\\\\n",
    "    9 \\\\\n",
    "    16\n",
    "\\end{pmatrix}\n",
    "$$\n",
    "\n",
    "If the spacing between points is $h = 1$, applying the first derivative matrix $D_1$ gives:\n",
    "\n",
    "$$\n",
    "D_1 \\cdot \\psi = \\frac{1}{1}\n",
    "\\begin{pmatrix}\n",
    "-1 & 1 & 0 & 0 & 0 \\\\\n",
    "0 & -1 & 1 & 0 & 0 \\\\\n",
    "0 & 0 & -1 & 1 & 0 \\\\\n",
    "0 & 0 & 0 & -1 & 1 \\\\\n",
    "0 & 0 & 0 & 0 & 0\n",
    "\\end{pmatrix}\n",
    "\\begin{pmatrix}\n",
    "0 \\\\\n",
    "1 \\\\\n",
    "4 \\\\\n",
    "9 \\\\\n",
    "16\n",
    "\\end{pmatrix}\n",
    "= \\begin{pmatrix}\n",
    "1 \\\\\n",
    "3 \\\\\n",
    "5 \\\\\n",
    "7 \\\\\n",
    "0\n",
    "\\end{pmatrix}\n",
    "$$\n",
    "\n",
    "This approximates the first derivative of \\( \\psi(x) = x^2 \\) at each of the sampled points:\n",
    "\n",
    "- At $x = 1$, the derivative is approximately 1 (exact value: 2).\n",
    "- At $x = 2$, the derivative is approximately 3 (exact value: 4).\n",
    "- At $x = 3$, the derivative is approximately 5 (exact value: 6).\n",
    "- At $x = 4$, the derivative is approximately 7 (exact value: 8).\n",
    "- The last value is zero due to boundary handling.\n",
    "\n",
    "This illustrates how the finite difference method approximates the derivative for the function $\\psi(x) = x^2$ at discrete points."
   ]
  },
  {
   "cell_type": "code",
   "execution_count": null,
   "metadata": {},
   "outputs": [],
   "source": [
    "import numpy as np\n",
    "\n",
    "# Define the grid points and function\n",
    "n = 5\n",
    "x = np.linspace(0, 4, n)  # Grid points from 0 to 4\n",
    "h = x[1] - x[0]  # Spacing between points\n",
    "psi = x**2  # Function psi(x) = x^2\n",
    "\n",
    "# Define the first derivative matrix D_1\n",
    "D_1 = (1/h) * np.array([\n",
    "    [-1, 1, 0, 0, 0],\n",
    "    [0, -1, 1, 0, 0],\n",
    "    [0, 0, -1, 1, 0],\n",
    "    [0, 0, 0, -1, 1],\n",
    "    [0, 0, 0, 0, 0]\n",
    "])\n",
    "\n",
    "# Apply the first derivative matrix to the function vector\n",
    "derivative_psi = D_1 @ psi\n",
    "\n",
    "psi, derivative_psi  # Display the original function an"
   ]
  },
  {
   "cell_type": "markdown",
   "metadata": {},
   "source": [
    "### Conclusion\n",
    "\n",
    "By treating functions as vectors and operators as matrices, quantum mechanics becomes a powerful framework for solving complex problems. Operations like differentiation, integration, and multiplication by physical observables can be represented as matrix operations, which leads to efficient numerical methods in computational quantum mechanics."
   ]
  }
 ],
 "metadata": {
  "language_info": {
   "name": "python"
  }
 },
 "nbformat": 4,
 "nbformat_minor": 2
}
