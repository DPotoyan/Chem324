{
 "cells": [
  {
   "cell_type": "markdown",
   "metadata": {},
   "source": [
    "## Sympy"
   ]
  },
  {
   "cell_type": "markdown",
   "metadata": {},
   "source": [
    "- SymPy is the main library in the SciPy ecosystem for performing symbolic mathematics, and it is suitable for a wide audience from high school students to scientific researchers. It is something like a free, open source Mathematica substitute that is built on Python and is arguably more accessible in terms of cost and ease of acquisition. All of the following SymPy code relies on the following import which makes all of the SymPy modules available.\n",
    "\n",
    "- Before SymPy will accept a variable as a symbol, the variable must first be defined as a SymPy symbol using the `symbols()` function. It takes one or more symbols at a time and attaches them to variables."
   ]
  },
  {
   "cell_type": "code",
   "execution_count": null,
   "metadata": {},
   "outputs": [],
   "source": [
    "import sympy\n",
    "\n",
    "x, c, m = sympy.symbols('x c m')\n",
    "\n",
    "x"
   ]
  },
  {
   "cell_type": "markdown",
   "metadata": {},
   "source": [
    "### Common SymPy Functions\n",
    "\n",
    "Similar to the `math` Python module, SymPy contains an assortment of standard mathematical operators such as square root and trigonometric functions. A table of common functions is below. Some of the functions start with a capital letter such as `Abs()`. This is important so that they do not collide with native Python functions if SymPy is imported into the global namespace.\n",
    "\n",
    "|      |       |        |        |        |\n",
    "| :--: | :---: | :---:  | :---:  | :----: |   \n",
    "|`Abs()`| `sin()` | `cos()` | `tan()`| `cot()` |\n",
    "|`sec()` | `csc()` | `asin()` | `acos()` | `atan()` |\n",
    "|`ceiling()` | `floor()` | `Min()` | `Max()` | `sqrt()` |\n",
    "\n",
    "It is important to note that any mathematical function operating on a symbol needs to be from the SymPy library. For example, using a `math.cos()` function from the `math` Python modeule will result in an error."
   ]
  },
  {
   "cell_type": "markdown",
   "metadata": {},
   "source": [
    "### Common Algebraic Methods\n",
    "\n",
    "SymPy is quite capable at algebraic operations and is knowledgeable of common identities such as $sin(x)^2 + cos(x)^2 = 1$, but before we proceed with doing algebra in SymPy, we need to cover some basic algebraic methods. These are provided in Table 3 which includes polynomial expansion and factoring, expression simplification, and solving equations. The subsequent sections demonstrate each of these.\n",
    "\n",
    "| Method | Description |\n",
    "|:------:|:----------  |\n",
    "|`sympy.expand()` | Expand polynomials |\n",
    "|`sympy.factor()` | Factors polynomials |\n",
    "|`sympy.simplify()` | Simplifies the expression |\n",
    "|`sympy.solve()` | Equates the expression to zero and solves for the requested variable |\n",
    "|`sympy.subs()`  | Substitutes a variable for a value, expression, or another variable |"
   ]
  },
  {
   "cell_type": "markdown",
   "metadata": {},
   "source": [
    "### Symplification"
   ]
  },
  {
   "cell_type": "code",
   "execution_count": null,
   "metadata": {},
   "outputs": [],
   "source": [
    "3*x**2 - 4*x - 15 / (x - 3)"
   ]
  },
  {
   "cell_type": "code",
   "execution_count": null,
   "metadata": {},
   "outputs": [],
   "source": [
    "sympy.simplify((3*x**2 - 4*x - 15) / (x - 3))"
   ]
  },
  {
   "cell_type": "markdown",
   "metadata": {},
   "source": [
    "### Solving equations"
   ]
  },
  {
   "cell_type": "code",
   "execution_count": null,
   "metadata": {},
   "outputs": [],
   "source": [
    "sympy.solve(x**2 + 1.4*x - 5.76)"
   ]
  },
  {
   "cell_type": "markdown",
   "metadata": {},
   "source": [
    "### Sympy scientfic functions\n",
    "\n",
    "- [Sympy Physics functions](https://docs.sympy.org/latest/reference/public/physics/index.html)"
   ]
  },
  {
   "cell_type": "markdown",
   "metadata": {},
   "source": [
    "SymPy and SciPy both contain functionality for performing calculus operations. In this section, we will be working with the radial density functions ($\\psi$) for hydrogen atomic orbitals. The squares of these functions ($\\psi ^2$) provide the probability of finding an electron with respect to distance from the nucleus. While these equations are available in various textbooks, SymPy provides a `physics` module with a `R_nl()` function for generating these equations based on the principle (*n*) quantum number, angular (*l*) quantum number, and the atomic number (*Z*). For example, to generate the function for the 2p orbital of hydrogen, *n* = 2, *l* = 1, and *Z* = 1."
   ]
  },
  {
   "cell_type": "code",
   "execution_count": null,
   "metadata": {},
   "outputs": [],
   "source": [
    "from sympy.physics.hydrogen import R_nl"
   ]
  },
  {
   "cell_type": "code",
   "execution_count": null,
   "metadata": {},
   "outputs": [],
   "source": [
    "r = sympy.symbols('r')\n",
    "R_21 = R_nl(2, 1, r, Z=1)"
   ]
  },
  {
   "cell_type": "code",
   "execution_count": null,
   "metadata": {},
   "outputs": [],
   "source": [
    "R_21"
   ]
  },
  {
   "cell_type": "markdown",
   "metadata": {},
   "source": [
    "This provides the wavefunction equation with respect to the radius, *r*. We can also convert it to a Python function using the `sympy.lambdify()` method."
   ]
  },
  {
   "cell_type": "code",
   "execution_count": null,
   "metadata": {},
   "outputs": [],
   "source": [
    "f = sympy.lambdify(r, R_21, modules='numpy')"
   ]
  },
  {
   "cell_type": "markdown",
   "metadata": {},
   "source": [
    "This function is now callable by providing a value for *r*."
   ]
  },
  {
   "cell_type": "code",
   "execution_count": null,
   "metadata": {},
   "outputs": [],
   "source": [
    "f(0.5)"
   ]
  },
  {
   "cell_type": "markdown",
   "metadata": {},
   "source": [
    "### Differentiation"
   ]
  },
  {
   "cell_type": "markdown",
   "metadata": {},
   "source": [
    "SymPy can take the derivative of mathematical expression using the `sympy.diff()` function.  This function requires a mathematical expression, the variable with respect the derivative is taken from, and the degree. The default behavior is to take the first derivative if a degree is not specified.\n",
    "\n",
    "```python\n",
    "sympy.diff(expr, r, deg)\n",
    "```\n",
    "\n",
    "As an example problem, the radius of maximum density can be found by taking the first derivative of the radial equation and solving for zero slope."
   ]
  },
  {
   "cell_type": "code",
   "execution_count": null,
   "metadata": {},
   "outputs": [],
   "source": [
    "dR_21 = sympy.diff(R_21, r, 1)\n",
    "dR_21"
   ]
  },
  {
   "cell_type": "code",
   "execution_count": null,
   "metadata": {},
   "outputs": [],
   "source": [
    "mx = float(sympy.solve(dR_21)[0])"
   ]
  },
  {
   "cell_type": "markdown",
   "metadata": {},
   "source": [
    "The `solve()` function returns an array, so we need to index it to get the single value out. We can plot the radial density and the maximum density point to see if it worked."
   ]
  },
  {
   "cell_type": "code",
   "execution_count": null,
   "metadata": {},
   "outputs": [],
   "source": [
    "R = np.linspace(0,20,100)\n",
    "plt.plot(R, f(R))\n",
    "plt.plot(mx, f(mx), 'o')\n",
    "plt.xlabel('Radius, $a_0$')\n",
    "plt.ylabel('Probability Density');"
   ]
  },
  {
   "cell_type": "markdown",
   "metadata": {},
   "source": [
    "The radius is in Bohrs ($a_0$) which is equal to approximately 0.53 angstroms."
   ]
  },
  {
   "cell_type": "markdown",
   "metadata": {},
   "source": [
    "### Integration\n",
    "\n",
    "SymPy can also integrate expressions using the `sympy.integrate()` function which takes the mathematical expression and the variable plus integration range in the form of a tuple. If the integration range is omitted, then SymPy will return a symbolic expression.\n",
    "\n",
    "The normalized (i.e., totals to one) density function is the squared wave function times $r^2$ (i.e, $\\psi ^2 r^2$). We can use this to determine the probability of finding an electron in a particular range of distances from the radius. Below, we integrate from the nucleus to the radius of maximum density."
   ]
  },
  {
   "cell_type": "code",
   "execution_count": null,
   "metadata": {},
   "outputs": [],
   "source": [
    "sympy.integrate(R_21**2 * r**2, (r,0, mx)).evalf()"
   ]
  },
  {
   "cell_type": "markdown",
   "metadata": {},
   "source": [
    "There is a 5.27% probability finding an electron between the nucleus and the radius of maximum probability. This is probably may be a bit surprising, but examination of the radial density plot reveals that the radius of maximum probabily is quite close to the nucleus with a significant amount of density beyond the maximum radius. Let's see the probability of finding an electron between 0 and 10 Bohrs from the nucleus."
   ]
  },
  {
   "cell_type": "code",
   "execution_count": null,
   "metadata": {},
   "outputs": [],
   "source": [
    "sympy.integrate(R_21**2 * r**2, (r,0,10)).evalf()"
   ]
  },
  {
   "cell_type": "markdown",
   "metadata": {},
   "source": [
    "There is a 97.1% chance of finding the electron between 0 and 10 angstroms.\n",
    "\n",
    "The SciPy library also includes functions in the `integrate` module for integrating mathematical functions. "
   ]
  },
  {
   "cell_type": "markdown",
   "metadata": {},
   "source": [
    "**Definite Integral example**\n",
    "\n",
    "$$\n",
    "\\int_{0}^{\\ln(4)} \\frac{e^x \\cdot d x} {\\sqrt(e^{2x} + 9)}\n",
    "$$"
   ]
  },
  {
   "cell_type": "code",
   "execution_count": null,
   "metadata": {},
   "outputs": [],
   "source": [
    "from sympy import integrate, sqrt, exp, log\n",
    "\n",
    "integrate(exp(x) / sqrt(exp(2*x) + 9), (x, 0, log(4)))"
   ]
  },
  {
   "cell_type": "markdown",
   "metadata": {},
   "source": [
    "### Exercises\n",
    "\n",
    "1. Factor the following polynomial using SymPy: $x^2 + x – 6$\n",
    "\n",
    "2.  Simplify the following mathematical expression using SymPy: $ z = 3x + x^2 + 2xy $\n",
    "\n",
    "3. Expand the following expression using SymPy: $(x – 2)(x + 5)(x)$\n",
    "\n",
    "4. The following is the equation for the work performed by a reversible, isothermal (i.e., constant T) expansion of a piston by a fixed quantity of gas.\n",
    "\n",
    "    $$ w = \\int_{v_i}^{v_f} -nRT \\frac{1}{V}dV $$\n",
    "\n",
    "    a) Using SymPy, integrate this expression symbolically for $V_i$ $\\rightarrow$ $V_f$. Try having SymPy simplify the answer to see if there is a simpler form.\n",
    "\n",
    "    b) Integrate the same express above for the expansion of 2.44 mol of He gas from 0.552 L to 1.32 L at 298 K. Feel free to use either SymPy or SciPy."
   ]
  }
 ],
 "metadata": {
  "language_info": {
   "name": "python"
  },
  "orig_nbformat": 4
 },
 "nbformat": 4,
 "nbformat_minor": 2
}
