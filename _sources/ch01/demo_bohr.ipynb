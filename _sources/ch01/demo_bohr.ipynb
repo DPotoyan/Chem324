{
 "cells": [
  {
   "cell_type": "markdown",
   "id": "ee7748bb",
   "metadata": {},
   "source": [
    "## DEMO: Quantum phenomena"
   ]
  },
  {
   "cell_type": "code",
   "execution_count": null,
   "id": "57e64f3a",
   "metadata": {},
   "outputs": [],
   "source": [
    "import numpy as np\n",
    "import matplotlib.pyplot as plt\n",
    "\n",
    "\n",
    "from scipy import constants as const\n",
    "from scipy.constants import h, c, e, m_e, epsilon_0, Rydberg "
   ]
  },
  {
   "cell_type": "markdown",
   "id": "511ec13c",
   "metadata": {},
   "source": [
    "- [See all the availible constants here](https://docs.scipy.org/doc/scipy/reference/constants.html)"
   ]
  },
  {
   "cell_type": "code",
   "execution_count": null,
   "id": "7932a68d",
   "metadata": {},
   "outputs": [],
   "source": [
    "# Rydberg constant in spec units\n",
    "\n",
    "R_H_cm = Rydberg * 1e-2 # cm^-1\n",
    "\n",
    "# Print to check\n",
    "print(\"e =\", e, \"C\")\n",
    "print(\"h =\", h, \"J·s\")\n",
    "print(\"c =\", c, \"m/s\")\n",
    "print(\"ε0 =\", epsilon_0, \"F/m\")\n",
    "print(\"m_e =\", m_e, \"kg\")\n",
    "print(\"R_H =\", R_H_cm, \"cm^-1\")\n"
   ]
  },
  {
   "cell_type": "markdown",
   "id": "30895050",
   "metadata": {},
   "source": [
    "### Calculate wavelength of an electron"
   ]
  },
  {
   "cell_type": "code",
   "execution_count": null,
   "id": "01e76f55",
   "metadata": {},
   "outputs": [],
   "source": []
  },
  {
   "cell_type": "markdown",
   "id": "5964279c",
   "metadata": {},
   "source": [
    "### Write a function to make calculations easier"
   ]
  },
  {
   "cell_type": "code",
   "execution_count": null,
   "id": "bf1a0bf5",
   "metadata": {},
   "outputs": [],
   "source": [
    "def rydberg_cm(n1, n2, Z=1):  # returns cm^-1\n",
    "\n",
    "    return R_H_cm * Z**2 * (1/n1**2 - 1/n2**2)"
   ]
  },
  {
   "cell_type": "code",
   "execution_count": null,
   "id": "c385db8b",
   "metadata": {},
   "outputs": [],
   "source": []
  },
  {
   "cell_type": "markdown",
   "id": "c79c7e91",
   "metadata": {},
   "source": [
    "### Plot sepctral transitions"
   ]
  },
  {
   "cell_type": "code",
   "execution_count": null,
   "id": "ff4ea899",
   "metadata": {},
   "outputs": [],
   "source": [
    "import numpy as np\n",
    "import matplotlib.pyplot as plt\n",
    "\n",
    "def plot_hydrogen_energy_levels(n_min=1, n_max=8):\n",
    "    n_vals = np.arange(n_min, n_max + 1)\n",
    "    E_eV = -13.6 / (n_vals ** 2)\n",
    "\n",
    "    fig, ax = plt.subplots(figsize=(6, 4))\n",
    "    for n, E in zip(n_vals, E_eV):\n",
    "        ax.hlines(E, 0, 1, linewidth=2)\n",
    "        ax.annotate(f\"n={n}\", xy=(1.01, E), xytext=(1.04, E),\n",
    "                    textcoords=\"data\", va=\"center\", fontsize=10)\n",
    "\n",
    "    ax.set_ylim(min(E_eV) - 0.5, 0.5)\n",
    "    ax.invert_yaxis()\n",
    "    ax.set_xlim(0, 1.2)\n",
    "    ax.set_xticks([])\n",
    "    ax.set_ylabel(\"Energy (eV)\")\n",
    "    ax.set_title(\"Bohr Energy Levels of Hydrogen\")\n",
    "    ax.axhline(0.0, linestyle=\"--\", linewidth=1)  # ionization limit\n",
    "    fig.tight_layout()\n",
    "    return fig, ax\n",
    "\n",
    "plot_hydrogen_energy_levels()\n",
    "plt.show()\n"
   ]
  },
  {
   "cell_type": "markdown",
   "id": "3aed206c",
   "metadata": {},
   "source": [
    "### Plot Black Body radiation curves"
   ]
  },
  {
   "cell_type": "code",
   "execution_count": null,
   "id": "4fac45c0",
   "metadata": {},
   "outputs": [],
   "source": [
    "def planck(wavelength, T):\n",
    "    \"\"\"\n",
    "    Planck's Law to calculate the spectral radiance of black body radiation at temperature T.\n",
    "    \n",
    "    Parameters:\n",
    "    - wavelength (float): Wavelength in meters.\n",
    "    - T (float): Absolute temperature in Kelvin.\n",
    "    \n",
    "    Returns:\n",
    "    - (float): Spectral radiance in W/(m^2*sr*m).\n",
    "    \"\"\"\n",
    "   \n",
    "    exponent = (h*c) / (wavelength*k*T)\n",
    "    \n",
    "    exponent = np.clip(exponent, None, 700)  # Clip values of exponent at 700 to avoid numerical overflow\n",
    "\n",
    "    return (2.0*h*c**2) / (wavelength**5 * (np.exp(exponent) - 1))\n",
    "    \n",
    "\n",
    "def plot_black_body(T, show=False):\n",
    "    \"\"\"\n",
    "    Plot the black body radiation spectrum for a given temperature T.\n",
    "    \"\"\"\n",
    "\n",
    "    # Lets pick some beautiful colors\n",
    "    from matplotlib import cm\n",
    "    from cycler import cycler\n",
    "    magma = cm.get_cmap('magma', 10)  # 10 discrete colors, feel free to change\n",
    "    plt.rcParams['axes.prop_cycle'] = cycler(color=[magma(i) for i in range(magma.N)])\n",
    "\n",
    "    wavelengths = np.linspace(1e-9, 5e-6, 1000)  # Wavelength range from 1 nm to 3 um\n",
    "    intensities = planck(wavelengths, T)\n",
    "    \n",
    "    plt.plot(wavelengths*1e9, intensities, label=f'T={T}', lw=3)  # Convert wavelength to nm for plotting\n",
    "    \n",
    "    plt.xlabel('Wavelength (nm)')\n",
    "    plt.ylabel('$Intensity (W/m^2)$')\n",
    "    plt.grid(True)\n",
    "    plt.legend()\n",
    "\n",
    "    max_int = max(planck(wavelengths, 5000)) # lets limit y axis to 5000\n",
    "    plt.ylim(0, max_int)\n",
    "\n",
    "    if show: # show is needed for interactive plots\n",
    "        plt.show() "
   ]
  },
  {
   "cell_type": "code",
   "execution_count": null,
   "id": "f373a8fa",
   "metadata": {},
   "outputs": [],
   "source": [
    "for T in range(3000, 5000, 200):\n",
    "    plot_black_body(T)"
   ]
  },
  {
   "cell_type": "code",
   "execution_count": null,
   "id": "fe5b2e0a",
   "metadata": {},
   "outputs": [],
   "source": [
    "from ipywidgets import interactive\n",
    "\n",
    "interactive(plot_black_body, T=(1000, 5000, 100), show=True)"
   ]
  },
  {
   "cell_type": "markdown",
   "id": "2d24decb",
   "metadata": {},
   "source": []
  },
  {
   "cell_type": "markdown",
   "id": "13d3cb70",
   "metadata": {},
   "source": [
    "### Dealing with complex numbers\n",
    "\n",
    "- Consider the complex number $ z = 1 + \\sqrt{3} i $."
   ]
  },
  {
   "cell_type": "code",
   "execution_count": null,
   "id": "f0b719f7",
   "metadata": {},
   "outputs": [],
   "source": [
    "import cmath  # python provides special methods to convert between representtions "
   ]
  },
  {
   "cell_type": "code",
   "execution_count": null,
   "id": "df3f025d",
   "metadata": {},
   "outputs": [],
   "source": [
    "z=1+np.sqrt(3)*1j\n",
    "z"
   ]
  },
  {
   "cell_type": "code",
   "execution_count": null,
   "id": "23b8fa54",
   "metadata": {},
   "outputs": [],
   "source": [
    "z.real, z.imag"
   ]
  },
  {
   "cell_type": "code",
   "execution_count": null,
   "id": "c04576b5",
   "metadata": {},
   "outputs": [],
   "source": [
    "zc=z.conj()"
   ]
  },
  {
   "cell_type": "code",
   "execution_count": null,
   "id": "3da263d3",
   "metadata": {},
   "outputs": [],
   "source": [
    "np.sqrt(z*zc)"
   ]
  },
  {
   "cell_type": "code",
   "execution_count": null,
   "id": "73359b14",
   "metadata": {},
   "outputs": [],
   "source": [
    "abs(z)"
   ]
  },
  {
   "cell_type": "code",
   "execution_count": null,
   "id": "a6cc7e24",
   "metadata": {},
   "outputs": [],
   "source": [
    "r, theta = cmath.polar(z)\n",
    "\n",
    "r, theta"
   ]
  },
  {
   "cell_type": "code",
   "execution_count": null,
   "id": "22058cc7",
   "metadata": {},
   "outputs": [],
   "source": [
    "x, y = cmath.rect(r, theta)\n",
    "\n",
    "x, y"
   ]
  },
  {
   "cell_type": "markdown",
   "id": "ae10d1e3",
   "metadata": {},
   "source": [
    "#### Complex numbers, Julia sets and fractals.\n",
    "\n",
    "- **Fractal** is a mathematically defined, self-similar object which has similarity and symmetry on a variety of scales. The Julia Set Fractal is a type of fractal defined by the behavior of a function that operates on input complex numbers. More explicitly, upon iterative updating of input complex number, the Julia Set Fractal represents the set of inputs whose resulting outputs either tend towards infinity or remain bounded. \n",
    "\n",
    "- **Julia set fractals** are normally generated by initializing a complex number  $z = x + yi$  where  $i^2 = -1$  and x and y are image pixel coordinates in the range of about -2 to 2. Then, z is repeatedly updated using:  $z = z^2 + c$  where c is another complex number that gives a specific Julia set. After numerous iterations, if the magnitude of z is less than 2 we say that pixel is in the Julia set and color it accordingly. Performing this calculation for a whole grid of pixels gives a fractal image."
   ]
  },
  {
   "cell_type": "code",
   "execution_count": null,
   "id": "b175b1d2",
   "metadata": {
    "tags": [
     "hide-input"
    ]
   },
   "outputs": [],
   "source": [
    "import numpy as np\n",
    "import matplotlib.pyplot as plt\n",
    "from matplotlib.animation import FuncAnimation\n",
    "from IPython.display import display, HTML\n",
    "\n",
    "def compute_julia(\n",
    "    width=600,\n",
    "    height=600,\n",
    "    xmin=-1.5, xmax=1.5,\n",
    "    ymin=-1.5, ymax=1.5,\n",
    "    c=-0.1 + 0.65j,\n",
    "    power=2,\n",
    "    nit_max=300,\n",
    "    zabs_max=2.0\n",
    "):\n",
    "    x = np.linspace(xmin, xmax, width, dtype=np.float64)\n",
    "    y = np.linspace(ymin, ymax, height, dtype=np.float64)\n",
    "    X, Y = np.meshgrid(x, y, indexing=\"xy\")\n",
    "    Z = X + 1j * Y\n",
    "\n",
    "    escape_it = np.zeros(Z.shape, dtype=np.int32)\n",
    "    Zk = Z.copy()\n",
    "    mask = np.ones(Z.shape, dtype=bool)\n",
    "\n",
    "    for k in range(1, nit_max + 1):\n",
    "        Zk[mask] = Zk[mask] ** power + c\n",
    "        escaped = np.abs(Zk) > zabs_max\n",
    "        newly_escaped = escaped & mask\n",
    "        escape_it[newly_escaped] = k\n",
    "        mask &= ~newly_escaped\n",
    "        if not mask.any():\n",
    "            break\n",
    "\n",
    "    escape_it[escape_it == 0] = nit_max\n",
    "    norm = escape_it.astype(np.float64) / nit_max\n",
    "    return norm.T\n",
    "\n",
    "def display_julia_animation(\n",
    "    power=2,\n",
    "    iterations=350,\n",
    "    zoom=1.2,\n",
    "    radius=0.78,\n",
    "    center=(0.0, 0.0),\n",
    "    frames=96,\n",
    "    fps=20,\n",
    "    width=600,\n",
    "    height=600,\n",
    "    cmap='turbo',\n",
    "    escape_radius=2.0\n",
    "):\n",
    "    base_span = 1.6\n",
    "    s = base_span / float(zoom)\n",
    "    cr, ci = float(center[0]), float(center[1])\n",
    "\n",
    "    fig, ax = plt.subplots(figsize=(width/100, height/100), dpi=100)\n",
    "    ax.set_axis_off()\n",
    "    plt.tight_layout(pad=0)\n",
    "\n",
    "    c0 = complex(cr, ci) + radius * np.exp(1j * 0.0)\n",
    "    arr0 = compute_julia(\n",
    "        width=width, height=height,\n",
    "        xmin=-s, xmax=s, ymin=-s, ymax=s,\n",
    "        c=c0, power=int(power), nit_max=int(iterations), zabs_max=float(escape_radius)\n",
    "    )\n",
    "    im = ax.imshow(arr0, origin=\"lower\", cmap=cmap, extent=(-s,s,-s,s), interpolation='nearest')\n",
    "\n",
    "    def animate(i):\n",
    "        theta = 2*np.pi * (i / int(frames))\n",
    "        c = complex(cr, ci) + radius * np.exp(1j * theta)\n",
    "        arr = compute_julia(\n",
    "            width=width, height=height,\n",
    "            xmin=-s, xmax=s, ymin=-s, ymax=s,\n",
    "            c=c, power=int(power), nit_max=int(iterations), zabs_max=float(escape_radius)\n",
    "        )\n",
    "        im.set_data(arr)\n",
    "        return (im,)\n",
    "\n",
    "    ani = FuncAnimation(fig, animate, frames=int(frames), interval=1000/int(fps), blit=True)\n",
    "    html = ani.to_jshtml(fps=int(fps), default_mode='loop')\n",
    "    plt.close(fig)\n",
    "    display(HTML(html))\n",
    "\n",
    "# Quick demo render (HTML inline, no files saved). Feel free to re-run with different arguments.\n",
    "display_julia_animation(\n",
    "    power=2, iterations=350, zoom=1.2, radius=0.78,\n",
    "    center=(0.0, 0.0), frames=64, fps=20,\n",
    "    width=500, height=500, cmap='turbo', escape_radius=2.0\n",
    ")\n"
   ]
  }
 ],
 "metadata": {
  "language_info": {
   "name": "python"
  }
 },
 "nbformat": 4,
 "nbformat_minor": 5
}
