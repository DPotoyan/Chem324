{
 "cells": [
  {
   "cell_type": "markdown",
   "id": "ee7748bb",
   "metadata": {},
   "source": [
    "## DEMO: Quantum phenomena"
   ]
  },
  {
   "cell_type": "code",
   "execution_count": null,
   "id": "57e64f3a",
   "metadata": {},
   "outputs": [],
   "source": [
    "import numpy as np\n",
    "import matplotlib.pyplot as plt\n",
    "from ipywidgets import interactive\n",
    "from scipy.constants import h, c, k, e, N_A, epsilon_0, Rydberg "
   ]
  },
  {
   "cell_type": "code",
   "execution_count": null,
   "id": "7932a68d",
   "metadata": {},
   "outputs": [],
   "source": [
    "# Rydberg constant in spec units\n",
    "\n",
    "R_H_cm = Rydberg * 1e-2 # cm^-1\n",
    "\n",
    "# Print to check\n",
    "print(\"e =\", e, \"C\")\n",
    "print(\"h =\", h, \"J·s\")\n",
    "print(\"c =\", c, \"m/s\")\n",
    "print(\"ε0 =\", epsilon_0, \"F/m\")\n",
    "print(\"m_e =\", m_e, \"kg\")\n",
    "print(\"R_H =\", R_H_cm, \"cm^-1\")\n"
   ]
  },
  {
   "cell_type": "code",
   "execution_count": null,
   "id": "bf1a0bf5",
   "metadata": {},
   "outputs": [],
   "source": [
    "def rydberg_cm(n1, n2, Z=1):  # returns cm^-1\n",
    "\n",
    "    return R_H_cm * Z**2 * (1/n1**2 - 1/n2**2)"
   ]
  },
  {
   "cell_type": "code",
   "execution_count": null,
   "id": "05e4cb7f",
   "metadata": {},
   "outputs": [],
   "source": []
  },
  {
   "cell_type": "markdown",
   "id": "30895050",
   "metadata": {},
   "source": [
    "### Calculate wavelength of an electron"
   ]
  },
  {
   "cell_type": "code",
   "execution_count": null,
   "id": "c385db8b",
   "metadata": {},
   "outputs": [],
   "source": []
  },
  {
   "cell_type": "markdown",
   "id": "c79c7e91",
   "metadata": {},
   "source": [
    "### Plot sepctral transitions"
   ]
  },
  {
   "cell_type": "code",
   "execution_count": null,
   "id": "ff4ea899",
   "metadata": {},
   "outputs": [],
   "source": [
    "import numpy as np\n",
    "import matplotlib.pyplot as plt\n",
    "\n",
    "def plot_hydrogen_energy_levels(n_min=1, n_max=8):\n",
    "    n_vals = np.arange(n_min, n_max + 1)\n",
    "    E_eV = -13.6 / (n_vals ** 2)\n",
    "\n",
    "    fig, ax = plt.subplots(figsize=(6, 4))\n",
    "    for n, E in zip(n_vals, E_eV):\n",
    "        ax.hlines(E, 0, 1, linewidth=2)\n",
    "        ax.annotate(f\"n={n}\", xy=(1.01, E), xytext=(1.04, E),\n",
    "                    textcoords=\"data\", va=\"center\", fontsize=10)\n",
    "\n",
    "    ax.set_ylim(min(E_eV) - 0.5, 0.5)\n",
    "    ax.invert_yaxis()\n",
    "    ax.set_xlim(0, 1.2)\n",
    "    ax.set_xticks([])\n",
    "    ax.set_ylabel(\"Energy (eV)\")\n",
    "    ax.set_title(\"Bohr Energy Levels of Hydrogen\")\n",
    "    ax.axhline(0.0, linestyle=\"--\", linewidth=1)  # ionization limit\n",
    "    fig.tight_layout()\n",
    "    return fig, ax\n",
    "\n",
    "plot_hydrogen_energy_levels()\n",
    "plt.show()\n"
   ]
  },
  {
   "cell_type": "markdown",
   "id": "3aed206c",
   "metadata": {},
   "source": [
    "### Plot Black Body radiation curves"
   ]
  },
  {
   "cell_type": "code",
   "execution_count": null,
   "id": "4fac45c0",
   "metadata": {},
   "outputs": [],
   "source": [
    "def planck(wavelength, T):\n",
    "    \"\"\"\n",
    "    Planck's Law to calculate the spectral radiance of black body radiation at temperature T.\n",
    "    \n",
    "    Parameters:\n",
    "    - wavelength (float): Wavelength in meters.\n",
    "    - T (float): Absolute temperature in Kelvin.\n",
    "    \n",
    "    Returns:\n",
    "    - (float): Spectral radiance in W/(m^2*sr*m).\n",
    "    \"\"\"\n",
    "   \n",
    "    exponent = (h*c) / (wavelength*k*T)\n",
    "    \n",
    "    exponent = np.clip(exponent, None, 700)  # Clip values of exponent at 700 to avoid numerical overflow\n",
    "\n",
    "    return (2.0*h*c**2) / (wavelength**5 * (np.exp(exponent) - 1))\n",
    "    \n",
    "\n",
    "def plot_black_body(T, show=False):\n",
    "    \"\"\"\n",
    "    Plot the black body radiation spectrum for a given temperature T.\n",
    "    \"\"\"\n",
    "\n",
    "    # Lets pick some beautiful colors\n",
    "    from matplotlib import cm\n",
    "    from cycler import cycler\n",
    "    magma = cm.get_cmap('magma', 10)  # 10 discrete colors, feel free to change\n",
    "    plt.rcParams['axes.prop_cycle'] = cycler(color=[magma(i) for i in range(magma.N)])\n",
    "\n",
    "    wavelengths = np.linspace(1e-9, 5e-6, 1000)  # Wavelength range from 1 nm to 3 um\n",
    "    intensities = planck(wavelengths, T)\n",
    "    \n",
    "    plt.plot(wavelengths*1e9, intensities, label=f'T={T}', lw=3)  # Convert wavelength to nm for plotting\n",
    "    \n",
    "    plt.xlabel('Wavelength (nm)')\n",
    "    plt.ylabel('$Intensity (W/m^2)$')\n",
    "    plt.grid(True)\n",
    "    plt.legend()\n",
    "\n",
    "    max_int = max(planck(wavelengths, 5000)) # lets limit y axis to 5000\n",
    "    plt.ylim(0, max_int)\n",
    "\n",
    "    if show: # show is needed for interactive plots\n",
    "        plt.show() "
   ]
  },
  {
   "cell_type": "code",
   "execution_count": null,
   "id": "f373a8fa",
   "metadata": {},
   "outputs": [],
   "source": [
    "for T in range(3000, 5000, 200):\n",
    "    plot_black_body(T)"
   ]
  },
  {
   "cell_type": "code",
   "execution_count": null,
   "id": "fe5b2e0a",
   "metadata": {},
   "outputs": [],
   "source": [
    "interactive(plot_black_body, T=(1000, 5000, 100), show=True)"
   ]
  },
  {
   "cell_type": "markdown",
   "id": "2d24decb",
   "metadata": {},
   "source": []
  }
 ],
 "metadata": {
  "language_info": {
   "name": "python"
  }
 },
 "nbformat": 4,
 "nbformat_minor": 5
}
