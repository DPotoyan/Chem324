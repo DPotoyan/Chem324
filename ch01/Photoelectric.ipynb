{
 "cells": [
  {
   "cell_type": "code",
   "execution_count": 2,
   "metadata": {},
   "outputs": [],
   "source": [
    "import numpy as np\n",
    "import matplotlib.pyplot as plt\n",
    "from ipywidgets import interact\n",
    "from scipy.constants import h, c, k, e, N_A\n",
    "\n",
    "%matplotlib inline\n",
    "%config InlineBackend.figure_format='retina'"
   ]
  },
  {
   "cell_type": "code",
   "execution_count": 3,
   "metadata": {},
   "outputs": [],
   "source": [
    "def photoelectric_effect(frequency, intensity, phi = 2.0e-19):\n",
    "    \"\"\"\n",
    "    Calculate kinetic energy and current (number of electrons emitted) \n",
    "    due to photoelectric effect.\n",
    "    \n",
    "    - phi: Work function for some material (in Joules)\n",
    " \n",
    "\n",
    "    \"\"\"\n",
    "    if frequency < phi/h:\n",
    "        kinetic_energy = 0\n",
    "        current = 0\n",
    "    else:\n",
    "        kinetic_energy = h * frequency - phi\n",
    "        current = intensity  # Current proportional to intensity for simplicity\n",
    "    \n",
    "    return kinetic_energy, current\n",
    "\n",
    "def plot_photoelectric_effect(frequency=1e15, intensity=10):\n",
    "    \"\"\"\n",
    "    Plot the kinetic energy and current due to photoelectric effect.\n",
    "    \"\"\"\n",
    "    kinetic_energy, current = photoelectric_effect(frequency, intensity)\n",
    "    \n",
    "    fig, (ax1, ax2) = plt.subplots(1, 2, figsize=(12, 4))\n",
    "    \n",
    "    ax1.bar(1, kinetic_energy/e, color='blue')  # Convert energy to electron volts\n",
    "    ax1.set_ylim(0, 3)\n",
    "    ax1.set_xticks([])\n",
    "    ax1.set_title('Kinetic Energy of Emitted Electrons (eV)')\n",
    "    ax1.set_ylabel('Energy (eV)')\n",
    "    \n",
    "    ax2.bar(1, current, color='red')\n",
    "    ax2.set_ylim(0, 20)\n",
    "    ax2.set_xticks([])\n",
    "    ax2.set_title('Current (Number of Emitted Electrons)')\n",
    "    ax2.set_ylabel('Current')\n",
    "    \n",
    "    plt.tight_layout()\n",
    "    plt.show()"
   ]
  },
  {
   "cell_type": "code",
   "execution_count": 4,
   "metadata": {},
   "outputs": [
    {
     "data": {
      "application/vnd.jupyter.widget-view+json": {
       "model_id": "947e6d12386a463da20026158e92c839",
       "version_major": 2,
       "version_minor": 0
      },
      "text/plain": [
       "interactive(children=(FloatSlider(value=1000000000000000.0, description='frequency', max=3000000000000000.0, s…"
      ]
     },
     "execution_count": 4,
     "metadata": {},
     "output_type": "execute_result"
    }
   ],
   "source": [
    "# Create interactive plot\n",
    "interactive_plot = interactive(plot_photoelectric_effect, frequency=(0, 3e15, 0.1e15), intensity=(0, 20, 1))\n",
    "output = interactive_plot.children[-1]\n",
    "output.layout.height = '350px'\n",
    "interactive_plot"
   ]
  }
 ],
 "metadata": {
  "kernelspec": {
   "display_name": "chem324",
   "language": "python",
   "name": "python3"
  },
  "language_info": {
   "codemirror_mode": {
    "name": "ipython",
    "version": 3
   },
   "file_extension": ".py",
   "mimetype": "text/x-python",
   "name": "python",
   "nbconvert_exporter": "python",
   "pygments_lexer": "ipython3",
   "version": "3.11.4"
  },
  "orig_nbformat": 4
 },
 "nbformat": 4,
 "nbformat_minor": 2
}
