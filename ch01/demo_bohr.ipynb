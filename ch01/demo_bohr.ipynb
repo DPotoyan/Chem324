{
 "cells": [
  {
   "cell_type": "markdown",
   "id": "ee7748bb",
   "metadata": {},
   "source": [
    "## DEMO: Black Body radiation"
   ]
  },
  {
   "cell_type": "code",
   "execution_count": null,
   "id": "57e64f3a",
   "metadata": {},
   "outputs": [],
   "source": [
    "import numpy as np\n",
    "import matplotlib.pyplot as plt\n",
    "from ipywidgets import interactive\n",
    "from scipy.constants import h, c, k, e, N_A, epsilon_0, Rydberg "
   ]
  },
  {
   "cell_type": "code",
   "execution_count": null,
   "id": "7932a68d",
   "metadata": {},
   "outputs": [],
   "source": [
    "# Rydberg constant in spec units\n",
    "\n",
    "R_H_cm = Rydberg * 1e-2 # cm^-1\n",
    "\n",
    "# Print to check\n",
    "print(\"e =\", e, \"C\")\n",
    "print(\"h =\", h, \"J·s\")\n",
    "print(\"c =\", c, \"m/s\")\n",
    "print(\"ε0 =\", epsilon0, \"F/m\")\n",
    "print(\"m_e =\", m_e, \"kg\")\n",
    "print(\"R_H =\", R_H_cm, \"cm^-1\")\n"
   ]
  },
  {
   "cell_type": "code",
   "execution_count": null,
   "id": "bf1a0bf5",
   "metadata": {},
   "outputs": [],
   "source": [
    "def rydberg_cm(n1, n2):  # returns cm^-1\n",
    "\n",
    "    return R_H_cm * (1/n1**2 - 1/n2**2)"
   ]
  },
  {
   "cell_type": "code",
   "execution_count": null,
   "id": "05e4cb7f",
   "metadata": {},
   "outputs": [],
   "source": []
  },
  {
   "cell_type": "markdown",
   "id": "c79c7e91",
   "metadata": {},
   "source": [
    "### Plot sepctral transitions"
   ]
  },
  {
   "cell_type": "code",
   "execution_count": null,
   "id": "ff4ea899",
   "metadata": {},
   "outputs": [],
   "source": [
    "import numpy as np\n",
    "import matplotlib.pyplot as plt\n",
    "\n",
    "def plot_hydrogen_energy_levels(n_min=1, n_max=8):\n",
    "    n_vals = np.arange(n_min, n_max + 1)\n",
    "    E_eV = -13.6 / (n_vals ** 2)\n",
    "\n",
    "    fig, ax = plt.subplots(figsize=(6, 4))\n",
    "    for n, E in zip(n_vals, E_eV):\n",
    "        ax.hlines(E, 0, 1, linewidth=2)\n",
    "        ax.annotate(f\"n={n}\", xy=(1.01, E), xytext=(1.04, E),\n",
    "                    textcoords=\"data\", va=\"center\", fontsize=10)\n",
    "\n",
    "    ax.set_ylim(min(E_eV) - 0.5, 0.5)\n",
    "    ax.invert_yaxis()\n",
    "    ax.set_xlim(0, 1.2)\n",
    "    ax.set_xticks([])\n",
    "    ax.set_ylabel(\"Energy (eV)\")\n",
    "    ax.set_title(\"Bohr Energy Levels of Hydrogen\")\n",
    "    ax.axhline(0.0, linestyle=\"--\", linewidth=1)  # ionization limit\n",
    "    fig.tight_layout()\n",
    "    return fig, ax\n",
    "\n",
    "plot_hydrogen_energy_levels()\n",
    "plt.show()\n"
   ]
  }
 ],
 "metadata": {
  "language_info": {
   "name": "python"
  }
 },
 "nbformat": 4,
 "nbformat_minor": 5
}
