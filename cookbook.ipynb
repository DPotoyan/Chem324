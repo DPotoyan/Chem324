{
 "cells": [
  {
   "cell_type": "markdown",
   "metadata": {},
   "source": [
    "## Scratchpad\n",
    "> Use this notebook as your scratchpad. All important libs are deleted. Feel free to delete the simple example below"
   ]
  },
  {
   "cell_type": "code",
   "execution_count": 2,
   "metadata": {},
   "outputs": [],
   "source": [
    "import numpy as np    \n",
    "import matplotlib.pyplot as plt\n",
    "import plotly.express as px\n",
    "import ipywidgets as widgets\n",
    "\n",
    "import scipy\n",
    "from   scipy.constants import physical_constants\n",
    "from scipy.constants import hbar, h, c, m_e, Rydberg, e, N_A\n",
    "#print( physical_constants['Planck constant'] ) # Value, unit, uncertainty"
   ]
  },
  {
   "cell_type": "markdown",
   "metadata": {},
   "source": [
    "**Example Problem**\n",
    "- Compute the de Broglie wavelength for electron moving with speed of $3\\cdot 10^5 m/s$\n",
    "- Plot how de Broglie wavelength  depends on speed of electron"
   ]
  },
  {
   "cell_type": "code",
   "execution_count": null,
   "metadata": {},
   "outputs": [],
   "source": [
    "v_e = 3e5\n",
    "\n",
    "l = h/(m_e *v_e)\n",
    "\n",
    "l"
   ]
  },
  {
   "cell_type": "code",
   "execution_count": null,
   "metadata": {},
   "outputs": [],
   "source": [
    "def deb_wavl(vm mass= m_e):\n",
    "    '''This functionrequires velocity input and returns de Broglie wavelength in SI units \n",
    "    Default mass is set to electron mass but you can also change'''\n",
    "\n",
    "    return h/(mass * v)\n",
    "\n",
    "v= np.linspace(1, 1e10)\n",
    "\n",
    "plt.loglog(v, deb_wavl(v))\n",
    "plt.xlabel('velocity (m/s)')\n",
    "plt.ylabel('de Broglie wavelength (m)')\n",
    "plt.title('De Broglie wavelength vs velocity')"
   ]
  }
 ],
 "metadata": {
  "kernelspec": {
   "display_name": "Python 3",
   "language": "python",
   "name": "python3"
  },
  "language_info": {
   "codemirror_mode": {
    "name": "ipython",
    "version": 3
   },
   "file_extension": ".py",
   "mimetype": "text/x-python",
   "name": "python",
   "nbconvert_exporter": "python",
   "pygments_lexer": "ipython3",
   "version": "3.6.7"
  },
  "latex_envs": {
   "LaTeX_envs_menu_present": true,
   "autoclose": false,
   "autocomplete": true,
   "bibliofile": "biblio.bib",
   "cite_by": "apalike",
   "current_citInitial": 1,
   "eqLabelWithNumbers": true,
   "eqNumInitial": 1,
   "hotkeys": {
    "equation": "Ctrl-E",
    "itemize": "Ctrl-I"
   },
   "labels_anchors": false,
   "latex_user_defs": false,
   "report_style_numbering": false,
   "user_envs_cfg": false
  }
 },
 "nbformat": 4,
 "nbformat_minor": 4
}
