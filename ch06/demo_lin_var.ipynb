{
 "cells": [
  {
   "cell_type": "markdown",
   "metadata": {},
   "source": [
    "## DEMO: Solving QM problems with Variational method"
   ]
  },
  {
   "cell_type": "code",
   "execution_count": 2,
   "metadata": {},
   "outputs": [],
   "source": [
    "import numpy as np\n",
    "import scipy as sp\n",
    "from scipy.linalg import eigh\n",
    "import matplotlib.pyplot as plt"
   ]
  },
  {
   "cell_type": "markdown",
   "metadata": {},
   "source": [
    "### Harmonic Oscillator "
   ]
  },
  {
   "cell_type": "code",
   "execution_count": 1,
   "metadata": {},
   "outputs": [],
   "source": [
    "def psi0(x):\n",
    "    '''Normalized ground state wavefunction of harmonic oscillator\n",
    "     The following units used; hbar=1, mu=1, k=1\n",
    "     '''\n",
    "\n",
    "    return np.pi**(-0.25)*np.exp(-0.5 * x **2 )\n",
    "\n",
    "def E0(n):\n",
    "    '''Eiganvalues of harmonic oscillator\n",
    "    The following units used; hbar=1, mu=1, k=1 making omega=1'''\n",
    "    return (n+1/2)"
   ]
  },
  {
   "cell_type": "markdown",
   "metadata": {},
   "source": [
    "### Write functions to compute matrix elements "
   ]
  },
  {
   "cell_type": "code",
   "execution_count": 3,
   "metadata": {},
   "outputs": [],
   "source": [
    "def basis_functions(x, n):\n",
    "    '''Define any 1D trial function you like.\n",
    "    n: is a parameter that defines basis functions in a linear combination \n",
    "    e.g c_1 f_1+c_2f_2+...'''\n",
    "\n",
    "    return np.exp(-n*x**4)\n",
    "\n",
    "# Define the potential energy function for your quantum system\n",
    "def PE(f, x):\n",
    "    '''Potential energy with the following units used; hbar=1, mu=1, k=1\n",
    "    '''\n",
    "\n",
    "    return 0.5 * x**2 * f  # Harmonic oscillator potential as an example\n",
    "\n",
    "def KE(f, dx):\n",
    "    '''Kinetic energy operator, with the following units used; hbar=1, mu=1, k=1\n",
    "    f: a 1D array of length N\n",
    "    dx: spacing between points\n",
    "    '''\n",
    "\n",
    "    dfdx   = np.gradient(f, dx)\n",
    "    df2dx2 = np.gradient(dfdx, dx)\n",
    "\n",
    "    return -0.5*df2dx2\n"
   ]
  },
  {
   "cell_type": "markdown",
   "metadata": {},
   "source": [
    "### Test for numerical accuracy"
   ]
  },
  {
   "cell_type": "code",
   "execution_count": 7,
   "metadata": {},
   "outputs": [
    {
     "data": {
      "text/plain": [
       "1.0"
      ]
     },
     "execution_count": 7,
     "metadata": {},
     "output_type": "execute_result"
    }
   ],
   "source": [
    "#Check normalization, should be 1\n",
    "x = np.linspace(-10, 10, 10000)\n",
    "dx=x[1]-x[0]\n",
    "\n",
    "np.trapz(psi0(x)**2, x=x)"
   ]
  },
  {
   "cell_type": "code",
   "execution_count": 6,
   "metadata": {},
   "outputs": [
    {
     "data": {
      "text/plain": [
       "0.49999949990084436"
      ]
     },
     "execution_count": 6,
     "metadata": {},
     "output_type": "execute_result"
    }
   ],
   "source": [
    "#Check ground energy 1/2 hbar omega = 1/2 (because h=1 and omega=1 because k=1, mu=1)\n",
    "fHf = psi0(x) * ( KE(psi0(x), dx)+ PE(psi0(x), x) )\n",
    "\n",
    "np.trapz(fHf, x=x)"
   ]
  },
  {
   "cell_type": "markdown",
   "metadata": {},
   "source": [
    "### Solve eigenvalue problem"
   ]
  },
  {
   "cell_type": "code",
   "execution_count": 8,
   "metadata": {},
   "outputs": [
    {
     "name": "stdout",
     "output_type": "stream",
     "text": [
      "Ground-State Energy: 0.6548831175123827\n",
      "Ground-State Wavefunction Coefficients: [-2.12550098e-03 -6.16906835e+00  7.29002966e+01 -5.13399936e+02\n",
      "  2.10788059e+03 -5.25746977e+03  8.07103179e+03 -7.44534509e+03\n",
      "  3.78351758e+03 -8.13758627e+02]\n"
     ]
    }
   ],
   "source": [
    "# Define the number of basis functions and the range of x\n",
    "num_basis_functions = 8\n",
    "\n",
    "# Compute the overlap matrix and Hamiltonian matrix\n",
    "overlap_matrix = np.zeros((num_basis_functions, num_basis_functions))\n",
    "hamiltonian_matrix = np.zeros((num_basis_functions, num_basis_functions))\n",
    "\n",
    "for i in range(num_basis_functions):\n",
    "    for j in range(num_basis_functions):\n",
    "\n",
    "        fi, fj = basis_functions(x, i), basis_functions(x, j)\n",
    "\n",
    "        overlap_matrix[i, j]     = np.trapz(fi * fj, x=x)\n",
    "\n",
    "        hamiltonian_matrix[i, j] = np.trapz(fi * ( KE(fj, dx)+ PE(fj, x) ), x=x)\n",
    "\n",
    "# Diagonalize the matrices to find eigenvalues and eigenvectors\n",
    "eigenvalues, eigenvectors = eigh(hamiltonian_matrix, overlap_matrix)\n",
    "\n",
    "# Find the ground-state energy (lowest eigenvalue) and corresponding eigenfunction\n",
    "ground_state_energy = eigenvalues[0]\n",
    "ground_state_wavefunction = eigenvectors[:, 0]\n",
    "\n",
    "print(f\"Ground-State Energy: {ground_state_energy}\")\n",
    "print(f\"Ground-State Wavefunction Coefficients: {ground_state_wavefunction}\")"
   ]
  },
  {
   "cell_type": "markdown",
   "metadata": {},
   "source": [
    "### visualize Eigenfunctions and eigenvalues"
   ]
  },
  {
   "cell_type": "code",
   "execution_count": null,
   "metadata": {},
   "outputs": [],
   "source": [
    "psi = 0 # trial function\n",
    "k   = 0 # eigenvector \n",
    "\n",
    "fig, (ax1, ax2) = plt.subplots(ncols=2)\n",
    "for i in range(num_basis_functions):\n",
    "\n",
    "    psi += eigenvectors[:, k][i] * basis_functions(x, i)\n",
    "\n",
    "ax1.plot(x, psi**2, label='var approx')\n",
    "ax1.plot(x, psi0(x)**2, label='exact ground state')\n",
    "ax1.legend()\n",
    "ax1.set_title(f\"Ground-State Energy: {ground_state_energy:.4f}\")\n",
    "ax1.set_xlabel('x')\n",
    "ax1.set_ylabel('$|\\psi(x)|^2$')\n",
    "\n",
    "\n",
    "for i, level in enumerate(eigenvalues):\n",
    "\n",
    "    plt.hlines(level, 0, 1, colors='blue', linestyles='solid', label=f'Level {i+1}')\n",
    "    \n",
    "ax2.set_xlim(-3, 4)\n",
    "ax2.set_title('Energy levels')"
   ]
  }
 ],
 "metadata": {
  "kernelspec": {
   "display_name": "Python 3",
   "language": "python",
   "name": "python3"
  },
  "language_info": {
   "codemirror_mode": {
    "name": "ipython",
    "version": 3
   },
   "file_extension": ".py",
   "mimetype": "text/x-python",
   "name": "python",
   "nbconvert_exporter": "python",
   "pygments_lexer": "ipython3",
   "version": "3.10.8"
  }
 },
 "nbformat": 4,
 "nbformat_minor": 2
}
