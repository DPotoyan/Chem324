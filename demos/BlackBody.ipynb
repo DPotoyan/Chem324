{
 "cells": [
  {
   "cell_type": "markdown",
   "metadata": {},
   "source": [
    "## Black Body radiation"
   ]
  },
  {
   "cell_type": "code",
   "execution_count": 3,
   "metadata": {},
   "outputs": [],
   "source": [
    "import numpy as np\n",
    "import matplotlib.pyplot as plt\n",
    "from ipywidgets import interact\n",
    "\n",
    "%matplotlib inline\n",
    "%config InlineBackend.figure_format='retina'"
   ]
  },
  {
   "cell_type": "code",
   "execution_count": 4,
   "metadata": {},
   "outputs": [],
   "source": [
    "@interact(T=(1000, 10000))\n",
    "def intensity(T=5000):\n",
    "  '''Temperature in Kelvin, returns intensity of radiation'''\n",
    "\n",
    "  from scipy.constants import h, c, k\n",
    "\n",
    "  # Wavelength range \n",
    "  wavelengths = np.linspace(1e-9, 3e-6, 1000)  # From 1nm to 3000nm\n",
    "  \n",
    "  # Calculate black body radiation intensity using Planck's law\n",
    "  intensity = (2 * h * c**2 / wavelengths**5) * (1 / (np.exp(h * c / (wavelengths * k * T)) - 1))\n",
    "\n",
    "  # Plotting\n",
    "  wavelengths*=1e9 # Convert to nanometers\n",
    "  plt.plot(wavelengths, intensity)\n",
    "  \n",
    "  plt.xlabel('Wavelength (nm)')\n",
    "  plt.ylabel('Intensity ($W/m^2/nm$)')\n",
    "  plt.title('Black Body Radiation Curve')\n",
    "\n",
    "  plt.ylim(1,    1e14)\n",
    "  plt.xlim(1, 3000)\n",
    "  plt.grid()\n",
    "  plt.show();"
   ]
  },
  {
   "cell_type": "code",
   "execution_count": null,
   "metadata": {},
   "outputs": [],
   "source": [
    "intensity(T=5000)\n",
    "intensity(T=6000)\n",
    "intensity(T=8000)"
   ]
  }
 ],
 "metadata": {
  "kernelspec": {
   "display_name": "Python 3",
   "language": "python",
   "name": "python3"
  },
  "language_info": {
   "codemirror_mode": {
    "name": "ipython",
    "version": 3
   },
   "file_extension": ".py",
   "mimetype": "text/x-python",
   "name": "python",
   "nbconvert_exporter": "python",
   "pygments_lexer": "ipython3",
   "version": "3.10.8"
  },
  "orig_nbformat": 4
 },
 "nbformat": 4,
 "nbformat_minor": 2
}
