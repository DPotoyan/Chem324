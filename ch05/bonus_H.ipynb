{
 "cells": [
  {
   "cell_type": "markdown",
   "metadata": {
    "slideshow": {
     "slide_type": "slide"
    }
   },
   "source": [
    "## Bonus: Atomic Orbitals"
   ]
  },
  {
   "cell_type": "code",
   "execution_count": 1,
   "metadata": {
    "slideshow": {
     "slide_type": "fragment"
    }
   },
   "outputs": [],
   "source": [
    "import  matplotlib.pyplot as plt\n",
    "import numpy as np\n",
    "\n",
    "%matplotlib inline\n",
    "%config InlineBackend.figure_format = 'retina'"
   ]
  },
  {
   "cell_type": "markdown",
   "metadata": {
    "slideshow": {
     "slide_type": "slide"
    }
   },
   "source": [
    "### Radial Part of Atomic Orbitals\n",
    "\n",
    "$$ R_{nl}(r) = \\sqrt{\\Big(\\frac{2}{n a_0}\\Big)^3 \\frac{(n-l-1)!}{2n (n+l)!}} e^{-r/n a_0} \\Big( \\frac{2r}{na_0}\\Big)^l  \\cdot L^{2l+1}_{n-l-1} \\Big(\\frac{2r}{n a_0} \\Big)$$"
   ]
  },
  {
   "cell_type": "markdown",
   "metadata": {},
   "source": [
    "**Problem-1**\n",
    "- Using a few radial function of H-atom show that they are normalized and orthogonal. You can take a look at earlier demos on how to compute numerical integrals and derivatives using numpy functions. \n",
    "- Compute and plot probability to find electron withing first borh radius as a function of quantum number $n$. You will make use of Radial function in the demo notebook.\n",
    "- Plot how the of 1/r depends on a quantum number n. Using radial functions to do computations numerically then compare the result to analytical expression which you can find in the book."
   ]
  },
  {
   "cell_type": "markdown",
   "metadata": {},
   "source": [
    "### Spherical part of Atomic Orbitals"
   ]
  },
  {
   "cell_type": "markdown",
   "metadata": {
    "slideshow": {
     "slide_type": "fragment"
    }
   },
   "source": [
    "$$\n",
    "Y_{lm}(\\theta,\\phi) = \\Theta_{lm}(\\theta) \\Phi_m (\\phi) = \\sqrt{\\frac{2l+1}{4\\pi} \\frac{(l-m)!}{(l+m)!} } P_{lm}(cos \\theta) \\cdot e^{im\\phi}\n",
    "$$"
   ]
  },
  {
   "cell_type": "markdown",
   "metadata": {},
   "source": [
    "**Problem-2**\n",
    "\n",
    "- Show that spherical harmonics are normalized and orthognal.\n",
    "- Modfiy the function for plotting spherical harmonics in the demo which use the complex components to only use real parts. That way you will be able to generate familiar to chemist orbitals. Show that you can reproduce all five d orbitals and all three p orbitals.\n",
    "- Visualize a linear combination of one $s$ and $p_z$ orbitals with equal weights.\n",
    "- Visualize a linear combination of one $s$ and $p_x$ and $p_y$ orbitals with equal weights.\n",
    "- Visualize a linear combination of one $s$ and all p orbitals with equal weights."
   ]
  }
 ],
 "metadata": {
  "kernelspec": {
   "display_name": "Python 3",
   "language": "python",
   "name": "python3"
  },
  "language_info": {
   "codemirror_mode": {
    "name": "ipython",
    "version": 3
   },
   "file_extension": ".py",
   "mimetype": "text/x-python",
   "name": "python",
   "nbconvert_exporter": "python",
   "pygments_lexer": "ipython3",
   "version": "3.10.8"
  },
  "latex_envs": {
   "LaTeX_envs_menu_present": true,
   "autoclose": false,
   "autocomplete": true,
   "bibliofile": "biblio.bib",
   "cite_by": "apalike",
   "current_citInitial": 1,
   "eqLabelWithNumbers": true,
   "eqNumInitial": 1,
   "hotkeys": {
    "equation": "Ctrl-E",
    "itemize": "Ctrl-I"
   },
   "labels_anchors": false,
   "latex_user_defs": false,
   "report_style_numbering": false,
   "user_envs_cfg": false
  }
 },
 "nbformat": 4,
 "nbformat_minor": 2
}
