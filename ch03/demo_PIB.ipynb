{
 "cells": [
  {
   "cell_type": "markdown",
   "metadata": {},
   "source": [
    "## DEMO: Particle in a box"
   ]
  },
  {
   "cell_type": "code",
   "execution_count": 3,
   "metadata": {},
   "outputs": [
    {
     "name": "stdout",
     "output_type": "stream",
     "text": [
      "Okay we are not in Colab just proceed as if nothing happened\n"
     ]
    }
   ],
   "source": [
    "import numpy as np\n",
    "import matplotlib.pyplot as plt\n",
    "import plotly\n",
    "import plotly.graph_objects as go\n",
    "from plotly.subplots import make_subplots\n",
    "from ipywidgets.widgets import interact, interactive\n",
    "\n",
    "%matplotlib inline\n",
    "%config InlineBackend.figure_format = 'retina'\n",
    "\n",
    "try:\n",
    "    from google.colab import output\n",
    "    output.enable_custom_widget_manager()\n",
    "    print('All good to go')\n",
    "except:\n",
    "    print('Okay we are not in Colab just proceed as if nothing happened')"
   ]
  },
  {
   "cell_type": "code",
   "execution_count": 4,
   "metadata": {},
   "outputs": [],
   "source": [
    "#@title load particle in a box wavefunctions and energies for 1D and 2D\n",
    "\n",
    "h, m = 1, 1 \n",
    "hbar = h/(2*np.pi)\n",
    "\n",
    "def Epib1d(n=1, L=1):\n",
    "        '''Calculates energy of 1D PIB state.\n",
    "        Args:\n",
    "        n (int): Quantum number specifying state.\n",
    "        L (float): Box dimensions in Bohr.\n",
    "        Returns:\n",
    "         Float energy value in Ha.\n",
    "        '''\n",
    "\n",
    "        En = (n**2 * np.pi**2 * hbar**2) / (2 * m * L**2)\n",
    "\n",
    "        return En\n",
    "\n",
    "    \n",
    "def psi(x, n=1, L=1):      \n",
    "        '''Numeric representation of the normalized 1D PIB wavefunction.\n",
    "        Args:\n",
    "         x  (float or array): Cartesian spatial values.\n",
    "         n  (int):   Quantum number\n",
    "         L  (float): Box dimensions in Bohr.\n",
    "        Returns:\n",
    "        Wavefunction evaulated at a point or array if input x are arrays.\n",
    "        '''\n",
    "\n",
    "        fn = np.sqrt(2/L)*np.sin(n*np.pi*x/L)\n",
    "\n",
    "        return fn\n",
    "\n",
    "\n",
    "def psi_reg(x, y, z, nx=1, ny=1, nz=1, lx=1, ly=1, lz=1):\n",
    "        '''Numeric representation of the normalized 3D PIB wavefunction.\n",
    "        Args:\n",
    "         x, y, z (float or array): Cartesian spatial values.\n",
    "         q_nx, q_ny, q_nz (int): Quantum numbers specifying state.\n",
    "         lx, ly, lz (int): Box dimensions in Bohr.\n",
    "        Returns:\n",
    "         Wavefunction evaulated at a point or array if input x, y, z are arrays.\n",
    "        '''\n",
    "\n",
    "        return psi(x, nx, lx) * psi(y, ny, ly) * psi(z, nz, lz)\n",
    "\n",
    "\n",
    "def psi_ener(nx, ny, nz, lx, ly, lz):\n",
    "        '''Calculates energy of 3D PIB state.\n",
    "        Args:\n",
    "         qnx, qny, qnz (int): Quantum numbers specifying state.\n",
    "         lx, ly, lz (float): Box dimensions in Bohr.\n",
    "        Returns:\n",
    "         Float energy value in Ha.\n",
    "        '''\n",
    "\n",
    "        return Epib1d(nx, lx) + Epib1d(ny, ly) + Epib1d(nz, lz)"
   ]
  },
  {
   "cell_type": "markdown",
   "metadata": {},
   "source": [
    "### Interactive exploration of 1D quantum particle in a box"
   ]
  },
  {
   "cell_type": "code",
   "execution_count": 7,
   "metadata": {},
   "outputs": [
    {
     "name": "stderr",
     "output_type": "stream",
     "text": [
      "<>:32: SyntaxWarning: invalid escape sequence '\\p'\n",
      "<>:32: SyntaxWarning: invalid escape sequence '\\p'\n",
      "/tmp/ipykernel_3246/3594067934.py:32: SyntaxWarning: invalid escape sequence '\\p'\n",
      "  ax2.set_ylabel('$\\psi_n^2(x)$',fontsize=20)\n"
     ]
    }
   ],
   "source": [
    "def plot_energy_levels(L=1, max_n=1):\n",
    "    \n",
    "    fig, (ax, ax2) = plt.subplots(figsize=(8, 6), ncols=2)\n",
    "\n",
    "    for n in range(1, max_n+1):\n",
    "        \n",
    "        En = Epib1d(n, L)\n",
    "        \n",
    "        ax.hlines(En, 0.5, 1.5, colors='blue', linewidth=2)\n",
    "        ax.text(1.6, En, f\"n={n}, E={En:.2f}\", verticalalignment='center')\n",
    "        \n",
    "    ax.set_xlim(0, 3)\n",
    "    ax.set_ylim(0, Epib1d(n=max_n+1, L=L ))\n",
    "    ax.set_xlabel(\"Particle in a Box\")\n",
    "    ax.set_ylabel(\"Energy\")\n",
    "    ax.set_title(\"Energy Levels of a 1D Quantum Particle in a Box\")\n",
    "    ax.axes.get_xaxis().set_visible(False)\n",
    "    \n",
    "    x = np.linspace(0, L, 1000)\n",
    "    psi1d = psi(x, n=max_n, L=L)\n",
    "   \n",
    "    ax2.fill(x, psi1d**2, color=\"green\", lw=3)\n",
    "    ax2.set_xlim([-0.1, L+0.1])\n",
    "    ax2.set_ylim([0, 4])\n",
    "    \n",
    "    # Put two red lines to indicate boundaries\n",
    "    ax2.axvline(0,0,10*L, color='red',lw=3)\n",
    "    ax2.axvline(L,0,10*L, color='red',lw=3)\n",
    "    \n",
    "    # Label axis\n",
    "    ax2.set_xlabel('x',fontsize=20)\n",
    "    ax2.set_ylabel('$\\psi_n^2(x)$',fontsize=20)\n",
    "    \n",
    "    #Put tiltle\n",
    "    ax2.set_title('n='+str(n))\n",
    "    \n",
    "    plt.tight_layout()\n",
    "    plt.show()"
   ]
  },
  {
   "cell_type": "code",
   "execution_count": 8,
   "metadata": {},
   "outputs": [
    {
     "ename": "",
     "evalue": "",
     "output_type": "error",
     "traceback": [
      "\u001b[1;31mFailed to connect to the remote Jupyter Server 'https://jupyter-server-qv55gqxjw4xcx7p5-8888.app.github.dev/'. Verify the server is running and reachable."
     ]
    }
   ],
   "source": [
    "interact(plot_energy_levels, L=(0.5,2), max_n=(1,10))"
   ]
  },
  {
   "cell_type": "markdown",
   "metadata": {},
   "source": [
    "### Particle in 3D Box"
   ]
  },
  {
   "cell_type": "code",
   "execution_count": null,
   "metadata": {},
   "outputs": [],
   "source": [
    "def pib3d_plotly(nx=1, ny=1, nz=1, lx=10, ly=10, lz=10):\n",
    "  '''Displays and saves isosurface of 3D PIB wavefunction.\n",
    "  Args:\n",
    "      nx_val, ny_val, nz_val (int): Quantum numbers specifying state.\n",
    "      lx, ly, lz (int): Box dimensions in Bohr.\n",
    "      psi_square (bool): Calculate prob. density (true) or wavefunction (false).\n",
    "      plot_save (bool): Save a .png file of display.\n",
    "  '''\n",
    "  # construct 3d grid of points\n",
    "  nx_p, ny_p, nz_p = 7 * lx, 7 * ly, 7 * lz\n",
    "  xp, yp, zp       = np.linspace(0, lx, nx_p), np.linspace(0, ly, ny_p), np.linspace(0, lz, nz_p)\n",
    "  X, Y, Z          = np.meshgrid(xp, yp, zp, indexing='ij')\n",
    "  psi              = psi_reg(X, Y, Z, nx, ny, nz, lx, ly, lz)\n",
    "  psi2             = psi**2\n",
    "  mean_dens        = psi2.mean()\n",
    "\n",
    "  figure = go.Figure(data=go.Isosurface(\n",
    "  x=X.flatten(),\n",
    "  y=Y.flatten(),\n",
    "  z=Z.flatten(),\n",
    "  value=psi2.flatten(), # pis or psi2\n",
    "  colorscale='BlueRed',\n",
    "  isomin= -mean_dens,\n",
    "  isomax=  mean_dens,\n",
    "  surface_count=2,\n",
    "  showscale=False,\n",
    "  caps=dict(x_show=False, y_show=False, z_show=False)\n",
    "  ))\n",
    "\n",
    "  figure.update_layout(scene = dict(\n",
    "                  xaxis_title='x',\n",
    "                  yaxis_title='y',\n",
    "                  zaxis_title='z',\n",
    "                  aspectmode='data'),\n",
    "                  width=800,\n",
    "                  height=500,\n",
    "                  title_text=f'Prob. Den., isovalue = {mean_dens:.4f}')\n",
    "\n",
    "  figure.show()"
   ]
  },
  {
   "cell_type": "code",
   "execution_count": null,
   "metadata": {},
   "outputs": [],
   "source": [
    "interact(pib3d_plotly, nx=(1,10), ny=(1,10), nz=(1,10), lx=(1,10), ly=(1,10), lz=(1,10))"
   ]
  },
  {
   "cell_type": "markdown",
   "metadata": {},
   "source": [
    "### Visualize energy levels of 3D PIB"
   ]
  },
  {
   "cell_type": "code",
   "execution_count": null,
   "metadata": {},
   "outputs": [],
   "source": [
    "def plot_energy_levels(nx_max=10, ny_max=10, nz_max=10, lx=1, ly=1, lz=1):\n",
    "\n",
    "    fig, ax = plt.subplots(figsize=(8, 6))\n",
    "\n",
    "    for nx in range(1, nx_max+1):\n",
    "\n",
    "        Enx = Epib1d(nx, lx)\n",
    "        ax.hlines(Enx, 0.6, 1, colors='blue', linewidth=2)\n",
    "\n",
    "    for ny in range(1, ny_max+1):\n",
    "\n",
    "        Eny = Epib1d(ny, ly)\n",
    "        ax.hlines(Eny, 1.1, 1.5, colors='green', linewidth=2)\n",
    "\n",
    "    for nz in range(1, nz_max+1):\n",
    "\n",
    "        Enz = Epib1d(nz, lz)\n",
    "        ax.hlines(Enz, 1.6, 2.0, colors='yellow', linewidth=2)\n",
    "\n",
    "\n",
    "    E_max =     Epib1d(nx_max+1, lx)+Epib1d(ny_max+1, ly)+Epib1d(nz_max+1, lz)\n",
    "    ax.set_xlim(0.5, 2.1)\n",
    "    ax.set_ylim(0, E_max)\n",
    "    ax.set_xlabel(\"Particle in a 3d Box\")\n",
    "    ax.set_ylabel(\"Energy\")\n",
    "    ax.set_title(f\"Energy Levels of a 3D Quantum Particle in a Box E={E_max:2f}\")\n",
    "    ax.axes.get_xaxis().set_visible(False)\n",
    "\n",
    "    plt.tight_layout()\n",
    "    plt.show()"
   ]
  },
  {
   "cell_type": "code",
   "execution_count": null,
   "metadata": {},
   "outputs": [],
   "source": [
    "interact(plot_energy_levels, nx=(1,10), ny=(1,10), nz=(1,10), lx=(1,10), ly=(1,10), lz=(1,10))"
   ]
  },
  {
   "cell_type": "markdown",
   "metadata": {},
   "source": [
    "### Symbolic evaluations of Paritcle in a box integrals"
   ]
  },
  {
   "cell_type": "code",
   "execution_count": null,
   "metadata": {},
   "outputs": [],
   "source": [
    "from sympy import symbols, sqrt, sin, pi, diff, integrate, simplify, pprint, init_printing\n",
    "\n",
    "# Initialize pretty printing\n",
    "init_printing()\n",
    "\n",
    "# Define symbols\n",
    "x, L, n, hbar = symbols('x L n hbar', real=True, positive=True)"
   ]
  },
  {
   "cell_type": "markdown",
   "metadata": {},
   "source": [
    "#### Step 1: Define the wavefunction"
   ]
  },
  {
   "cell_type": "code",
   "execution_count": null,
   "metadata": {},
   "outputs": [],
   "source": [
    "psi_n = sqrt(2/L) * sin(n * pi * x / L)\n",
    "\n",
    "print(\"Wavefunction ψ_n(x):\")\n",
    "\n",
    "pprint(psi_n)\n"
   ]
  },
  {
   "cell_type": "markdown",
   "metadata": {},
   "source": [
    "#### Step 2: Compute the second derivative of ψ_n(x)"
   ]
  },
  {
   "cell_type": "code",
   "execution_count": null,
   "metadata": {},
   "outputs": [],
   "source": [
    "d2psi_dx2 = diff(psi_n, x, x)\n",
    "\n",
    "print(\"Second derivative d²ψ_n/dx²:\")\n",
    "\n",
    "pprint(d2psi_dx2)\n"
   ]
  },
  {
   "cell_type": "markdown",
   "metadata": {},
   "source": [
    "#### Step 3: Apply the momentum squared operator: -ħ² d²ψ_n/dx²"
   ]
  },
  {
   "cell_type": "code",
   "execution_count": null,
   "metadata": {},
   "outputs": [],
   "source": [
    "op_psi = -hbar**2 * d2psi_dx2\n",
    "\n",
    "print(\"Momentum operator applied to ψ_n(x): -ħ² d²ψ_n/dx²:\")\n",
    "\n",
    "pprint(op_psi)\n",
    "\n"
   ]
  },
  {
   "cell_type": "markdown",
   "metadata": {},
   "source": [
    "#### Step 4: Compute the integrand ψ_n(x) * op_ψ_n(x)"
   ]
  },
  {
   "cell_type": "code",
   "execution_count": null,
   "metadata": {},
   "outputs": [],
   "source": [
    "\n",
    "integrand = psi_n * op_psi\n",
    "\n",
    "print(\"Integrand ψ_n(x) * (-ħ² d²ψ_n/dx²):\")\n",
    "\n",
    "pprint(integrand)\n",
    "\n"
   ]
  },
  {
   "cell_type": "markdown",
   "metadata": {},
   "source": [
    "#### Step 5: Compute the expectation value ⟨p²⟩"
   ]
  },
  {
   "cell_type": "code",
   "execution_count": null,
   "metadata": {},
   "outputs": [],
   "source": [
    "expectation = integrate(integrand, (x, 0, L))\n",
    "\n",
    "print(\"Expectation value ⟨p²⟩ before simplification:\")\n",
    "\n",
    "pprint(expectation)"
   ]
  },
  {
   "cell_type": "markdown",
   "metadata": {},
   "source": [
    "#### Step 6: Simplify the result"
   ]
  },
  {
   "cell_type": "code",
   "execution_count": null,
   "metadata": {},
   "outputs": [],
   "source": [
    "expectation_simplified = simplify(expectation)\n",
    "\n",
    "print(\"Simplified expectation value ⟨p²⟩:\")\n",
    "\n",
    "pprint(expectation_simplified)"
   ]
  }
 ],
 "metadata": {
  "kernel_info": {
   "name": "python3"
  },
  "kernelspec": {
   "display_name": "Python 3 (ipykernel)",
   "language": "python",
   "name": "python3"
  },
  "language_info": {
   "codemirror_mode": {
    "name": "ipython",
    "version": 3
   },
   "file_extension": ".py",
   "mimetype": "text/x-python",
   "name": "python",
   "nbconvert_exporter": "python",
   "pygments_lexer": "ipython3",
   "version": "3.12.1"
  },
  "nteract": {
   "version": "0.15.0"
  },
  "widgets": {
   "state": {
    "4a29fc959ce641ada994e2831dc7dc26": {
     "views": [
      {
       "cell_index": 2
      }
     ]
    }
   },
   "version": "1.2.0"
  }
 },
 "nbformat": 4,
 "nbformat_minor": 2
}
