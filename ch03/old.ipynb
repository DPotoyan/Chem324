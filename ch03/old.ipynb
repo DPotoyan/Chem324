{
 "cells": [
  {
   "cell_type": "markdown",
   "metadata": {},
   "source": []
  },
  {
   "cell_type": "markdown",
   "metadata": {},
   "source": [
    ":::{admonition} **What you need to know**\n",
    "\n",
    "- The **finite depth box** is a more realistic model compared to the infinite potential well, as it allows for the possibility of quantum tunneling, where the particle has a non-zero probability of being found outside the well. \n",
    "- The potential energy function is finite in the central region and zero outside. The time-independent Schrödinger equation is solved in three regions, with different forms of wavefunctions in each. - Bound states are possible due to the confinement of the particle, but the energy levels are determined by matching the wavefunction and its derivative at the boundaries, leading to transcendental equations. \n",
    "- Unlike the infinite well, the number of bound states is finite, and the wavefunctions extend slightly outside the well, illustrating the quantum tunneling effect. \n",
    "- Understanding the **boundary conditions** and the **behavior of the wavefunctions** in each region is key to solving this problem.\n",
    ":::"
   ]
  },
  {
   "cell_type": "markdown",
   "metadata": {},
   "source": [
    "### Particle in a Finite Depth Box\n",
    "\n",
    "In quantum mechanics, the **finite potential well** (or finite depth box) describes a particle confined within a potential well where the potential energy is finite in some regions and zero (or a constant) elsewhere. This is a more realistic model compared to the infinite potential well, as it allows the particle to have a non-zero probability of being found outside the box, representing tunneling."
   ]
  },
  {
   "cell_type": "markdown",
   "metadata": {},
   "source": [
    "\n",
    "### Potential Energy Function\n",
    "\n",
    "The potential energy for a finite potential well is typically defined as:\n",
    "\n",
    "$$\n",
    "V(x) = \n",
    "\\begin{cases} \n",
    "0 & x < -a \\\\\n",
    "V_0 & -a \\leq x \\leq a \\\\\n",
    "0 & x > a \n",
    "\\end{cases}\n",
    "$$\n",
    "\n",
    "where $V_0$ is the depth of the well, and $2a$ is the width of the well."
   ]
  },
  {
   "cell_type": "markdown",
   "metadata": {},
   "source": [
    "\n",
    "### Schrödinger Equation\n",
    "\n",
    "The time-independent Schrödinger equation for a particle of mass $m$ is:\n",
    "\n",
    "$$\n",
    "\\hat{H} \\psi(x) = E \\psi(x)\n",
    "$$\n",
    "\n",
    "where $\\hat{H}$ is the Hamiltonian operator. In one dimension, this becomes:\n",
    "\n",
    "$$\n",
    "-\\frac{\\hbar^2}{2m} \\frac{d^2 \\psi(x)}{dx^2} + V(x)\\psi(x) = E\\psi(x)\n",
    "$$\n",
    "\n",
    "We solve this equation in three regions:\n",
    "1. $x < -a$ (Region I)\n",
    "2. $-a \\leq x \\leq a$ (Region II)\n",
    "3. $x > a$ (Region III)"
   ]
  },
  {
   "cell_type": "markdown",
   "metadata": {
    "vscode": {
     "languageId": "plaintext"
    }
   },
   "source": [
    "### Region I, decaying behaviour: $x < -a$\n",
    "\n",
    "For $x < -a$, the potential $V(x) = V_0$, and the Schrödinger equation simplifies to:\n",
    "\n",
    "$$\n",
    "-\\frac{\\hbar^2}{2m} \\frac{d^2 \\psi(x)}{dx^2}+V_0\\psi(x) = E\\psi(x)\n",
    "$$\n",
    "\n",
    "The general solution is:\n",
    "\n",
    "$$\n",
    "\\psi_I(x) = A e^{\\kappa x}\n",
    "$$\n",
    "\n",
    "$$\\kappa = \\frac{\\sqrt{2m(V_0-E)}}{\\hbar}$$\n",
    "\n",
    "and we discard the growing exponential due to boundary conditions (the wavefunction must remain finite as $x \\to -\\infty$).\n",
    "\n",
    "### Region II and Oscillatory behavior: $-a \\leq x \\leq a$ \n",
    "\n",
    "For $-a \\leq x \\leq a$, the potential $V(x)=0$, so the Schrödinger equation is:\n",
    "\n",
    "$$\n",
    "-\\frac{\\hbar^2}{2m} \\frac{d^2 \\psi(x)}{dx^2} = E \\psi(x)\n",
    "$$\n",
    "\n",
    "This simplifies to:\n",
    "\n",
    "$$\n",
    "\\frac{d^2 \\psi(x)}{dx^2} = k^2 \\psi(x)\n",
    "$$\n",
    "\n",
    "where $k = \\frac{\\sqrt{-2m(E)}}{\\hbar}$, with the general solution:\n",
    "\n",
    "$$\n",
    "\\psi_{II}(x) = B \\sin(kx) + C \\cos(kx)\n",
    "$$\n",
    "\n",
    "### Region III, Decaying behaviour: $x > a$\n",
    "\n",
    "For $x > a$, $V(x) = V_0$, and the Schrödinger equation is the same as in Region I. The solution is:\n",
    "\n",
    "$$\n",
    "\\psi_{III}(x) = D e^{-\\kappa x}\n",
    "$$\n",
    "\n",
    "Again, we discard the growing exponential for the same reason as in Region I."
   ]
  },
  {
   "cell_type": "markdown",
   "metadata": {},
   "source": [
    ":::{admonition} **Behavior of wavefunction**\n",
    ":tip, important\n",
    "\n",
    "- Exponent dicated by total and potential energy difference\n",
    "\n",
    "$$\\kappa = \\frac{\\sqrt{2m(V_0-E)}}{\\hbar}$$\n",
    "\n",
    "- Wavefunction decays outside of the box when $E<V_0$\n",
    "\n",
    "$$\\psi(x) = const \\cdot  e^{\\pm \\kappa x}$$ \n",
    "\n",
    "\n",
    "- Wavefunction oscillates inside of the box $E>V_0$\n",
    "\n",
    "$$\\psi(x) = const \\cdot  e^{\\pm \\kappa x}$$ \n",
    "\n",
    ":::"
   ]
  },
  {
   "cell_type": "markdown",
   "metadata": {},
   "source": [
    "### Boundary Conditions and Continuity of Wavefunctions\n",
    "\n",
    "To find the allowed energy levels $E$, we apply the following boundary conditions:\n",
    "\n",
    "1. Continuity of $\\psi(x)$ and $\\frac{d\\psi(x)}{dx}$ at $x = -a$ and $x = a$.\n",
    "\n",
    "2. The wavefunctions and their derivatives must match at the boundaries. This leads to transcendental equations that can be solved numerically for $E$.\n",
    "\n",
    "3. The wavefunctions in each region, normalized, represent the particle's probability of being found in different parts of the potential well. \n",
    "4. The solutions indicate that there is a non-zero probability of finding the particle outside the well **(tunneling effect)**, a characteristic feature of the finite well that is absent in the infinite well case.\n",
    "\n",
    "### Energy Quantization\n",
    "\n",
    ":::{figure-md} markdown-fig\n",
    "<img src=\"./images/fin_pib.png\" alt=\"pib1\" class=\"bg-primary mb-1\" width=\"300px\">\n",
    "\n",
    "Allowed energy levels and correspond- ing eigenfunctions for a finite depth box. The yellow areas are classically forbidden because $E<V_0$\n",
    ":::\n",
    "\n",
    "The energy eigenvalues are not easily expressible in closed form due to the transcendental nature of the equations, but the solutions generally depend on both the depth $V_0$ and the width $2a$ of the well. As $V_0 \\to \\infty$, the solution approaches that of the infinite potential well:\n",
    "\n",
    "$$\n",
    "E_n = \\frac{n^2 \\pi^2 \\hbar^2}{2m(2a)^2}\n",
    "$$\n",
    "\n",
    "For finite $V_0$, there are a finite number of bound states, each corresponding to a specific energy eigenvalue.\n",
    "\n",
    "### Bound vs unbound states\n",
    "\n",
    "- The falloff of wavefunction is not the same for all wavefunctions.\n",
    "- For lower energy states, or more tightly bound states of electron wavefunction decays more rapidly\n",
    "- For higher eneergy states or more loosely bound states decay becomes slower and slower\n",
    "\n",
    ":::{figure-md} markdown-fig\n",
    "<img src=\"./images/decay_psi.png\" alt=\"pib1\" class=\"bg-primary mb-1\" width=\"300px\">\n",
    "\n",
    "Decrease of the amplitude of the eigen- functions as a function of distance from the center of the box. All eigenfunctions have been normalized to the value one\n",
    "at x = 5.00 * 10-10 m for purposes of comparison.\n",
    ":::\n",
    "\n",
    "\n",
    "### Energy Conservation\n",
    "\n",
    "- Quantum tunneling and the presence of the particle in classically forbidden regions do not violate energy conservation. Even though the particle \"exists\" in these regions, its total energy is still conserved. The key point is that energy conservation applies to the average (expectation) value of the energy in quantum mechanics, and the particle's energy remains constant throughout.\n",
    "\n",
    "- In the classically forbidden region, the particle's kinetic energy is effectively negative in the quantum mechanical framework (since $E - V(x) < 0$), but this doesn't represent a physical violation. Instead, it's a reflection of the fact that the wavefunction is not oscillatory but decaying, meaning the particle is less likely to be found there. Hence, quantum mechanics allows for the existence of the particle in regions where classical mechanics would forbid it, without violating any fundamental laws such as energy conservation."
   ]
  },
  {
   "cell_type": "markdown",
   "metadata": {},
   "source": [
    "### Qualitative trends in wavefunction beahviour\n",
    "\n",
    ":::{figure-md} markdown-fig\n",
    "<img src=\"./images/gen_psi1.png\" alt=\"pib1\" class=\"bg-primary mb-1\" width=\"400px\">\n",
    "\n",
    "Judging by the signs of the various terms of schrodinger equation we can predict qualtiatively how wavefunction would beahave. \n",
    ":::\n",
    "\n",
    "\n",
    ":::{figure-md} markdown-fig\n",
    "<img src=\"./images/gen_psi2.png\" alt=\"pib1\" class=\"bg-primary mb-1\" width=\"400px\">\n",
    "\n",
    "Example of a stepped potential and expected behaviour of the wavefunction.\n",
    ":::"
   ]
  }
 ],
 "metadata": {
  "language_info": {
   "name": "python"
  }
 },
 "nbformat": 4,
 "nbformat_minor": 2
}
